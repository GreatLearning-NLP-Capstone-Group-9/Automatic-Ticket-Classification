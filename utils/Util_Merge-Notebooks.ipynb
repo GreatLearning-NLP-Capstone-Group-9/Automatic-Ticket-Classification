{
 "cells": [
  {
   "cell_type": "code",
   "execution_count": 1,
   "metadata": {},
   "outputs": [],
   "source": [
    "import nbconvert, nbformat"
   ]
  },
  {
   "cell_type": "code",
   "execution_count": 2,
   "metadata": {},
   "outputs": [],
   "source": [
    "eda_nb = nbformat.read('../notebooks/EDA-ITER1.ipynb', 4)\n",
    "ml_nb = nbformat.read('../notebooks/Base ML Models-ITER2.ipynb', 4)\n",
    "dl1_nb = nbformat.read('../notebooks/All Classes DL Models_Merged_Description.ipynb', 4)\n",
    "dl2_nb = nbformat.read('../notebooks/Binary Classifier DL Models_Merged_Description.ipynb', 4)"
   ]
  },
  {
   "cell_type": "code",
   "execution_count": 3,
   "metadata": {},
   "outputs": [],
   "source": [
    "merged_nb = nbformat.v4.new_notebook(metadata=eda_nb.metadata)"
   ]
  },
  {
   "cell_type": "code",
   "execution_count": 4,
   "metadata": {},
   "outputs": [],
   "source": [
    "merged_nb.cells = eda_nb.cells + ml_nb.cells + dl1_nb.cells + dl2_nb.cells"
   ]
  },
  {
   "cell_type": "code",
   "execution_count": 5,
   "metadata": {},
   "outputs": [],
   "source": [
    "nbformat.write(merged_nb, '../Merged-1.ipynb')"
   ]
  },
  {
   "cell_type": "code",
   "execution_count": null,
   "metadata": {},
   "outputs": [],
   "source": []
  }
 ],
 "metadata": {
  "kernelspec": {
   "display_name": "Python 3",
   "language": "python",
   "name": "python3"
  },
  "language_info": {
   "codemirror_mode": {
    "name": "ipython",
    "version": 3
   },
   "file_extension": ".py",
   "mimetype": "text/x-python",
   "name": "python",
   "nbconvert_exporter": "python",
   "pygments_lexer": "ipython3",
   "version": "3.8.5"
  }
 },
 "nbformat": 4,
 "nbformat_minor": 4
}
