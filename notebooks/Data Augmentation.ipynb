{
 "cells": [
  {
   "cell_type": "markdown",
   "metadata": {
    "id": "i03gAv7YL4Zc"
   },
   "source": [
    "## Data Augmentation with MarianMT using Back-Translation"
   ]
  },
  {
   "cell_type": "markdown",
   "metadata": {
    "id": "jfzqY83nNi9B"
   },
   "source": [
    "### Initialize the models for English <-> Foreign Languages\n"
   ]
  },
  {
   "cell_type": "code",
   "execution_count": 1,
   "metadata": {
    "id": "LOdiKZw8Mlmr"
   },
   "outputs": [],
   "source": [
    "import warnings\n",
    "import random\n",
    "warnings.filterwarnings('ignore')\n",
    "\n",
    "import pandas as pd\n",
    "from tqdm import trange\n",
    "from transformers import MarianMTModel, MarianTokenizer\n",
    "\n",
    "target_model_name = 'Helsinki-NLP/opus-mt-en-ROMANCE'\n",
    "target_tokenizer = MarianTokenizer.from_pretrained(target_model_name)\n",
    "target_model = MarianMTModel.from_pretrained(target_model_name)\n",
    "\n",
    "en_model_name = 'Helsinki-NLP/opus-mt-ROMANCE-en'\n",
    "en_tokenizer = MarianTokenizer.from_pretrained(en_model_name)\n",
    "en_model = MarianMTModel.from_pretrained(en_model_name)"
   ]
  },
  {
   "cell_type": "code",
   "execution_count": 2,
   "metadata": {
    "id": "Znzwr4ESMl8-"
   },
   "outputs": [],
   "source": [
    "def translate(texts, model, tokenizer, language=\"fr\"):\n",
    "    \"\"\"Prepare the text data into appropriate format for the model\"\"\"\n",
    "    template = lambda text: f\"{text}\" if language == \"en\" else f\">>{language}<< {text}\"\n",
    "    src_texts = [template(text) for text in texts]\n",
    "\n",
    "    # Tokenize the texts\n",
    "    encoded = tokenizer.prepare_seq2seq_batch(src_texts,\n",
    "                                              return_tensors='pt')\n",
    "    \n",
    "    # Generate translation using model\n",
    "    translated = model.generate(**encoded)\n",
    "\n",
    "    # Convert the generated tokens indices back into text\n",
    "    translated_texts = tokenizer.batch_decode(translated, skip_special_tokens=True)\n",
    "    \n",
    "    return translated_texts"
   ]
  },
  {
   "cell_type": "code",
   "execution_count": 3,
   "metadata": {
    "id": "x4qAFGoxMCIe"
   },
   "outputs": [],
   "source": [
    "def back_translate(texts, source_lang=\"en\", target_lang=\"fr\", verbose=False):\n",
    "    \"\"\"translate to target language and back to source language\"\"\"\n",
    "    target_lang_texts = translate(texts,\n",
    "                                  target_model,\n",
    "                                  target_tokenizer,\n",
    "                                  language=target_lang)\n",
    "    if verbose:\n",
    "        print('Intermediate Target Language texts:')\n",
    "        print(target_lang_texts)\n",
    "    # Translate from target language back to source language\n",
    "    back_translated_texts = translate(target_lang_texts, en_model, en_tokenizer, \n",
    "                                      language=source_lang)\n",
    "    \n",
    "    back_translated_texts = [t for t in back_translated_texts if t not in texts]\n",
    "    return back_translated_texts"
   ]
  },
  {
   "cell_type": "markdown",
   "metadata": {
    "id": "ukCriTa_NBDD"
   },
   "source": [
    "### Perform Augmentation using English <-> Spanish"
   ]
  },
  {
   "cell_type": "code",
   "execution_count": 4,
   "metadata": {
    "id": "pf50Gr0uMqPU"
   },
   "outputs": [],
   "source": [
    "en_texts = ['Cannot access website', 'I hated the food', \"I can't login to my vpn\"]"
   ]
  },
  {
   "cell_type": "code",
   "execution_count": 5,
   "metadata": {
    "id": "S02z5qU3Mqft"
   },
   "outputs": [
    {
     "name": "stdout",
     "output_type": "stream",
     "text": [
      "Intermediate Target Language texts:\n",
      "['No se puede acceder al sitio web', 'Odiaba la comida.', 'No puedo acceder a mi vpn']\n",
      "['Cannot access the website', 'I hated food.', \"I can't access my vpn\"]\n"
     ]
    }
   ],
   "source": [
    "aug_texts = back_translate(en_texts, source_lang=\"en\", target_lang=\"es\", verbose=True)\n",
    "print(aug_texts)"
   ]
  },
  {
   "cell_type": "markdown",
   "metadata": {},
   "source": [
    "### Perform Augmentation using English <-> Italian"
   ]
  },
  {
   "cell_type": "code",
   "execution_count": 6,
   "metadata": {},
   "outputs": [
    {
     "name": "stdout",
     "output_type": "stream",
     "text": [
      "Intermediate Target Language texts:\n",
      "['Impossibile accedere al sito web', 'Odiavo il cibo.', 'Non posso accedere al mio vpn']\n",
      "['Unable to access website', 'I hated food.', \"I can't access my vpn\"]\n"
     ]
    }
   ],
   "source": [
    "aug_texts = back_translate(en_texts, source_lang=\"en\", target_lang=\"it\", verbose=True)\n",
    "print(aug_texts)"
   ]
  },
  {
   "cell_type": "markdown",
   "metadata": {
    "id": "YmJr3LJnNCnC"
   },
   "source": [
    "### Perform Augmentation using English <-> French\n",
    "\n"
   ]
  },
  {
   "cell_type": "code",
   "execution_count": 7,
   "metadata": {
    "id": "iCoE4ZWsMrx_"
   },
   "outputs": [
    {
     "name": "stdout",
     "output_type": "stream",
     "text": [
      "Intermediate Target Language texts:\n",
      "[\"Impossible d'accéder au site Web\", \"J'ai détesté la nourriture.\", 'Je ne peux pas me connecter à mon vpn']\n",
      "['Unable to access website', 'I hated food.', \"I can't connect to my vpn\"]\n"
     ]
    }
   ],
   "source": [
    "aug_texts = back_translate(en_texts, source_lang=\"en\", target_lang=\"fr\", verbose=True)\n",
    "print(aug_texts)"
   ]
  },
  {
   "cell_type": "code",
   "execution_count": 8,
   "metadata": {
    "id": "9meRHgeiRH21"
   },
   "outputs": [],
   "source": [
    "dataset = pd.read_csv('./data/preprocessed_data_groups.csv')"
   ]
  },
  {
   "cell_type": "code",
   "execution_count": 9,
   "metadata": {
    "id": "0eEqB8mDZhVG"
   },
   "outputs": [],
   "source": [
    "minority_class_descr = dataset[dataset.label == 1].translated_description.tolist()"
   ]
  },
  {
   "cell_type": "code",
   "execution_count": 10,
   "metadata": {
    "id": "QtDZV_VxhoHx"
   },
   "outputs": [
    {
     "data": {
      "text/plain": [
       "2514"
      ]
     },
     "execution_count": 10,
     "metadata": {},
     "output_type": "execute_result"
    }
   ],
   "source": [
    "len(minority_class_descr)"
   ]
  },
  {
   "cell_type": "code",
   "execution_count": 11,
   "metadata": {
    "id": "6DQ2E3YehwKi"
   },
   "outputs": [
    {
     "name": "stderr",
     "output_type": "stream",
     "text": [
      "100%|██████████████████████████████████████████████████████████████████████████████████████████████████████████████████████████████████████████████████████████████████████████████████████████████████| 838/838 [10:33:31<00:00, 45.36s/it]\n"
     ]
    },
    {
     "data": {
      "text/plain": [
       "2514"
      ]
     },
     "execution_count": 11,
     "metadata": {},
     "output_type": "execute_result"
    }
   ],
   "source": [
    "size = 3\n",
    "augmented = list()\n",
    "for i in trange(len(minority_class_descr)//size):\n",
    "    subset = minority_class_descr[i*size:(i+1)*size]\n",
    "    augmented.append(back_translate(subset, source_lang=\"en\", target_lang=\"es\"))\n",
    "    augmented.append(back_translate(subset, source_lang=\"en\", target_lang=\"it\"))\n",
    "    augmented.append(back_translate(subset, source_lang=\"en\", target_lang=\"fr\"))\n",
    "\n",
    "len(augmented)"
   ]
  },
  {
   "cell_type": "code",
   "execution_count": 12,
   "metadata": {
    "id": "9gGQ5iW0XeSV"
   },
   "outputs": [
    {
     "data": {
      "text/plain": [
       "7202"
      ]
     },
     "execution_count": 12,
     "metadata": {},
     "output_type": "execute_result"
    }
   ],
   "source": [
    "augmented = [i for j in augmented for i in j]\n",
    "augmented = [i for i in augmented if i not in minority_class_descr]\n",
    "len(augmented)"
   ]
  },
  {
   "cell_type": "code",
   "execution_count": 13,
   "metadata": {},
   "outputs": [
    {
     "data": {
      "text/plain": [
       "0    5985\n",
       "1    2514\n",
       "Name: label, dtype: int64"
      ]
     },
     "execution_count": 13,
     "metadata": {},
     "output_type": "execute_result"
    }
   ],
   "source": [
    "dataset.label.value_counts()"
   ]
  },
  {
   "cell_type": "code",
   "execution_count": 14,
   "metadata": {
    "id": "Acmnh60xaQut"
   },
   "outputs": [
    {
     "data": {
      "text/plain": [
       "0       event critical hostname company with value mou...\n",
       "1       duplicate soft network two devices try sharing...\n",
       "2       problem solving printer work printer replaceme...\n",
       "3       critical event hostname company with value mou...\n",
       "4       duplicate delicate network two devices test sh...\n",
       "                              ...                        \n",
       "7197    no this operation impossible access macne util...\n",
       "7198    multiple pc can not be opened versceden prgram...\n",
       "7199              come receive e-mail send zz mail advice\n",
       "7200    no this operation inaccessible macne utility f...\n",
       "7201       multiple pc can not be opened prgramdntyme cnc\n",
       "Length: 7202, dtype: object"
      ]
     },
     "execution_count": 14,
     "metadata": {},
     "output_type": "execute_result"
    }
   ],
   "source": [
    "pd.Series(augmented)"
   ]
  },
  {
   "cell_type": "code",
   "execution_count": 15,
   "metadata": {},
   "outputs": [
    {
     "data": {
      "text/html": [
       "<div>\n",
       "<style scoped>\n",
       "    .dataframe tbody tr th:only-of-type {\n",
       "        vertical-align: middle;\n",
       "    }\n",
       "\n",
       "    .dataframe tbody tr th {\n",
       "        vertical-align: top;\n",
       "    }\n",
       "\n",
       "    .dataframe thead th {\n",
       "        text-align: right;\n",
       "    }\n",
       "</style>\n",
       "<table border=\"1\" class=\"dataframe\">\n",
       "  <thead>\n",
       "    <tr style=\"text-align: right;\">\n",
       "      <th></th>\n",
       "      <th>translated_description</th>\n",
       "      <th>keywords</th>\n",
       "      <th>short_description</th>\n",
       "      <th>description</th>\n",
       "      <th>group</th>\n",
       "      <th>cleaned_description</th>\n",
       "      <th>cleaned_short_description</th>\n",
       "      <th>merged_description</th>\n",
       "      <th>char_length</th>\n",
       "      <th>word_length</th>\n",
       "      <th>short_char_length</th>\n",
       "      <th>short_word_length</th>\n",
       "      <th>language</th>\n",
       "      <th>language_confidence</th>\n",
       "      <th>label</th>\n",
       "    </tr>\n",
       "  </thead>\n",
       "  <tbody>\n",
       "    <tr>\n",
       "      <th>3264</th>\n",
       "      <td>reset password sid sid bubble user kindly make...</td>\n",
       "      <td>NaN</td>\n",
       "      <td>NaN</td>\n",
       "      <td>NaN</td>\n",
       "      <td>NaN</td>\n",
       "      <td>NaN</td>\n",
       "      <td>NaN</td>\n",
       "      <td>NaN</td>\n",
       "      <td>NaN</td>\n",
       "      <td>NaN</td>\n",
       "      <td>NaN</td>\n",
       "      <td>NaN</td>\n",
       "      <td>NaN</td>\n",
       "      <td>NaN</td>\n",
       "      <td>1</td>\n",
       "    </tr>\n",
       "    <tr>\n",
       "      <th>1296</th>\n",
       "      <td>hostname volume tag dat hostname server eafe s...</td>\n",
       "      <td>NaN</td>\n",
       "      <td>NaN</td>\n",
       "      <td>NaN</td>\n",
       "      <td>NaN</td>\n",
       "      <td>NaN</td>\n",
       "      <td>NaN</td>\n",
       "      <td>NaN</td>\n",
       "      <td>NaN</td>\n",
       "      <td>NaN</td>\n",
       "      <td>NaN</td>\n",
       "      <td>NaN</td>\n",
       "      <td>NaN</td>\n",
       "      <td>NaN</td>\n",
       "      <td>1</td>\n",
       "    </tr>\n",
       "    <tr>\n",
       "      <th>4760</th>\n",
       "      <td>work hr payroll n or work programmer failure</td>\n",
       "      <td>NaN</td>\n",
       "      <td>NaN</td>\n",
       "      <td>NaN</td>\n",
       "      <td>NaN</td>\n",
       "      <td>NaN</td>\n",
       "      <td>NaN</td>\n",
       "      <td>NaN</td>\n",
       "      <td>NaN</td>\n",
       "      <td>NaN</td>\n",
       "      <td>NaN</td>\n",
       "      <td>NaN</td>\n",
       "      <td>NaN</td>\n",
       "      <td>NaN</td>\n",
       "      <td>1</td>\n",
       "    </tr>\n",
       "    <tr>\n",
       "      <th>5656</th>\n",
       "      <td>The Commission has adopted a proposal for a Co...</td>\n",
       "      <td>NaN</td>\n",
       "      <td>NaN</td>\n",
       "      <td>NaN</td>\n",
       "      <td>NaN</td>\n",
       "      <td>NaN</td>\n",
       "      <td>NaN</td>\n",
       "      <td>NaN</td>\n",
       "      <td>NaN</td>\n",
       "      <td>NaN</td>\n",
       "      <td>NaN</td>\n",
       "      <td>NaN</td>\n",
       "      <td>NaN</td>\n",
       "      <td>NaN</td>\n",
       "      <td>1</td>\n",
       "    </tr>\n",
       "    <tr>\n",
       "      <th>3027</th>\n",
       "      <td>appear pdf output engineering tool dear bhughj...</td>\n",
       "      <td>NaN</td>\n",
       "      <td>NaN</td>\n",
       "      <td>NaN</td>\n",
       "      <td>NaN</td>\n",
       "      <td>NaN</td>\n",
       "      <td>NaN</td>\n",
       "      <td>NaN</td>\n",
       "      <td>NaN</td>\n",
       "      <td>NaN</td>\n",
       "      <td>NaN</td>\n",
       "      <td>NaN</td>\n",
       "      <td>NaN</td>\n",
       "      <td>NaN</td>\n",
       "      <td>1</td>\n",
       "    </tr>\n",
       "    <tr>\n",
       "      <th>779</th>\n",
       "      <td>system system system system system system syst...</td>\n",
       "      <td>NaN</td>\n",
       "      <td>NaN</td>\n",
       "      <td>NaN</td>\n",
       "      <td>NaN</td>\n",
       "      <td>NaN</td>\n",
       "      <td>NaN</td>\n",
       "      <td>NaN</td>\n",
       "      <td>NaN</td>\n",
       "      <td>NaN</td>\n",
       "      <td>NaN</td>\n",
       "      <td>NaN</td>\n",
       "      <td>NaN</td>\n",
       "      <td>NaN</td>\n",
       "      <td>1</td>\n",
       "    </tr>\n",
       "    <tr>\n",
       "      <th>4860</th>\n",
       "      <td>work edit user hang forever user admin managem...</td>\n",
       "      <td>NaN</td>\n",
       "      <td>NaN</td>\n",
       "      <td>NaN</td>\n",
       "      <td>NaN</td>\n",
       "      <td>NaN</td>\n",
       "      <td>NaN</td>\n",
       "      <td>NaN</td>\n",
       "      <td>NaN</td>\n",
       "      <td>NaN</td>\n",
       "      <td>NaN</td>\n",
       "      <td>NaN</td>\n",
       "      <td>NaN</td>\n",
       "      <td>NaN</td>\n",
       "      <td>1</td>\n",
       "    </tr>\n",
       "  </tbody>\n",
       "</table>\n",
       "</div>"
      ],
      "text/plain": [
       "                                 translated_description keywords  \\\n",
       "3264  reset password sid sid bubble user kindly make...      NaN   \n",
       "1296  hostname volume tag dat hostname server eafe s...      NaN   \n",
       "4760       work hr payroll n or work programmer failure      NaN   \n",
       "5656  The Commission has adopted a proposal for a Co...      NaN   \n",
       "3027  appear pdf output engineering tool dear bhughj...      NaN   \n",
       "779   system system system system system system syst...      NaN   \n",
       "4860  work edit user hang forever user admin managem...      NaN   \n",
       "\n",
       "     short_description description group cleaned_description  \\\n",
       "3264               NaN         NaN   NaN                 NaN   \n",
       "1296               NaN         NaN   NaN                 NaN   \n",
       "4760               NaN         NaN   NaN                 NaN   \n",
       "5656               NaN         NaN   NaN                 NaN   \n",
       "3027               NaN         NaN   NaN                 NaN   \n",
       "779                NaN         NaN   NaN                 NaN   \n",
       "4860               NaN         NaN   NaN                 NaN   \n",
       "\n",
       "     cleaned_short_description merged_description char_length word_length  \\\n",
       "3264                       NaN                NaN         NaN         NaN   \n",
       "1296                       NaN                NaN         NaN         NaN   \n",
       "4760                       NaN                NaN         NaN         NaN   \n",
       "5656                       NaN                NaN         NaN         NaN   \n",
       "3027                       NaN                NaN         NaN         NaN   \n",
       "779                        NaN                NaN         NaN         NaN   \n",
       "4860                       NaN                NaN         NaN         NaN   \n",
       "\n",
       "     short_char_length short_word_length language language_confidence  label  \n",
       "3264               NaN               NaN      NaN                 NaN      1  \n",
       "1296               NaN               NaN      NaN                 NaN      1  \n",
       "4760               NaN               NaN      NaN                 NaN      1  \n",
       "5656               NaN               NaN      NaN                 NaN      1  \n",
       "3027               NaN               NaN      NaN                 NaN      1  \n",
       "779                NaN               NaN      NaN                 NaN      1  \n",
       "4860               NaN               NaN      NaN                 NaN      1  "
      ]
     },
     "execution_count": 15,
     "metadata": {},
     "output_type": "execute_result"
    }
   ],
   "source": [
    "augmented_df = pd.DataFrame(columns=dataset.columns)\n",
    "augmented_df.translated_description = augmented\n",
    "augmented_df.label = 1\n",
    "augmented_df.sample(7)"
   ]
  },
  {
   "cell_type": "code",
   "execution_count": 16,
   "metadata": {},
   "outputs": [],
   "source": [
    "augmented_df = pd.concat([dataset, augmented_df])"
   ]
  },
  {
   "cell_type": "code",
   "execution_count": 17,
   "metadata": {},
   "outputs": [
    {
     "data": {
      "text/plain": [
       "(15701, 15)"
      ]
     },
     "execution_count": 17,
     "metadata": {},
     "output_type": "execute_result"
    }
   ],
   "source": [
    "augmented_df.shape"
   ]
  },
  {
   "cell_type": "code",
   "execution_count": 18,
   "metadata": {},
   "outputs": [
    {
     "data": {
      "text/plain": [
       "(5985, 2514)"
      ]
     },
     "execution_count": 18,
     "metadata": {},
     "output_type": "execute_result"
    }
   ],
   "source": [
    "group0_descr = dataset[dataset.label == 0].translated_description.tolist()\n",
    "group1_descr = dataset[dataset.label == 1].translated_description.tolist()\n",
    "len(group0_descr), len(group1_descr)"
   ]
  },
  {
   "cell_type": "code",
   "execution_count": 19,
   "metadata": {},
   "outputs": [],
   "source": [
    "group0_sample = random.sample(group0_descr, len(group1_descr))"
   ]
  },
  {
   "cell_type": "code",
   "execution_count": 20,
   "metadata": {},
   "outputs": [
    {
     "data": {
      "text/plain": [
       "2514"
      ]
     },
     "execution_count": 20,
     "metadata": {},
     "output_type": "execute_result"
    }
   ],
   "source": [
    "len(group0_sample)"
   ]
  },
  {
   "cell_type": "code",
   "execution_count": 21,
   "metadata": {},
   "outputs": [
    {
     "name": "stderr",
     "output_type": "stream",
     "text": [
      "100%|███████████████████████████████████████████████████████████████████████████████████████████████████████████████████████████████████████████████████████████████████████████████████████████████████| 838/838 [2:35:41<00:00, 11.15s/it]\n"
     ]
    },
    {
     "data": {
      "text/plain": [
       "2514"
      ]
     },
     "execution_count": 21,
     "metadata": {},
     "output_type": "execute_result"
    }
   ],
   "source": [
    "size = 3\n",
    "augmented = list()\n",
    "for i in trange(len(group0_sample)//size):\n",
    "    subset = group0_sample[i*size:(i+1)*size]\n",
    "    augmented.append(back_translate(subset, source_lang=\"en\", target_lang=\"es\"))\n",
    "    augmented.append(back_translate(subset, source_lang=\"en\", target_lang=\"it\"))\n",
    "    augmented.append(back_translate(subset, source_lang=\"en\", target_lang=\"fr\"))\n",
    "\n",
    "len(augmented)"
   ]
  },
  {
   "cell_type": "code",
   "execution_count": 22,
   "metadata": {},
   "outputs": [
    {
     "data": {
      "text/plain": [
       "7124"
      ]
     },
     "execution_count": 22,
     "metadata": {},
     "output_type": "execute_result"
    }
   ],
   "source": [
    "augmented = [i for j in augmented for i in j]\n",
    "augmented = [i for i in augmented if i not in group0_sample]\n",
    "len(augmented)"
   ]
  },
  {
   "cell_type": "code",
   "execution_count": 23,
   "metadata": {},
   "outputs": [
    {
     "data": {
      "text/html": [
       "<div>\n",
       "<style scoped>\n",
       "    .dataframe tbody tr th:only-of-type {\n",
       "        vertical-align: middle;\n",
       "    }\n",
       "\n",
       "    .dataframe tbody tr th {\n",
       "        vertical-align: top;\n",
       "    }\n",
       "\n",
       "    .dataframe thead th {\n",
       "        text-align: right;\n",
       "    }\n",
       "</style>\n",
       "<table border=\"1\" class=\"dataframe\">\n",
       "  <thead>\n",
       "    <tr style=\"text-align: right;\">\n",
       "      <th></th>\n",
       "      <th>translated_description</th>\n",
       "      <th>keywords</th>\n",
       "      <th>short_description</th>\n",
       "      <th>description</th>\n",
       "      <th>group</th>\n",
       "      <th>cleaned_description</th>\n",
       "      <th>cleaned_short_description</th>\n",
       "      <th>merged_description</th>\n",
       "      <th>char_length</th>\n",
       "      <th>word_length</th>\n",
       "      <th>short_char_length</th>\n",
       "      <th>short_word_length</th>\n",
       "      <th>language</th>\n",
       "      <th>language_confidence</th>\n",
       "      <th>label</th>\n",
       "    </tr>\n",
       "  </thead>\n",
       "  <tbody>\n",
       "    <tr>\n",
       "      <th>2868</th>\n",
       "      <td>work work failure work programmer</td>\n",
       "      <td>NaN</td>\n",
       "      <td>NaN</td>\n",
       "      <td>NaN</td>\n",
       "      <td>NaN</td>\n",
       "      <td>NaN</td>\n",
       "      <td>NaN</td>\n",
       "      <td>NaN</td>\n",
       "      <td>NaN</td>\n",
       "      <td>NaN</td>\n",
       "      <td>NaN</td>\n",
       "      <td>NaN</td>\n",
       "      <td>NaN</td>\n",
       "      <td>NaN</td>\n",
       "      <td>0</td>\n",
       "    </tr>\n",
       "    <tr>\n",
       "      <th>6149</th>\n",
       "      <td>the user needs an access engineering tool</td>\n",
       "      <td>NaN</td>\n",
       "      <td>NaN</td>\n",
       "      <td>NaN</td>\n",
       "      <td>NaN</td>\n",
       "      <td>NaN</td>\n",
       "      <td>NaN</td>\n",
       "      <td>NaN</td>\n",
       "      <td>NaN</td>\n",
       "      <td>NaN</td>\n",
       "      <td>NaN</td>\n",
       "      <td>NaN</td>\n",
       "      <td>NaN</td>\n",
       "      <td>NaN</td>\n",
       "      <td>0</td>\n",
       "    </tr>\n",
       "    <tr>\n",
       "      <th>2914</th>\n",
       "      <td>Account lock</td>\n",
       "      <td>NaN</td>\n",
       "      <td>NaN</td>\n",
       "      <td>NaN</td>\n",
       "      <td>NaN</td>\n",
       "      <td>NaN</td>\n",
       "      <td>NaN</td>\n",
       "      <td>NaN</td>\n",
       "      <td>NaN</td>\n",
       "      <td>NaN</td>\n",
       "      <td>NaN</td>\n",
       "      <td>NaN</td>\n",
       "      <td>NaN</td>\n",
       "      <td>NaN</td>\n",
       "      <td>0</td>\n",
       "    </tr>\n",
       "    <tr>\n",
       "      <th>1608</th>\n",
       "      <td>unlock songyody user erp</td>\n",
       "      <td>NaN</td>\n",
       "      <td>NaN</td>\n",
       "      <td>NaN</td>\n",
       "      <td>NaN</td>\n",
       "      <td>NaN</td>\n",
       "      <td>NaN</td>\n",
       "      <td>NaN</td>\n",
       "      <td>NaN</td>\n",
       "      <td>NaN</td>\n",
       "      <td>NaN</td>\n",
       "      <td>NaN</td>\n",
       "      <td>NaN</td>\n",
       "      <td>NaN</td>\n",
       "      <td>0</td>\n",
       "    </tr>\n",
       "    <tr>\n",
       "      <th>3971</th>\n",
       "      <td>erp sid password reset</td>\n",
       "      <td>NaN</td>\n",
       "      <td>NaN</td>\n",
       "      <td>NaN</td>\n",
       "      <td>NaN</td>\n",
       "      <td>NaN</td>\n",
       "      <td>NaN</td>\n",
       "      <td>NaN</td>\n",
       "      <td>NaN</td>\n",
       "      <td>NaN</td>\n",
       "      <td>NaN</td>\n",
       "      <td>NaN</td>\n",
       "      <td>NaN</td>\n",
       "      <td>NaN</td>\n",
       "      <td>0</td>\n",
       "    </tr>\n",
       "    <tr>\n",
       "      <th>6776</th>\n",
       "      <td>intermittent computer shutdown</td>\n",
       "      <td>NaN</td>\n",
       "      <td>NaN</td>\n",
       "      <td>NaN</td>\n",
       "      <td>NaN</td>\n",
       "      <td>NaN</td>\n",
       "      <td>NaN</td>\n",
       "      <td>NaN</td>\n",
       "      <td>NaN</td>\n",
       "      <td>NaN</td>\n",
       "      <td>NaN</td>\n",
       "      <td>NaN</td>\n",
       "      <td>NaN</td>\n",
       "      <td>NaN</td>\n",
       "      <td>0</td>\n",
       "    </tr>\n",
       "    <tr>\n",
       "      <th>1443</th>\n",
       "      <td>problem identifier check user details name che...</td>\n",
       "      <td>NaN</td>\n",
       "      <td>NaN</td>\n",
       "      <td>NaN</td>\n",
       "      <td>NaN</td>\n",
       "      <td>NaN</td>\n",
       "      <td>NaN</td>\n",
       "      <td>NaN</td>\n",
       "      <td>NaN</td>\n",
       "      <td>NaN</td>\n",
       "      <td>NaN</td>\n",
       "      <td>NaN</td>\n",
       "      <td>NaN</td>\n",
       "      <td>NaN</td>\n",
       "      <td>0</td>\n",
       "    </tr>\n",
       "  </tbody>\n",
       "</table>\n",
       "</div>"
      ],
      "text/plain": [
       "                                 translated_description keywords  \\\n",
       "2868                  work work failure work programmer      NaN   \n",
       "6149          the user needs an access engineering tool      NaN   \n",
       "2914                                       Account lock      NaN   \n",
       "1608                           unlock songyody user erp      NaN   \n",
       "3971                             erp sid password reset      NaN   \n",
       "6776                     intermittent computer shutdown      NaN   \n",
       "1443  problem identifier check user details name che...      NaN   \n",
       "\n",
       "     short_description description group cleaned_description  \\\n",
       "2868               NaN         NaN   NaN                 NaN   \n",
       "6149               NaN         NaN   NaN                 NaN   \n",
       "2914               NaN         NaN   NaN                 NaN   \n",
       "1608               NaN         NaN   NaN                 NaN   \n",
       "3971               NaN         NaN   NaN                 NaN   \n",
       "6776               NaN         NaN   NaN                 NaN   \n",
       "1443               NaN         NaN   NaN                 NaN   \n",
       "\n",
       "     cleaned_short_description merged_description char_length word_length  \\\n",
       "2868                       NaN                NaN         NaN         NaN   \n",
       "6149                       NaN                NaN         NaN         NaN   \n",
       "2914                       NaN                NaN         NaN         NaN   \n",
       "1608                       NaN                NaN         NaN         NaN   \n",
       "3971                       NaN                NaN         NaN         NaN   \n",
       "6776                       NaN                NaN         NaN         NaN   \n",
       "1443                       NaN                NaN         NaN         NaN   \n",
       "\n",
       "     short_char_length short_word_length language language_confidence  label  \n",
       "2868               NaN               NaN      NaN                 NaN      0  \n",
       "6149               NaN               NaN      NaN                 NaN      0  \n",
       "2914               NaN               NaN      NaN                 NaN      0  \n",
       "1608               NaN               NaN      NaN                 NaN      0  \n",
       "3971               NaN               NaN      NaN                 NaN      0  \n",
       "6776               NaN               NaN      NaN                 NaN      0  \n",
       "1443               NaN               NaN      NaN                 NaN      0  "
      ]
     },
     "execution_count": 23,
     "metadata": {},
     "output_type": "execute_result"
    }
   ],
   "source": [
    "augmented_df2 = pd.DataFrame(columns=augmented_df.columns)\n",
    "augmented_df2.translated_description = augmented\n",
    "augmented_df2.label = 0\n",
    "augmented_df2.sample(7)"
   ]
  },
  {
   "cell_type": "code",
   "execution_count": 24,
   "metadata": {},
   "outputs": [],
   "source": [
    "augmented_df = pd.concat([augmented_df, augmented_df2])"
   ]
  },
  {
   "cell_type": "code",
   "execution_count": 25,
   "metadata": {},
   "outputs": [
    {
     "data": {
      "text/plain": [
       "(22825, 15)"
      ]
     },
     "execution_count": 25,
     "metadata": {},
     "output_type": "execute_result"
    }
   ],
   "source": [
    "augmented_df.shape"
   ]
  },
  {
   "cell_type": "code",
   "execution_count": 26,
   "metadata": {},
   "outputs": [],
   "source": [
    "augmented_df.to_csv('./data/augmented_data.csv', index=None)"
   ]
  },
  {
   "cell_type": "code",
   "execution_count": 28,
   "metadata": {},
   "outputs": [
    {
     "data": {
      "text/plain": [
       "0    13109\n",
       "1     9716\n",
       "Name: label, dtype: int64"
      ]
     },
     "execution_count": 28,
     "metadata": {},
     "output_type": "execute_result"
    }
   ],
   "source": [
    "augmented_df.label.value_counts()"
   ]
  },
  {
   "cell_type": "markdown",
   "metadata": {},
   "source": [
    "### OverSampling the minority class to balance the label distribution"
   ]
  },
  {
   "cell_type": "code",
   "execution_count": 40,
   "metadata": {},
   "outputs": [],
   "source": [
    "import numpy as np\n",
    "from imblearn.over_sampling import RandomOverSampler"
   ]
  },
  {
   "cell_type": "code",
   "execution_count": 41,
   "metadata": {},
   "outputs": [
    {
     "data": {
      "text/plain": [
       "((22825, 1), (22825, 1))"
      ]
     },
     "execution_count": 41,
     "metadata": {},
     "output_type": "execute_result"
    }
   ],
   "source": [
    "X = np.array(augmented_df.translated_description).reshape(-1, 1)\n",
    "y = np.array(augmented_df.label).reshape(-1, 1)\n",
    "X.shape, y.shape"
   ]
  },
  {
   "cell_type": "code",
   "execution_count": 42,
   "metadata": {},
   "outputs": [
    {
     "data": {
      "text/plain": [
       "((26218,), (26218,))"
      ]
     },
     "execution_count": 42,
     "metadata": {},
     "output_type": "execute_result"
    }
   ],
   "source": [
    "oversampler = RandomOverSampler(sampling_strategy='minority')\n",
    "\n",
    "X_upsampled, y_upsampled = oversampler.fit_resample(X, y)\n",
    "X_upsampled = np.squeeze(X_upsampled)\n",
    "y_upsampled = np.squeeze(y_upsampled)\n",
    "X_upsampled.shape, y_upsampled.shape"
   ]
  },
  {
   "cell_type": "code",
   "execution_count": 43,
   "metadata": {},
   "outputs": [
    {
     "data": {
      "text/plain": [
       "('verify user detail name check user name ad reset password advise user login check caller confirm able login issue resolve',\n",
       " 0)"
      ]
     },
     "execution_count": 43,
     "metadata": {},
     "output_type": "execute_result"
    }
   ],
   "source": [
    "X_upsampled[0], y_upsampled[0]"
   ]
  },
  {
   "cell_type": "code",
   "execution_count": 44,
   "metadata": {},
   "outputs": [
    {
     "data": {
      "text/plain": [
       "(26218, 2)"
      ]
     },
     "execution_count": 44,
     "metadata": {},
     "output_type": "execute_result"
    }
   ],
   "source": [
    "upsampled_df = pd.DataFrame({\"translated_description\": X_upsampled, \"label\": y_upsampled})\n",
    "upsampled_df.shape"
   ]
  },
  {
   "cell_type": "code",
   "execution_count": 45,
   "metadata": {},
   "outputs": [
    {
     "data": {
      "text/plain": [
       "1    13109\n",
       "0    13109\n",
       "Name: label, dtype: int64"
      ]
     },
     "execution_count": 45,
     "metadata": {},
     "output_type": "execute_result"
    }
   ],
   "source": [
    "upsampled_df.label.value_counts()  # BALANCED DATA!"
   ]
  },
  {
   "cell_type": "code",
   "execution_count": 46,
   "metadata": {},
   "outputs": [],
   "source": [
    "upsampled_df.to_csv('./data/augmented_upsampled_data.csv', index=None)"
   ]
  },
  {
   "cell_type": "code",
   "execution_count": null,
   "metadata": {},
   "outputs": [],
   "source": []
  }
 ],
 "metadata": {
  "colab": {
   "collapsed_sections": [],
   "name": "Data_augmentation",
   "provenance": []
  },
  "kernelspec": {
   "display_name": "Python 3",
   "language": "python",
   "name": "python3"
  },
  "language_info": {
   "codemirror_mode": {
    "name": "ipython",
    "version": 3
   },
   "file_extension": ".py",
   "mimetype": "text/x-python",
   "name": "python",
   "nbconvert_exporter": "python",
   "pygments_lexer": "ipython3",
   "version": "3.8.5"
  }
 },
 "nbformat": 4,
 "nbformat_minor": 4
}
