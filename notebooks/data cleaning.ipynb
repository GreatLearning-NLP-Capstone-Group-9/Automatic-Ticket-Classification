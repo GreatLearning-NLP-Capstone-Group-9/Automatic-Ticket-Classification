{
 "cells": [
  {
   "cell_type": "code",
   "execution_count": 1,
   "metadata": {},
   "outputs": [],
   "source": [
    "import pandas as pd\n",
    "from sklearn import preprocessing\n",
    "import seaborn as sns\n",
    "import matplotlib.pyplot as plt\n"
   ]
  },
  {
   "cell_type": "code",
   "execution_count": 2,
   "metadata": {},
   "outputs": [],
   "source": [
    "df3=pd.read_excel('input_data.xlsx')\n",
    "df=df3[500:600]"
   ]
  },
  {
   "cell_type": "code",
   "execution_count": 3,
   "metadata": {},
   "outputs": [
    {
     "data": {
      "text/plain": [
       "Short description    0\n",
       "Description          0\n",
       "Caller               0\n",
       "Assignment group     0\n",
       "dtype: int64"
      ]
     },
     "execution_count": 3,
     "metadata": {},
     "output_type": "execute_result"
    }
   ],
   "source": [
    "#df=df.dropna()\n",
    "#df.isna().sum()\n",
    "df=df.dropna()\n",
    "df.isna().sum()"
   ]
  },
  {
   "cell_type": "markdown",
   "metadata": {},
   "source": [
    "cat=['Short description','Description']                             \n",
    "for col in cat:\n",
    "    df[col] = df[col].apply(lambda text:clean_text(text))"
   ]
  },
  {
   "cell_type": "code",
   "execution_count": 4,
   "metadata": {},
   "outputs": [],
   "source": [
    "#df.to_csv('stopword_removal.csv')"
   ]
  },
  {
   "cell_type": "markdown",
   "metadata": {},
   "source": [
    "df[col]= df[col].apply(lambda x: ' '.join([word for word in x.split() if word not in (stop)]))"
   ]
  },
  {
   "cell_type": "code",
   "execution_count": 5,
   "metadata": {},
   "outputs": [
    {
     "data": {
      "text/html": [
       "<div>\n",
       "<style scoped>\n",
       "    .dataframe tbody tr th:only-of-type {\n",
       "        vertical-align: middle;\n",
       "    }\n",
       "\n",
       "    .dataframe tbody tr th {\n",
       "        vertical-align: top;\n",
       "    }\n",
       "\n",
       "    .dataframe thead th {\n",
       "        text-align: right;\n",
       "    }\n",
       "</style>\n",
       "<table border=\"1\" class=\"dataframe\">\n",
       "  <thead>\n",
       "    <tr style=\"text-align: right;\">\n",
       "      <th></th>\n",
       "      <th>Short description</th>\n",
       "      <th>Description</th>\n",
       "      <th>Caller</th>\n",
       "      <th>Assignment group</th>\n",
       "    </tr>\n",
       "  </thead>\n",
       "  <tbody>\n",
       "    <tr>\n",
       "      <th>500</th>\n",
       "      <td>cannot get into crm</td>\n",
       "      <td>missing the sales &amp; markhtyeting tab from the ...</td>\n",
       "      <td>gtfdvnry nxsaqrfh</td>\n",
       "      <td>GRP_2</td>\n",
       "    </tr>\n",
       "    <tr>\n",
       "      <th>501</th>\n",
       "      <td>please provide access</td>\n",
       "      <td>\\n\\nreceived from: tbvpkjoh.wnxzhqoa@gmail.com...</td>\n",
       "      <td>tbvpkjoh wnxzhqoa</td>\n",
       "      <td>GRP_16</td>\n",
       "    </tr>\n",
       "    <tr>\n",
       "      <th>502</th>\n",
       "      <td>ticket update on inplant_872683</td>\n",
       "      <td>ticket update on inplant_872683</td>\n",
       "      <td>fumkcsji sarmtlhy</td>\n",
       "      <td>GRP_0</td>\n",
       "    </tr>\n",
       "    <tr>\n",
       "      <th>503</th>\n",
       "      <td>unable to login to collaboration_platform // p...</td>\n",
       "      <td>unable to login to collaboration_platform // p...</td>\n",
       "      <td>rvqnjgas kcmybldh</td>\n",
       "      <td>GRP_0</td>\n",
       "    </tr>\n",
       "    <tr>\n",
       "      <th>504</th>\n",
       "      <td>all my calls to my ip phone are going to wareh...</td>\n",
       "      <td>all my calls to my ip phone are going to wareh...</td>\n",
       "      <td>damuphws arkulcoi</td>\n",
       "      <td>GRP_3</td>\n",
       "    </tr>\n",
       "  </tbody>\n",
       "</table>\n",
       "</div>"
      ],
      "text/plain": [
       "                                     Short description  \\\n",
       "500                                cannot get into crm   \n",
       "501                              please provide access   \n",
       "502                    ticket update on inplant_872683   \n",
       "503  unable to login to collaboration_platform // p...   \n",
       "504  all my calls to my ip phone are going to wareh...   \n",
       "\n",
       "                                           Description             Caller  \\\n",
       "500  missing the sales & markhtyeting tab from the ...  gtfdvnry nxsaqrfh   \n",
       "501  \\n\\nreceived from: tbvpkjoh.wnxzhqoa@gmail.com...  tbvpkjoh wnxzhqoa   \n",
       "502                    ticket update on inplant_872683  fumkcsji sarmtlhy   \n",
       "503  unable to login to collaboration_platform // p...  rvqnjgas kcmybldh   \n",
       "504  all my calls to my ip phone are going to wareh...  damuphws arkulcoi   \n",
       "\n",
       "    Assignment group  \n",
       "500            GRP_2  \n",
       "501           GRP_16  \n",
       "502            GRP_0  \n",
       "503            GRP_0  \n",
       "504            GRP_3  "
      ]
     },
     "execution_count": 5,
     "metadata": {},
     "output_type": "execute_result"
    }
   ],
   "source": [
    "df.head()"
   ]
  },
  {
   "cell_type": "code",
   "execution_count": 2,
   "metadata": {},
   "outputs": [
    {
     "name": "stderr",
     "output_type": "stream",
     "text": [
      "[nltk_data] Downloading package words to\n",
      "[nltk_data]     C:\\Users\\surya\\AppData\\Roaming\\nltk_data...\n",
      "[nltk_data]   Package words is already up-to-date!\n"
     ]
    }
   ],
   "source": [
    "import re\n",
    "import nltk\n",
    "from nltk.corpus import stopwords\n",
    "from nltk.stem import PorterStemmer\n",
    "from nltk.corpus import words\n",
    "nltk.download('words')\n",
    "vocab = set(nltk.corpus.words.words())\n",
    "\n",
    "gib = set(['æ','¹','å','†ç','ï¼Œ','Ž','¥','Š','å','©','ç™','å½','ä','º','†','ã','€','æ','—','¶',\"f³\",\"‹\",\"è\",\"§\",'¯åŠ¨å','¯åŠ¨å','Žé'])\n",
    "gibb = r'\\b(?:{})\\b'.format('|'.join(gib))\n",
    "def clean_gibberish(text: str) -> str:\n",
    "    #gibb = r'\\b(?:{})\\b'.format('|'.join(gib))\n",
    "    text=text.lower()\n",
    "    # Remove hashtag while keeping hashtag text\n",
    "    text = re.sub(r'#','', text)\n",
    "    # replace '&' with 'and'\n",
    "    text = re.sub(r'&;?', 'and', text)\n",
    "\n",
    "    # Remove characters beyond Readable formart by Unicode:\n",
    "    # text= ''.join(c for c in text if c <= '\\uFFFF') \n",
    "    # text = text.strip()\n",
    "    # Remove unreadable characters  (also extra spaces)\n",
    "    text = ' '.join(re.sub(\"[^\\u0030-\\u0039\\u0041-\\u005a\\u0061-\\u007a]\", \" \", text).split())\n",
    "    text = re.sub(r\"\\s+[a-zA-Z]\\s+\", ' ', text)\n",
    "    text = re.sub(' +', ' ', text)\n",
    "    text = re.sub('xd','',text)\n",
    "    text = re.sub(gibb,'',text)\n",
    "    return str(text.strip())\n",
    "\n",
    "\n",
    "def clean_oov(text: str, vocab=vocab) -> str:\n",
    "    '''strips out words that are outside the given vocabulary'''\n",
    "    text = \" \".join([i for i in text.split() if i.lower() in vocab])\n",
    "    return str(text.strip())"
   ]
  },
  {
   "cell_type": "code",
   "execution_count": 4,
   "metadata": {},
   "outputs": [
    {
     "name": "stdout",
     "output_type": "stream",
     "text": [
      "[('interesting', 0.15831692877998726)]\n"
     ]
    }
   ],
   "source": [
    "# !pip install yake\n",
    "import yake\n",
    "\n",
    "language = \"en\"\n",
    "max_ngram_size = 5\n",
    "duplication_threshold = 0.9\n",
    "numOfKeywords = 1\n",
    "\n",
    "custom_kw_extractor = yake.KeywordExtractor(lan=language,\n",
    "                                            n=max_ngram_size,\n",
    "                                            dedupLim=duplication_threshold,\n",
    "                                            top=numOfKeywords,\n",
    "                                            features=None)\n",
    "text = 'This is interesting'\n",
    "keywords = custom_kw_extractor.extract_keywords(text)\n",
    "print(keywords)"
   ]
  },
  {
   "cell_type": "code",
   "execution_count": 7,
   "metadata": {},
   "outputs": [],
   "source": [
    "#df.to_excel('clean_data.xlsx',index=False)"
   ]
  },
  {
   "cell_type": "code",
   "execution_count": 8,
   "metadata": {},
   "outputs": [
    {
     "name": "stdout",
     "output_type": "stream",
     "text": [
      "['microsoft  behalf  company inc mail monday october pm nwfodmhc exurcwkm shadakjsdd request  reset microsoft online services password  importance high request  reset user password  following user   organization  requested password reset  performed   account first name twejhda last name asjadjs consider contacting  user  validate  request  authentic  continuing    determined    valid request use  service admin portal office windows intune windows azure   reset  password   user want  let  users reset   passwords check     enable password reset  users   organization    clicks sincerely company inc  message  sent   unmonitored email address    reply   message', 'team could   unlock account  user aeftjxos lhnyofad id vvsardkajdjtf case  account  expired  extend  access   account    user  zuyimtsf qjtimdsp  contact majsdtnrio      doubts  return', 'rjsulvat uanigkqc monday october pm nwfodmhc exurcwkm thadasgg fwd problem  outlook    iphone rjsulvat uanigkqc nwfodmhc exurcwkm problem  outlook  cannot start outlook iphone', 'username ccghksdm   used  login  company via citrix assume   need  delete  user profile   citrix servers   send ticket   citrix team   account  active directory   locked oinqckds qieswrfu  gesendet dienstag oktober  oinqckds qieswrfu betreff password     reset  account   login   user  ccghksdm  last password  prbsddqd  doesnt work  cant login   moment', 'working  home started vpn cannot access erp keep getting logon balancing error suggest submitting   team  usa', 'nwfodmhc exurcwkm monday october pm uzpycdho hdswinlo ustvaifg hmzfewks uzpycdho hdswinlo  windows password  expiring soon  unfortunately    automatic process  cannot extend  time period   come back  vacation  give us call back   reset  password', 'name fievgddtrr language browser microsoft internet explorer customer number telephone summary erp bloqued  many failes attempts tanks', 'name joetrhud language browser microsoft internet explorer customer number telephone summary unable  connect  internet using broadband service', 'erp quote pntp net price  zntc unit price    costs  loaded see screenshots  email attached need quote  send  customer  ordering', 'team    hub posting   published  us time change aerp revert     questions planned service disruption    event daylight savings time ends      begin pm edt saturday th november    end following time change  est sunday november      affected  erp users  erp systems including erp plm bw crm supply chain hcm    reason  erp systems must  stopped  time change  prevent data inconsistency questions corporate datacenter xabkyoug wdkyiqfx nvyjtmca xjhpznds  network operations best', 'name dctvfjrn oypnxftq language browser microsoft internet explorer customer number telephone summary reset  password  aolhgbps pbxqtcek uacyltoe hxgayczemii', 'hallo  outlook collapsed two times tried  restart  laptop    startup anymore restarting    screen  already half  hour   met vriendelijke groet lwizucan zvnxlobq directeur company', 'today  erp   working  attempting  use  erp client  shows message attached microsoft odbc vmsliazh ltksxmyv driver login failed  user infosthryda reason  password   account  expired   contacted  vendor  said  password  expired due  settings configured  company dba team dba team  unlock account cahnge password  setup  erp   new password', 'regarding ticket    fixed  chg key user reported   attached email   application  showing  problem  today    contacted  vendor   told us   verify   recommended  run  command     investigating also   suggested us  involve  dba team  also verify  seems  db  missing information', 'name gqhfieys pkwcdbrv language browser microsoft internet explorer customer number telephone summary ts printer still  working  system restart', 'efrjkspc sfhbunrp monday october  nwfodmhc exurcwkm aw efrjkspc sfhbunrp  windows password  expiring soon importance high   changed  password  day days ago  get  reminder  inform    change', 'support   could   give mr vxpcnrtw xelhoicd  permission  read  write load  upload files   global teams drive   folder gm sge programdnty  many', 'tqnbkjgu xyedbsnm reported     colleagues  unable  reach gso using  chat    fill   form  next page comes     company logo', 'hallo   der drucker em scannt keine dokumente ein   fehlermeldung zugriff berpr fen r folgende ziele fehlgeschlagen   hostname kmscan em file hostname kmscan em der pfad kann nicht gefunden werden   der fehler sst sich auch durch mehrmaliges ein und ausschalten nicht beheben   mit freundlichen gr en best', 'hallo kannst du einmal nachsehen wo der mail button ist  drucker er ist weg danke uwe', 'usa email access  new samsung device  nzuofeam exszgtwd md apac  vp cpmmecial  find information  follow email  name chucashadqc wsljdqqds   replacement   old device yes   existing old samsung phone   longer  use  remove access   old samsung device', 'hallo gerade eben ist der computer  meinem arbeitsplatz zum wiederholten male ausgestiegen und hat lediglich einen blauen bildschirm mit wei er schrift dargestellt bitte schau dir das vor ort mal', 'login issue  verified user details    name  checked  user name  ad  unlocked  account  advised  user  login  check  caller confirmed    able  login  issue resolved', 'type  outage network circuit power  specify  type  outage   top cert site  yes  na      start     scheduled maintenance power  yes  na company power provider power   scheduled maintenance network  yes  na company maint yes  provider maint ticket    site  backup circuit  yes  na   backup circuit active  yes  na   site contact notified phone email yes  na   remote dial  na yes  na   equipment reset na yes  na   verified site working  backup circuit na yes  na   vendor ticket global telecom verizon telecom vendor telecom vendor   notified gsc yes  na cert started yes  na   additional diagnostics', 'german workflow objects   folders  gone de industrial gen ing transportation ici      approximately objects  check also  uk folder', 'help  change  windows password using password management tool password tool  connected   user system using teamviewer  help  user login   password  tool password tool  change  passwords  help  user  sync  psswords   company network  caller confirmed    able  login  issue resolved']\n"
     ]
    }
   ],
   "source": [
    "temp=[]\n",
    "for item in df['Description']:\n",
    "    l=list(item.split())\n",
    "    if len(l)>15:\n",
    "        temp.append(''.join(item))\n",
    "        #print(df[df['Description']==item,'Short description']['Short description'])\n",
    "print(temp)\n"
   ]
  },
  {
   "cell_type": "code",
   "execution_count": null,
   "metadata": {},
   "outputs": [],
   "source": []
  },
  {
   "cell_type": "code",
   "execution_count": 9,
   "metadata": {},
   "outputs": [
    {
     "name": "stderr",
     "output_type": "stream",
     "text": [
      "[nltk_data] Downloading package words to\n",
      "[nltk_data]     C:\\Users\\Disha\\AppData\\Roaming\\nltk_data...\n",
      "[nltk_data]   Package words is already up-to-date!\n"
     ]
    },
    {
     "name": "stdout",
     "output_type": "stream",
     "text": [
      "['  behalf company  mail       request reset    password importance high request reset user password following user organization  password reset  account first name  last name  consider  user validate request authentic  determined valid request use service  portal office    azure reset password user want let  reset  check enable password reset  organization  sincerely company  message sent unmonitored  address reply message', ' team could unlock account user   id  case account  extend access account user   contact   return', '          problem outlook      problem outlook cannot start outlook ', '   used login company via  assume need delete user profile   send ticket  team account active directory locked         password reset account login user  last password  doesnt work cant login moment', ' working home   cannot access  keep getting  balancing error suggest  team ', '             password expiring soon unfortunately automatic process cannot extend time period come back vacation give us call back reset password', ' name  language browser   explorer customer number telephone summary   many   ', ' name  language browser   explorer customer number telephone summary unable connect    service', '  quote  net price  unit price  loaded see   attached need quote send customer ', ' team hub posting  us time change  revert   service disruption event daylight  time  begin    th  end following time change    affected          supply chain  reason   must stopped time change prevent data inconsistency  corporate      network  best', ' name   language browser   explorer customer number telephone summary reset password    ', '  outlook  two times tried restart     screen already half hour met      company', ' today  working  use  client  message attached     driver login  user  reason password account   vendor said password  due   company  team  team unlock account  password setup  new password', ' regarding ticket fixed  key user  attached  application showing problem today  vendor told us verify  run command investigating also  us involve  team also verify   missing information', ' name   language browser   explorer customer number telephone summary  printer still working system restart', '       aw    password expiring soon importance high  password day days ago get reminder inform change', ' support could give    permission read write load   global  drive folder    many', '     unable reach   chat fill form next page comes company ', '    em        fen r      em file   em                      en best', '      wo  mail button ist  er ist   ', '   access new  device       find information follow  name   replacement old device yes  old  phone longer use remove access old  device', '    ist  computer     male   hat       er      das  ort mal', ' login issue  user  name checked user name ad unlocked account advised user login check caller confirmed able login issue resolved', ' type outage network circuit power specify type outage top  site yes na start  maintenance power yes na company power provider power  maintenance network yes na company maint yes provider maint ticket site backup circuit yes na backup circuit active yes na site contact notified phone  yes na remote dial na yes na equipment reset na yes na  site working backup circuit na yes na vendor ticket global    vendor  vendor notified  yes na   yes na additional diagnostics', ' german    gone de industrial gen ing transportation  approximately  check also  folder', ' help change  password  password management tool password tool connected user system   help user login password tool password tool change  help user sync  company network caller confirmed able login issue resolved']\n"
     ]
    }
   ],
   "source": [
    "from nltk.corpus import words\n",
    "nltk.download('words')\n",
    "words = set(nltk.corpus.words.words())\n",
    "\n",
    "final = []\n",
    "for x in temp:\n",
    "    w=''\n",
    "    l=x.split()\n",
    "    for i in l:\n",
    "        if i in words:\n",
    "            h=i\n",
    "        else:\n",
    "            h=''\n",
    "        w=w+' '+h\n",
    "    final.append(w)\n",
    "    w=''\n",
    "\n",
    "print(final)"
   ]
  },
  {
   "cell_type": "code",
   "execution_count": 10,
   "metadata": {},
   "outputs": [
    {
     "name": "stdout",
     "output_type": "stream",
     "text": [
      "[('user want let reset', -0.8780249988313716)]\n",
      "[('access account user contact return', 8.881999906805961e-05)]\n",
      "[('problem outlook problem outlook', 0.0024309945970790873)]\n",
      "[('delete user profile send ticket', 0.00010435937439027172)]\n",
      "[('balancing error suggest team', 0.005801314874236189)]\n"
     ]
    }
   ],
   "source": [
    "#!pip install yake\n",
    "import yake\n",
    "kw=yake.KeywordExtractor()\n",
    "language = \"en\"\n",
    "max_ngram_size = 5\n",
    "duplication_threshold = 0.9\n",
    "numOfKeywords = 1\n",
    "custom_kw_extractor = yake.KeywordExtractor(lan=language, n=max_ngram_size, dedupLim=duplication_threshold, top=numOfKeywords, features=None)\n",
    "for item in final[0:5]:\n",
    "    keywords = custom_kw_extractor.extract_keywords(item)\n",
    "    print(keywords)"
   ]
  },
  {
   "cell_type": "code",
   "execution_count": null,
   "metadata": {},
   "outputs": [],
   "source": []
  }
 ],
 "metadata": {
  "kernelspec": {
   "display_name": "Python 3",
   "language": "python",
   "name": "python3"
  },
  "language_info": {
   "codemirror_mode": {
    "name": "ipython",
    "version": 3
   },
   "file_extension": ".py",
   "mimetype": "text/x-python",
   "name": "python",
   "nbconvert_exporter": "python",
   "pygments_lexer": "ipython3",
   "version": "3.8.5"
  }
 },
 "nbformat": 4,
 "nbformat_minor": 5
}
