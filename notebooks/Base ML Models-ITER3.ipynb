{
 "cells": [
  {
   "cell_type": "markdown",
   "metadata": {},
   "source": [
    "<h4>\n",
    "<ul>\n",
    "    <li><strong><span style=\"font-family: 'Trebuchet MS', Helvetica, sans-serif;\">OBJECTIVE:</span></strong></li>\n",
    "</ul>\n",
    "<p><span style=\"font-family: 'Trebuchet MS', Helvetica, sans-serif;\">Use the text data to experiment with various Machine Learning algorithms to build a vanilla binary classifier.</span></p>\n",
    "    </h4>"
   ]
  },
  {
   "cell_type": "code",
   "execution_count": 1,
   "metadata": {},
   "outputs": [
    {
     "name": "stderr",
     "output_type": "stream",
     "text": [
      "[nltk_data] Downloading package words to\n",
      "[nltk_data]     C:\\Users\\surya\\AppData\\Roaming\\nltk_data...\n",
      "[nltk_data]   Package words is already up-to-date!\n",
      "[nltk_data] Downloading package stopwords to\n",
      "[nltk_data]     C:\\Users\\surya\\AppData\\Roaming\\nltk_data...\n",
      "[nltk_data]   Package stopwords is already up-to-date!\n",
      "[nltk_data] Downloading package wordnet to\n",
      "[nltk_data]     C:\\Users\\surya\\AppData\\Roaming\\nltk_data...\n",
      "[nltk_data]   Package wordnet is already up-to-date!\n"
     ]
    }
   ],
   "source": [
    "import warnings\n",
    "\n",
    "warnings.filterwarnings('ignore')\n",
    "\n",
    "import random\n",
    "import re\n",
    "from string import punctuation\n",
    "\n",
    "import matplotlib.pyplot as plt\n",
    "import nltk\n",
    "import numpy as np\n",
    "import pandas as pd\n",
    "import seaborn as sns\n",
    "from lightgbm import LGBMClassifier\n",
    "from nltk.corpus import stopwords, wordnet\n",
    "from nltk.stem import WordNetLemmatizer  # word stemmer class\n",
    "from nltk.tokenize import word_tokenize\n",
    "from scipy.stats import zscore\n",
    "from sklearn import metrics\n",
    "from sklearn.ensemble import (AdaBoostClassifier, GradientBoostingClassifier,\n",
    "                              RandomForestClassifier)\n",
    "from sklearn.feature_extraction.text import CountVectorizer\n",
    "from sklearn.linear_model import LogisticRegression\n",
    "from sklearn.metrics import (accuracy_score, classification_report,\n",
    "                             confusion_matrix, f1_score,\n",
    "                             precision_recall_fscore_support)\n",
    "from sklearn.model_selection import (GridSearchCV, KFold, RandomizedSearchCV,\n",
    "                                     StratifiedKFold, cross_val_score,\n",
    "                                     train_test_split)\n",
    "from sklearn.naive_bayes import GaussianNB\n",
    "from sklearn.neighbors import KNeighborsClassifier\n",
    "from sklearn.preprocessing import binarize\n",
    "from sklearn.svm import SVC\n",
    "from sklearn.tree import DecisionTreeClassifier\n",
    "from tqdm import tqdm\n",
    "from xgboost import XGBClassifier\n",
    "\n",
    "tqdm.pandas()\n",
    "nltk.download('words')\n",
    "\n",
    "words = set(nltk.corpus.words.words())\n",
    "nltk.download('stopwords')\n",
    "nltk.download('wordnet')\n",
    "lemma = WordNetLemmatizer()\n",
    "%matplotlib inline\n",
    "sns.set()"
   ]
  },
  {
   "cell_type": "code",
   "execution_count": 2,
   "metadata": {
    "colab": {
     "base_uri": "https://localhost:8080/",
     "height": 341
    },
    "id": "A19CmP_uQFmX",
    "outputId": "e681b29d-fa98-40dc-9994-c9705f1a5845"
   },
   "outputs": [
    {
     "data": {
      "text/html": [
       "<div>\n",
       "<style scoped>\n",
       "    .dataframe tbody tr th:only-of-type {\n",
       "        vertical-align: middle;\n",
       "    }\n",
       "\n",
       "    .dataframe tbody tr th {\n",
       "        vertical-align: top;\n",
       "    }\n",
       "\n",
       "    .dataframe thead th {\n",
       "        text-align: right;\n",
       "    }\n",
       "</style>\n",
       "<table border=\"1\" class=\"dataframe\">\n",
       "  <thead>\n",
       "    <tr style=\"text-align: right;\">\n",
       "      <th></th>\n",
       "      <th>translated_description</th>\n",
       "      <th>label</th>\n",
       "    </tr>\n",
       "  </thead>\n",
       "  <tbody>\n",
       "    <tr>\n",
       "      <th>13260</th>\n",
       "      <td>mii uacyltoe hxgaycze lacw update step page fa...</td>\n",
       "      <td>1</td>\n",
       "    </tr>\n",
       "    <tr>\n",
       "      <th>18695</th>\n",
       "      <td>distance computer length sometimes start getti...</td>\n",
       "      <td>0</td>\n",
       "    </tr>\n",
       "    <tr>\n",
       "      <th>16563</th>\n",
       "      <td>travel link see receipt refund form present ms...</td>\n",
       "      <td>0</td>\n",
       "    </tr>\n",
       "    <tr>\n",
       "      <th>20876</th>\n",
       "      <td>login tourbehryucoj Outlook email problem toda...</td>\n",
       "      <td>0</td>\n",
       "    </tr>\n",
       "    <tr>\n",
       "      <th>18362</th>\n",
       "      <td>send Tuesday pm nwfodmhc exurcwkm subject emai...</td>\n",
       "      <td>0</td>\n",
       "    </tr>\n",
       "  </tbody>\n",
       "</table>\n",
       "</div>"
      ],
      "text/plain": [
       "                                  translated_description  label\n",
       "13260  mii uacyltoe hxgaycze lacw update step page fa...      1\n",
       "18695  distance computer length sometimes start getti...      0\n",
       "16563  travel link see receipt refund form present ms...      0\n",
       "20876  login tourbehryucoj Outlook email problem toda...      0\n",
       "18362  send Tuesday pm nwfodmhc exurcwkm subject emai...      0"
      ]
     },
     "execution_count": 2,
     "metadata": {},
     "output_type": "execute_result"
    }
   ],
   "source": [
    "#importing the data\n",
    "data = pd.read_csv('./data/augmented_upsampled_data.csv')\n",
    "data.sample(5)"
   ]
  },
  {
   "cell_type": "code",
   "execution_count": 3,
   "metadata": {},
   "outputs": [],
   "source": [
    "# reproducibility\n",
    "seed = 7\n",
    "random.seed(seed)"
   ]
  },
  {
   "cell_type": "code",
   "execution_count": 4,
   "metadata": {
    "id": "6QemFNfsfl9D"
   },
   "outputs": [],
   "source": [
    "import re\n",
    "\n",
    "def normalizer(text):\n",
    "    text = \" \".join(filter(lambda x: x[0]!= '@' , text.split()))\n",
    "    text = re.sub('[^a-zA-Z]', ' ', text)\n",
    "    text = text.lower()\n",
    "    text = re.sub(' +', ' ', text).strip()\n",
    "    text = text.split()\n",
    "    text = [words for words in text if not words in set(stopwords.words('english'))]\n",
    "    text = [lemma.lemmatize(word) for word in text]\n",
    "    \n",
    "    text = \" \".join(text)\n",
    "    return text"
   ]
  },
  {
   "cell_type": "code",
   "execution_count": 5,
   "metadata": {
    "id": "J9FZIhiigJZ-"
   },
   "outputs": [
    {
     "name": "stderr",
     "output_type": "stream",
     "text": [
      "100%|███████████████████████████████████████████████████████████████████████████| 26218/26218 [01:15<00:00, 347.46it/s]\n"
     ]
    }
   ],
   "source": [
    "data['ml_feature'] = data['translated_description'].progress_apply(normalizer)"
   ]
  },
  {
   "cell_type": "code",
   "execution_count": 6,
   "metadata": {
    "colab": {
     "base_uri": "https://localhost:8080/",
     "height": 287
    },
    "id": "KAyQLOxqgRUN",
    "outputId": "52223f37-2dd1-4b3e-f70f-27894755194f"
   },
   "outputs": [
    {
     "data": {
      "text/html": [
       "<div>\n",
       "<style scoped>\n",
       "    .dataframe tbody tr th:only-of-type {\n",
       "        vertical-align: middle;\n",
       "    }\n",
       "\n",
       "    .dataframe tbody tr th {\n",
       "        vertical-align: top;\n",
       "    }\n",
       "\n",
       "    .dataframe thead th {\n",
       "        text-align: right;\n",
       "    }\n",
       "</style>\n",
       "<table border=\"1\" class=\"dataframe\">\n",
       "  <thead>\n",
       "    <tr style=\"text-align: right;\">\n",
       "      <th></th>\n",
       "      <th>translated_description</th>\n",
       "      <th>label</th>\n",
       "      <th>ml_feature</th>\n",
       "    </tr>\n",
       "  </thead>\n",
       "  <tbody>\n",
       "    <tr>\n",
       "      <th>17663</th>\n",
       "      <td>job job failure job planningr</td>\n",
       "      <td>0</td>\n",
       "      <td>job job failure job planningr</td>\n",
       "    </tr>\n",
       "    <tr>\n",
       "      <th>5700</th>\n",
       "      <td>setup outlook wareneingang vzqomdgt</td>\n",
       "      <td>1</td>\n",
       "      <td>setup outlook wareneingang vzqomdgt</td>\n",
       "    </tr>\n",
       "    <tr>\n",
       "      <th>14792</th>\n",
       "      <td>problems with opening intranet documents with ...</td>\n",
       "      <td>1</td>\n",
       "      <td>problem opening intranet document internet exp...</td>\n",
       "    </tr>\n",
       "    <tr>\n",
       "      <th>18468</th>\n",
       "      <td>connect etime window open popular nong screen ...</td>\n",
       "      <td>0</td>\n",
       "      <td>connect etime window open popular nong screen ...</td>\n",
       "    </tr>\n",
       "    <tr>\n",
       "      <th>10806</th>\n",
       "      <td>delete annex calendar series of meetings ex or...</td>\n",
       "      <td>1</td>\n",
       "      <td>delete annex calendar series meeting ex organi...</td>\n",
       "    </tr>\n",
       "  </tbody>\n",
       "</table>\n",
       "</div>"
      ],
      "text/plain": [
       "                                  translated_description  label  \\\n",
       "17663                      job job failure job planningr      0   \n",
       "5700                 setup outlook wareneingang vzqomdgt      1   \n",
       "14792  problems with opening intranet documents with ...      1   \n",
       "18468  connect etime window open popular nong screen ...      0   \n",
       "10806  delete annex calendar series of meetings ex or...      1   \n",
       "\n",
       "                                              ml_feature  \n",
       "17663                      job job failure job planningr  \n",
       "5700                 setup outlook wareneingang vzqomdgt  \n",
       "14792  problem opening intranet document internet exp...  \n",
       "18468  connect etime window open popular nong screen ...  \n",
       "10806  delete annex calendar series meeting ex organi...  "
      ]
     },
     "execution_count": 6,
     "metadata": {},
     "output_type": "execute_result"
    }
   ],
   "source": [
    "data.sample(5)"
   ]
  },
  {
   "cell_type": "code",
   "execution_count": 7,
   "metadata": {
    "colab": {
     "base_uri": "https://localhost:8080/",
     "height": 35
    },
    "id": "s6C6yY6HhItf",
    "outputId": "73d78990-18ad-4e61-f2b8-926b1a852d99"
   },
   "outputs": [
    {
     "data": {
      "text/plain": [
       "'verify user detail name check user name ad reset password advise user login check caller confirm able login issue resolve'"
      ]
     },
     "execution_count": 7,
     "metadata": {},
     "output_type": "execute_result"
    }
   ],
   "source": [
    "data['ml_feature'][0]"
   ]
  },
  {
   "cell_type": "code",
   "execution_count": 8,
   "metadata": {
    "id": "NE5SKtTIkfRg"
   },
   "outputs": [],
   "source": [
    "#remover duplicate words in a sentence\n",
    "def uniquify(string):\n",
    "    output = []\n",
    "    seen = set()\n",
    "    for word in string.split():\n",
    "        if word not in seen:\n",
    "            output.append(word)\n",
    "            seen.add(word)\n",
    "    return ' '.join(output)"
   ]
  },
  {
   "cell_type": "code",
   "execution_count": 9,
   "metadata": {
    "id": "sDVCf3o6l1Zd"
   },
   "outputs": [
    {
     "name": "stderr",
     "output_type": "stream",
     "text": [
      "100%|████████████████████████████████████████████████████████████████████████| 26218/26218 [00:00<00:00, 229979.40it/s]\n"
     ]
    }
   ],
   "source": [
    "data['ml_feature'] = data['ml_feature'].progress_apply(uniquify)"
   ]
  },
  {
   "cell_type": "code",
   "execution_count": 10,
   "metadata": {
    "colab": {
     "base_uri": "https://localhost:8080/",
     "height": 35
    },
    "id": "sH3VDxxcmLbc",
    "outputId": "b7e7fdbe-5ffc-4b1d-9667-cd5b84821a98"
   },
   "outputs": [
    {
     "data": {
      "text/plain": [
       "'verify user detail name check ad reset password advise login caller confirm able issue resolve'"
      ]
     },
     "execution_count": 10,
     "metadata": {},
     "output_type": "execute_result"
    }
   ],
   "source": [
    "data['ml_feature'][0]"
   ]
  },
  {
   "cell_type": "code",
   "execution_count": 11,
   "metadata": {
    "colab": {
     "base_uri": "https://localhost:8080/"
    },
    "id": "8D55ieVzoAsZ",
    "outputId": "127e5e04-4ee5-4bb6-d77a-c5cbc1b7f32e"
   },
   "outputs": [
    {
     "data": {
      "text/plain": [
       "1    50.0\n",
       "0    50.0\n",
       "Name: label, dtype: float64"
      ]
     },
     "execution_count": 11,
     "metadata": {},
     "output_type": "execute_result"
    }
   ],
   "source": [
    "data['label'].value_counts(normalize=True) * 100"
   ]
  },
  {
   "cell_type": "markdown",
   "metadata": {
    "id": "Cv3ODi5WPXoo"
   },
   "source": [
    "#### Data pre-processing "
   ]
  },
  {
   "cell_type": "code",
   "execution_count": 12,
   "metadata": {
    "colab": {
     "base_uri": "https://localhost:8080/"
    },
    "id": "XARuZXOQrSTb",
    "outputId": "fbeabb6a-6752-4ae3-e3c1-9e9ba36fa7e3"
   },
   "outputs": [
    {
     "name": "stdout",
     "output_type": "stream",
     "text": [
      "2\n"
     ]
    }
   ],
   "source": [
    "from sklearn import preprocessing\n",
    "\n",
    "le = preprocessing.LabelEncoder()\n",
    "data[\"label_encoded\"] = le.fit_transform(data[\"label\"])\n",
    "y_classes_len = len(le.classes_)\n",
    "le.classes_\n",
    "print(y_classes_len)"
   ]
  },
  {
   "cell_type": "code",
   "execution_count": 13,
   "metadata": {
    "id": "1TKOxRLzr-c7"
   },
   "outputs": [],
   "source": [
    "def mytokenizer(x):\n",
    "    return [y for y in x.split() if len(y) > 2]"
   ]
  },
  {
   "cell_type": "code",
   "execution_count": 14,
   "metadata": {
    "id": "3trEr9MMsAtE"
   },
   "outputs": [],
   "source": [
    "vec = CountVectorizer(tokenizer=mytokenizer, min_df=0.005)\n",
    "X = vec.fit_transform(data['ml_feature'])\n",
    "df = pd.DataFrame(X.toarray(), columns=vec.get_feature_names_out())"
   ]
  },
  {
   "cell_type": "code",
   "execution_count": 15,
   "metadata": {},
   "outputs": [
    {
     "data": {
      "text/html": [
       "<div>\n",
       "<style scoped>\n",
       "    .dataframe tbody tr th:only-of-type {\n",
       "        vertical-align: middle;\n",
       "    }\n",
       "\n",
       "    .dataframe tbody tr th {\n",
       "        vertical-align: top;\n",
       "    }\n",
       "\n",
       "    .dataframe thead th {\n",
       "        text-align: right;\n",
       "    }\n",
       "</style>\n",
       "<table border=\"1\" class=\"dataframe\">\n",
       "  <thead>\n",
       "    <tr style=\"text-align: right;\">\n",
       "      <th></th>\n",
       "      <th>abende</th>\n",
       "      <th>able</th>\n",
       "      <th>access</th>\n",
       "      <th>account</th>\n",
       "      <th>action</th>\n",
       "      <th>active</th>\n",
       "      <th>add</th>\n",
       "      <th>additional</th>\n",
       "      <th>address</th>\n",
       "      <th>advice</th>\n",
       "      <th>...</th>\n",
       "      <th>window</th>\n",
       "      <th>without</th>\n",
       "      <th>wle</th>\n",
       "      <th>work</th>\n",
       "      <th>workflow</th>\n",
       "      <th>working</th>\n",
       "      <th>would</th>\n",
       "      <th>write</th>\n",
       "      <th>wrong</th>\n",
       "      <th>yesterday</th>\n",
       "    </tr>\n",
       "  </thead>\n",
       "  <tbody>\n",
       "    <tr>\n",
       "      <th>0</th>\n",
       "      <td>0</td>\n",
       "      <td>1</td>\n",
       "      <td>0</td>\n",
       "      <td>0</td>\n",
       "      <td>0</td>\n",
       "      <td>0</td>\n",
       "      <td>0</td>\n",
       "      <td>0</td>\n",
       "      <td>0</td>\n",
       "      <td>0</td>\n",
       "      <td>...</td>\n",
       "      <td>0</td>\n",
       "      <td>0</td>\n",
       "      <td>0</td>\n",
       "      <td>0</td>\n",
       "      <td>0</td>\n",
       "      <td>0</td>\n",
       "      <td>0</td>\n",
       "      <td>0</td>\n",
       "      <td>0</td>\n",
       "      <td>0</td>\n",
       "    </tr>\n",
       "    <tr>\n",
       "      <th>1</th>\n",
       "      <td>0</td>\n",
       "      <td>0</td>\n",
       "      <td>0</td>\n",
       "      <td>0</td>\n",
       "      <td>0</td>\n",
       "      <td>0</td>\n",
       "      <td>0</td>\n",
       "      <td>0</td>\n",
       "      <td>0</td>\n",
       "      <td>0</td>\n",
       "      <td>...</td>\n",
       "      <td>0</td>\n",
       "      <td>0</td>\n",
       "      <td>0</td>\n",
       "      <td>0</td>\n",
       "      <td>0</td>\n",
       "      <td>0</td>\n",
       "      <td>0</td>\n",
       "      <td>0</td>\n",
       "      <td>0</td>\n",
       "      <td>0</td>\n",
       "    </tr>\n",
       "    <tr>\n",
       "      <th>2</th>\n",
       "      <td>0</td>\n",
       "      <td>0</td>\n",
       "      <td>0</td>\n",
       "      <td>0</td>\n",
       "      <td>0</td>\n",
       "      <td>0</td>\n",
       "      <td>0</td>\n",
       "      <td>0</td>\n",
       "      <td>0</td>\n",
       "      <td>0</td>\n",
       "      <td>...</td>\n",
       "      <td>0</td>\n",
       "      <td>0</td>\n",
       "      <td>0</td>\n",
       "      <td>0</td>\n",
       "      <td>0</td>\n",
       "      <td>0</td>\n",
       "      <td>0</td>\n",
       "      <td>0</td>\n",
       "      <td>0</td>\n",
       "      <td>0</td>\n",
       "    </tr>\n",
       "    <tr>\n",
       "      <th>3</th>\n",
       "      <td>0</td>\n",
       "      <td>0</td>\n",
       "      <td>1</td>\n",
       "      <td>0</td>\n",
       "      <td>0</td>\n",
       "      <td>0</td>\n",
       "      <td>0</td>\n",
       "      <td>0</td>\n",
       "      <td>0</td>\n",
       "      <td>0</td>\n",
       "      <td>...</td>\n",
       "      <td>0</td>\n",
       "      <td>0</td>\n",
       "      <td>0</td>\n",
       "      <td>0</td>\n",
       "      <td>0</td>\n",
       "      <td>0</td>\n",
       "      <td>0</td>\n",
       "      <td>0</td>\n",
       "      <td>0</td>\n",
       "      <td>0</td>\n",
       "    </tr>\n",
       "    <tr>\n",
       "      <th>4</th>\n",
       "      <td>0</td>\n",
       "      <td>0</td>\n",
       "      <td>0</td>\n",
       "      <td>0</td>\n",
       "      <td>0</td>\n",
       "      <td>0</td>\n",
       "      <td>0</td>\n",
       "      <td>0</td>\n",
       "      <td>0</td>\n",
       "      <td>0</td>\n",
       "      <td>...</td>\n",
       "      <td>0</td>\n",
       "      <td>0</td>\n",
       "      <td>0</td>\n",
       "      <td>0</td>\n",
       "      <td>0</td>\n",
       "      <td>0</td>\n",
       "      <td>0</td>\n",
       "      <td>0</td>\n",
       "      <td>0</td>\n",
       "      <td>0</td>\n",
       "    </tr>\n",
       "    <tr>\n",
       "      <th>...</th>\n",
       "      <td>...</td>\n",
       "      <td>...</td>\n",
       "      <td>...</td>\n",
       "      <td>...</td>\n",
       "      <td>...</td>\n",
       "      <td>...</td>\n",
       "      <td>...</td>\n",
       "      <td>...</td>\n",
       "      <td>...</td>\n",
       "      <td>...</td>\n",
       "      <td>...</td>\n",
       "      <td>...</td>\n",
       "      <td>...</td>\n",
       "      <td>...</td>\n",
       "      <td>...</td>\n",
       "      <td>...</td>\n",
       "      <td>...</td>\n",
       "      <td>...</td>\n",
       "      <td>...</td>\n",
       "      <td>...</td>\n",
       "      <td>...</td>\n",
       "    </tr>\n",
       "    <tr>\n",
       "      <th>26213</th>\n",
       "      <td>0</td>\n",
       "      <td>0</td>\n",
       "      <td>0</td>\n",
       "      <td>0</td>\n",
       "      <td>0</td>\n",
       "      <td>0</td>\n",
       "      <td>0</td>\n",
       "      <td>0</td>\n",
       "      <td>0</td>\n",
       "      <td>0</td>\n",
       "      <td>...</td>\n",
       "      <td>0</td>\n",
       "      <td>0</td>\n",
       "      <td>0</td>\n",
       "      <td>0</td>\n",
       "      <td>0</td>\n",
       "      <td>0</td>\n",
       "      <td>0</td>\n",
       "      <td>0</td>\n",
       "      <td>0</td>\n",
       "      <td>0</td>\n",
       "    </tr>\n",
       "    <tr>\n",
       "      <th>26214</th>\n",
       "      <td>0</td>\n",
       "      <td>0</td>\n",
       "      <td>0</td>\n",
       "      <td>0</td>\n",
       "      <td>0</td>\n",
       "      <td>0</td>\n",
       "      <td>0</td>\n",
       "      <td>0</td>\n",
       "      <td>0</td>\n",
       "      <td>0</td>\n",
       "      <td>...</td>\n",
       "      <td>0</td>\n",
       "      <td>0</td>\n",
       "      <td>0</td>\n",
       "      <td>0</td>\n",
       "      <td>0</td>\n",
       "      <td>0</td>\n",
       "      <td>0</td>\n",
       "      <td>0</td>\n",
       "      <td>1</td>\n",
       "      <td>0</td>\n",
       "    </tr>\n",
       "    <tr>\n",
       "      <th>26215</th>\n",
       "      <td>0</td>\n",
       "      <td>0</td>\n",
       "      <td>0</td>\n",
       "      <td>0</td>\n",
       "      <td>0</td>\n",
       "      <td>0</td>\n",
       "      <td>0</td>\n",
       "      <td>0</td>\n",
       "      <td>0</td>\n",
       "      <td>0</td>\n",
       "      <td>...</td>\n",
       "      <td>0</td>\n",
       "      <td>0</td>\n",
       "      <td>0</td>\n",
       "      <td>0</td>\n",
       "      <td>0</td>\n",
       "      <td>0</td>\n",
       "      <td>0</td>\n",
       "      <td>0</td>\n",
       "      <td>0</td>\n",
       "      <td>0</td>\n",
       "    </tr>\n",
       "    <tr>\n",
       "      <th>26216</th>\n",
       "      <td>0</td>\n",
       "      <td>0</td>\n",
       "      <td>0</td>\n",
       "      <td>0</td>\n",
       "      <td>0</td>\n",
       "      <td>0</td>\n",
       "      <td>1</td>\n",
       "      <td>0</td>\n",
       "      <td>0</td>\n",
       "      <td>0</td>\n",
       "      <td>...</td>\n",
       "      <td>0</td>\n",
       "      <td>0</td>\n",
       "      <td>0</td>\n",
       "      <td>0</td>\n",
       "      <td>0</td>\n",
       "      <td>1</td>\n",
       "      <td>0</td>\n",
       "      <td>0</td>\n",
       "      <td>0</td>\n",
       "      <td>0</td>\n",
       "    </tr>\n",
       "    <tr>\n",
       "      <th>26217</th>\n",
       "      <td>0</td>\n",
       "      <td>0</td>\n",
       "      <td>0</td>\n",
       "      <td>0</td>\n",
       "      <td>0</td>\n",
       "      <td>0</td>\n",
       "      <td>0</td>\n",
       "      <td>0</td>\n",
       "      <td>0</td>\n",
       "      <td>0</td>\n",
       "      <td>...</td>\n",
       "      <td>0</td>\n",
       "      <td>0</td>\n",
       "      <td>0</td>\n",
       "      <td>0</td>\n",
       "      <td>0</td>\n",
       "      <td>0</td>\n",
       "      <td>0</td>\n",
       "      <td>0</td>\n",
       "      <td>0</td>\n",
       "      <td>0</td>\n",
       "    </tr>\n",
       "  </tbody>\n",
       "</table>\n",
       "<p>26218 rows × 441 columns</p>\n",
       "</div>"
      ],
      "text/plain": [
       "       abende  able  access  account  action  active  add  additional  \\\n",
       "0           0     1       0        0       0       0    0           0   \n",
       "1           0     0       0        0       0       0    0           0   \n",
       "2           0     0       0        0       0       0    0           0   \n",
       "3           0     0       1        0       0       0    0           0   \n",
       "4           0     0       0        0       0       0    0           0   \n",
       "...       ...   ...     ...      ...     ...     ...  ...         ...   \n",
       "26213       0     0       0        0       0       0    0           0   \n",
       "26214       0     0       0        0       0       0    0           0   \n",
       "26215       0     0       0        0       0       0    0           0   \n",
       "26216       0     0       0        0       0       0    1           0   \n",
       "26217       0     0       0        0       0       0    0           0   \n",
       "\n",
       "       address  advice  ...  window  without  wle  work  workflow  working  \\\n",
       "0            0       0  ...       0        0    0     0         0        0   \n",
       "1            0       0  ...       0        0    0     0         0        0   \n",
       "2            0       0  ...       0        0    0     0         0        0   \n",
       "3            0       0  ...       0        0    0     0         0        0   \n",
       "4            0       0  ...       0        0    0     0         0        0   \n",
       "...        ...     ...  ...     ...      ...  ...   ...       ...      ...   \n",
       "26213        0       0  ...       0        0    0     0         0        0   \n",
       "26214        0       0  ...       0        0    0     0         0        0   \n",
       "26215        0       0  ...       0        0    0     0         0        0   \n",
       "26216        0       0  ...       0        0    0     0         0        1   \n",
       "26217        0       0  ...       0        0    0     0         0        0   \n",
       "\n",
       "       would  write  wrong  yesterday  \n",
       "0          0      0      0          0  \n",
       "1          0      0      0          0  \n",
       "2          0      0      0          0  \n",
       "3          0      0      0          0  \n",
       "4          0      0      0          0  \n",
       "...      ...    ...    ...        ...  \n",
       "26213      0      0      0          0  \n",
       "26214      0      0      1          0  \n",
       "26215      0      0      0          0  \n",
       "26216      0      0      0          0  \n",
       "26217      0      0      0          0  \n",
       "\n",
       "[26218 rows x 441 columns]"
      ]
     },
     "execution_count": 15,
     "metadata": {},
     "output_type": "execute_result"
    }
   ],
   "source": [
    "df"
   ]
  },
  {
   "cell_type": "code",
   "execution_count": 16,
   "metadata": {
    "id": "70Gm38QdsDIL"
   },
   "outputs": [],
   "source": [
    "s1 = pd.Series(data['label_encoded'], name=\"label_encoded\")"
   ]
  },
  {
   "cell_type": "code",
   "execution_count": 17,
   "metadata": {
    "id": "HNM4YhItsQgb"
   },
   "outputs": [],
   "source": [
    "df1 = df.reset_index(drop=True)\n",
    "s1 = s1.reset_index(drop=True)"
   ]
  },
  {
   "cell_type": "code",
   "execution_count": 18,
   "metadata": {
    "id": "CcSrNlPasU7v"
   },
   "outputs": [],
   "source": [
    "result = pd.concat([df1, s1], axis=1)"
   ]
  },
  {
   "cell_type": "code",
   "execution_count": 19,
   "metadata": {
    "colab": {
     "base_uri": "https://localhost:8080/",
     "height": 252
    },
    "id": "aWnjK8UGsXXE",
    "outputId": "fcbf9631-2643-4c60-ac88-0d5f7da92ca9"
   },
   "outputs": [
    {
     "data": {
      "text/html": [
       "<div>\n",
       "<style scoped>\n",
       "    .dataframe tbody tr th:only-of-type {\n",
       "        vertical-align: middle;\n",
       "    }\n",
       "\n",
       "    .dataframe tbody tr th {\n",
       "        vertical-align: top;\n",
       "    }\n",
       "\n",
       "    .dataframe thead th {\n",
       "        text-align: right;\n",
       "    }\n",
       "</style>\n",
       "<table border=\"1\" class=\"dataframe\">\n",
       "  <thead>\n",
       "    <tr style=\"text-align: right;\">\n",
       "      <th></th>\n",
       "      <th>abende</th>\n",
       "      <th>able</th>\n",
       "      <th>access</th>\n",
       "      <th>account</th>\n",
       "      <th>action</th>\n",
       "      <th>active</th>\n",
       "      <th>add</th>\n",
       "      <th>additional</th>\n",
       "      <th>address</th>\n",
       "      <th>advice</th>\n",
       "      <th>...</th>\n",
       "      <th>without</th>\n",
       "      <th>wle</th>\n",
       "      <th>work</th>\n",
       "      <th>workflow</th>\n",
       "      <th>working</th>\n",
       "      <th>would</th>\n",
       "      <th>write</th>\n",
       "      <th>wrong</th>\n",
       "      <th>yesterday</th>\n",
       "      <th>label_encoded</th>\n",
       "    </tr>\n",
       "  </thead>\n",
       "  <tbody>\n",
       "    <tr>\n",
       "      <th>18057</th>\n",
       "      <td>0</td>\n",
       "      <td>0</td>\n",
       "      <td>0</td>\n",
       "      <td>0</td>\n",
       "      <td>0</td>\n",
       "      <td>0</td>\n",
       "      <td>0</td>\n",
       "      <td>0</td>\n",
       "      <td>0</td>\n",
       "      <td>0</td>\n",
       "      <td>...</td>\n",
       "      <td>0</td>\n",
       "      <td>0</td>\n",
       "      <td>0</td>\n",
       "      <td>0</td>\n",
       "      <td>0</td>\n",
       "      <td>0</td>\n",
       "      <td>0</td>\n",
       "      <td>0</td>\n",
       "      <td>0</td>\n",
       "      <td>0</td>\n",
       "    </tr>\n",
       "    <tr>\n",
       "      <th>19180</th>\n",
       "      <td>0</td>\n",
       "      <td>0</td>\n",
       "      <td>0</td>\n",
       "      <td>0</td>\n",
       "      <td>0</td>\n",
       "      <td>0</td>\n",
       "      <td>0</td>\n",
       "      <td>0</td>\n",
       "      <td>0</td>\n",
       "      <td>0</td>\n",
       "      <td>...</td>\n",
       "      <td>0</td>\n",
       "      <td>0</td>\n",
       "      <td>0</td>\n",
       "      <td>0</td>\n",
       "      <td>0</td>\n",
       "      <td>0</td>\n",
       "      <td>0</td>\n",
       "      <td>0</td>\n",
       "      <td>0</td>\n",
       "      <td>0</td>\n",
       "    </tr>\n",
       "    <tr>\n",
       "      <th>3331</th>\n",
       "      <td>0</td>\n",
       "      <td>0</td>\n",
       "      <td>0</td>\n",
       "      <td>0</td>\n",
       "      <td>0</td>\n",
       "      <td>0</td>\n",
       "      <td>0</td>\n",
       "      <td>0</td>\n",
       "      <td>0</td>\n",
       "      <td>0</td>\n",
       "      <td>...</td>\n",
       "      <td>0</td>\n",
       "      <td>1</td>\n",
       "      <td>0</td>\n",
       "      <td>0</td>\n",
       "      <td>0</td>\n",
       "      <td>0</td>\n",
       "      <td>0</td>\n",
       "      <td>0</td>\n",
       "      <td>0</td>\n",
       "      <td>0</td>\n",
       "    </tr>\n",
       "    <tr>\n",
       "      <th>20687</th>\n",
       "      <td>0</td>\n",
       "      <td>0</td>\n",
       "      <td>0</td>\n",
       "      <td>0</td>\n",
       "      <td>0</td>\n",
       "      <td>0</td>\n",
       "      <td>0</td>\n",
       "      <td>0</td>\n",
       "      <td>0</td>\n",
       "      <td>0</td>\n",
       "      <td>...</td>\n",
       "      <td>0</td>\n",
       "      <td>0</td>\n",
       "      <td>1</td>\n",
       "      <td>0</td>\n",
       "      <td>0</td>\n",
       "      <td>0</td>\n",
       "      <td>0</td>\n",
       "      <td>0</td>\n",
       "      <td>0</td>\n",
       "      <td>0</td>\n",
       "    </tr>\n",
       "    <tr>\n",
       "      <th>8513</th>\n",
       "      <td>0</td>\n",
       "      <td>0</td>\n",
       "      <td>0</td>\n",
       "      <td>0</td>\n",
       "      <td>0</td>\n",
       "      <td>0</td>\n",
       "      <td>0</td>\n",
       "      <td>0</td>\n",
       "      <td>0</td>\n",
       "      <td>0</td>\n",
       "      <td>...</td>\n",
       "      <td>0</td>\n",
       "      <td>0</td>\n",
       "      <td>1</td>\n",
       "      <td>0</td>\n",
       "      <td>0</td>\n",
       "      <td>0</td>\n",
       "      <td>0</td>\n",
       "      <td>0</td>\n",
       "      <td>0</td>\n",
       "      <td>1</td>\n",
       "    </tr>\n",
       "  </tbody>\n",
       "</table>\n",
       "<p>5 rows × 442 columns</p>\n",
       "</div>"
      ],
      "text/plain": [
       "       abende  able  access  account  action  active  add  additional  \\\n",
       "18057       0     0       0        0       0       0    0           0   \n",
       "19180       0     0       0        0       0       0    0           0   \n",
       "3331        0     0       0        0       0       0    0           0   \n",
       "20687       0     0       0        0       0       0    0           0   \n",
       "8513        0     0       0        0       0       0    0           0   \n",
       "\n",
       "       address  advice  ...  without  wle  work  workflow  working  would  \\\n",
       "18057        0       0  ...        0    0     0         0        0      0   \n",
       "19180        0       0  ...        0    0     0         0        0      0   \n",
       "3331         0       0  ...        0    1     0         0        0      0   \n",
       "20687        0       0  ...        0    0     1         0        0      0   \n",
       "8513         0       0  ...        0    0     1         0        0      0   \n",
       "\n",
       "       write  wrong  yesterday  label_encoded  \n",
       "18057      0      0          0              0  \n",
       "19180      0      0          0              0  \n",
       "3331       0      0          0              0  \n",
       "20687      0      0          0              0  \n",
       "8513       0      0          0              1  \n",
       "\n",
       "[5 rows x 442 columns]"
      ]
     },
     "execution_count": 19,
     "metadata": {},
     "output_type": "execute_result"
    }
   ],
   "source": [
    "result.sample(5)"
   ]
  },
  {
   "cell_type": "code",
   "execution_count": 20,
   "metadata": {
    "id": "eCEZIWdhUhgs"
   },
   "outputs": [],
   "source": [
    "result = result.loc[:,~result.columns.duplicated()]"
   ]
  },
  {
   "cell_type": "code",
   "execution_count": 21,
   "metadata": {
    "colab": {
     "base_uri": "https://localhost:8080/",
     "height": 252
    },
    "id": "fj4jANSOUutI",
    "outputId": "239ac7cb-6e53-45de-9e91-7533ccb2d0f4"
   },
   "outputs": [
    {
     "data": {
      "text/html": [
       "<div>\n",
       "<style scoped>\n",
       "    .dataframe tbody tr th:only-of-type {\n",
       "        vertical-align: middle;\n",
       "    }\n",
       "\n",
       "    .dataframe tbody tr th {\n",
       "        vertical-align: top;\n",
       "    }\n",
       "\n",
       "    .dataframe thead th {\n",
       "        text-align: right;\n",
       "    }\n",
       "</style>\n",
       "<table border=\"1\" class=\"dataframe\">\n",
       "  <thead>\n",
       "    <tr style=\"text-align: right;\">\n",
       "      <th></th>\n",
       "      <th>abende</th>\n",
       "      <th>able</th>\n",
       "      <th>access</th>\n",
       "      <th>account</th>\n",
       "      <th>action</th>\n",
       "      <th>active</th>\n",
       "      <th>add</th>\n",
       "      <th>additional</th>\n",
       "      <th>address</th>\n",
       "      <th>advice</th>\n",
       "      <th>...</th>\n",
       "      <th>without</th>\n",
       "      <th>wle</th>\n",
       "      <th>work</th>\n",
       "      <th>workflow</th>\n",
       "      <th>working</th>\n",
       "      <th>would</th>\n",
       "      <th>write</th>\n",
       "      <th>wrong</th>\n",
       "      <th>yesterday</th>\n",
       "      <th>label_encoded</th>\n",
       "    </tr>\n",
       "  </thead>\n",
       "  <tbody>\n",
       "    <tr>\n",
       "      <th>589</th>\n",
       "      <td>0</td>\n",
       "      <td>0</td>\n",
       "      <td>0</td>\n",
       "      <td>0</td>\n",
       "      <td>0</td>\n",
       "      <td>0</td>\n",
       "      <td>0</td>\n",
       "      <td>0</td>\n",
       "      <td>0</td>\n",
       "      <td>0</td>\n",
       "      <td>...</td>\n",
       "      <td>0</td>\n",
       "      <td>0</td>\n",
       "      <td>0</td>\n",
       "      <td>0</td>\n",
       "      <td>0</td>\n",
       "      <td>0</td>\n",
       "      <td>0</td>\n",
       "      <td>0</td>\n",
       "      <td>0</td>\n",
       "      <td>1</td>\n",
       "    </tr>\n",
       "    <tr>\n",
       "      <th>16042</th>\n",
       "      <td>0</td>\n",
       "      <td>0</td>\n",
       "      <td>0</td>\n",
       "      <td>0</td>\n",
       "      <td>0</td>\n",
       "      <td>0</td>\n",
       "      <td>0</td>\n",
       "      <td>0</td>\n",
       "      <td>0</td>\n",
       "      <td>0</td>\n",
       "      <td>...</td>\n",
       "      <td>0</td>\n",
       "      <td>0</td>\n",
       "      <td>0</td>\n",
       "      <td>0</td>\n",
       "      <td>0</td>\n",
       "      <td>0</td>\n",
       "      <td>0</td>\n",
       "      <td>0</td>\n",
       "      <td>0</td>\n",
       "      <td>0</td>\n",
       "    </tr>\n",
       "    <tr>\n",
       "      <th>22227</th>\n",
       "      <td>0</td>\n",
       "      <td>0</td>\n",
       "      <td>1</td>\n",
       "      <td>0</td>\n",
       "      <td>0</td>\n",
       "      <td>0</td>\n",
       "      <td>0</td>\n",
       "      <td>0</td>\n",
       "      <td>0</td>\n",
       "      <td>0</td>\n",
       "      <td>...</td>\n",
       "      <td>0</td>\n",
       "      <td>0</td>\n",
       "      <td>0</td>\n",
       "      <td>0</td>\n",
       "      <td>0</td>\n",
       "      <td>0</td>\n",
       "      <td>0</td>\n",
       "      <td>0</td>\n",
       "      <td>0</td>\n",
       "      <td>0</td>\n",
       "    </tr>\n",
       "    <tr>\n",
       "      <th>24326</th>\n",
       "      <td>0</td>\n",
       "      <td>0</td>\n",
       "      <td>0</td>\n",
       "      <td>0</td>\n",
       "      <td>0</td>\n",
       "      <td>0</td>\n",
       "      <td>0</td>\n",
       "      <td>0</td>\n",
       "      <td>0</td>\n",
       "      <td>0</td>\n",
       "      <td>...</td>\n",
       "      <td>0</td>\n",
       "      <td>0</td>\n",
       "      <td>0</td>\n",
       "      <td>0</td>\n",
       "      <td>0</td>\n",
       "      <td>0</td>\n",
       "      <td>0</td>\n",
       "      <td>0</td>\n",
       "      <td>0</td>\n",
       "      <td>1</td>\n",
       "    </tr>\n",
       "    <tr>\n",
       "      <th>17732</th>\n",
       "      <td>0</td>\n",
       "      <td>0</td>\n",
       "      <td>0</td>\n",
       "      <td>0</td>\n",
       "      <td>0</td>\n",
       "      <td>0</td>\n",
       "      <td>0</td>\n",
       "      <td>0</td>\n",
       "      <td>0</td>\n",
       "      <td>0</td>\n",
       "      <td>...</td>\n",
       "      <td>0</td>\n",
       "      <td>0</td>\n",
       "      <td>1</td>\n",
       "      <td>0</td>\n",
       "      <td>0</td>\n",
       "      <td>0</td>\n",
       "      <td>0</td>\n",
       "      <td>0</td>\n",
       "      <td>0</td>\n",
       "      <td>0</td>\n",
       "    </tr>\n",
       "  </tbody>\n",
       "</table>\n",
       "<p>5 rows × 442 columns</p>\n",
       "</div>"
      ],
      "text/plain": [
       "       abende  able  access  account  action  active  add  additional  \\\n",
       "589         0     0       0        0       0       0    0           0   \n",
       "16042       0     0       0        0       0       0    0           0   \n",
       "22227       0     0       1        0       0       0    0           0   \n",
       "24326       0     0       0        0       0       0    0           0   \n",
       "17732       0     0       0        0       0       0    0           0   \n",
       "\n",
       "       address  advice  ...  without  wle  work  workflow  working  would  \\\n",
       "589          0       0  ...        0    0     0         0        0      0   \n",
       "16042        0       0  ...        0    0     0         0        0      0   \n",
       "22227        0       0  ...        0    0     0         0        0      0   \n",
       "24326        0       0  ...        0    0     0         0        0      0   \n",
       "17732        0       0  ...        0    0     1         0        0      0   \n",
       "\n",
       "       write  wrong  yesterday  label_encoded  \n",
       "589        0      0          0              1  \n",
       "16042      0      0          0              0  \n",
       "22227      0      0          0              0  \n",
       "24326      0      0          0              1  \n",
       "17732      0      0          0              0  \n",
       "\n",
       "[5 rows x 442 columns]"
      ]
     },
     "execution_count": 21,
     "metadata": {},
     "output_type": "execute_result"
    }
   ],
   "source": [
    "result.sample(5)"
   ]
  },
  {
   "cell_type": "code",
   "execution_count": 22,
   "metadata": {
    "id": "3K_hzRdmsZiA"
   },
   "outputs": [
    {
     "data": {
      "text/plain": [
       "((26218, 441), (26218,))"
      ]
     },
     "execution_count": 22,
     "metadata": {},
     "output_type": "execute_result"
    }
   ],
   "source": [
    "#creating a copy of the train data and seperating the target column and the predictor variables\n",
    "\n",
    "X = result.drop(['label_encoded'],axis=1)\n",
    "y = result['label_encoded']\n",
    "X.shape, y.shape"
   ]
  },
  {
   "cell_type": "code",
   "execution_count": 23,
   "metadata": {
    "id": "CqeALJLQsmka"
   },
   "outputs": [],
   "source": [
    "# splitting data training dataset into train and test set for independent attributes\n",
    "X_train, X_test, Y_train, Y_test = train_test_split(X,y, test_size=.30,  random_state=seed)"
   ]
  },
  {
   "cell_type": "code",
   "execution_count": 24,
   "metadata": {
    "colab": {
     "base_uri": "https://localhost:8080/"
    },
    "id": "qWNJXqbmspGd",
    "outputId": "84203cc5-48ca-4dc9-a254-cb62bf72197d"
   },
   "outputs": [
    {
     "name": "stdout",
     "output_type": "stream",
     "text": [
      "LR: 82.802510% (0.962969%)\n",
      "KNN: 90.203198% (0.583161%)\n",
      "GNB: 74.311441% (0.996235%)\n",
      "DT: 89.797039% (0.485319%)\n",
      "RF: 95.949987% (0.314048%)\n",
      "GBT: 82.492040% (0.755609%)\n",
      "XGB: 90.005724% (0.799015%)\n",
      "LightGBM: 88.262068% (0.721757%)\n"
     ]
    }
   ],
   "source": [
    "# Initializaing various classification algorithms with normal dataset and choosing the best model based on auc score for tuning\n",
    "\n",
    "models = []\n",
    "models.append((\"LR\", LogisticRegression()))\n",
    "models.append((\"KNN\", KNeighborsClassifier()))\n",
    "models.append((\"GNB\", GaussianNB()))\n",
    "models.append((\"DT\", DecisionTreeClassifier()))\n",
    "models.append((\"RF\", RandomForestClassifier()))\n",
    "models.append((\"GBT\", GradientBoostingClassifier()))\n",
    "models.append((\"XGB\", XGBClassifier(verbosity=0)))\n",
    "models.append((\"LightGBM\",LGBMClassifier()))\n",
    "\n",
    "#testing models\n",
    "results = []\n",
    "names = []\n",
    "\n",
    "for name, model in models:\n",
    "    kfold = StratifiedKFold(n_splits=10, random_state=seed, shuffle=True)\n",
    "    cv_results = cross_val_score(model, X_train, Y_train, cv=kfold, scoring='roc_auc_ovo', n_jobs=-1)\n",
    "    results.append(cv_results)\n",
    "    names.append(name)\n",
    "    msg = '%s: %f%% (%f%%)' % (name, cv_results.mean()*100, cv_results.std()*100)\n",
    "    print(msg)"
   ]
  },
  {
   "cell_type": "markdown",
   "metadata": {
    "id": "tFvvFZA4PXor"
   },
   "source": [
    "#### LightGBM with RandomsearchCV"
   ]
  },
  {
   "cell_type": "code",
   "execution_count": 25,
   "metadata": {
    "id": "OjrRgdmnjfDm"
   },
   "outputs": [],
   "source": [
    "from scipy.stats import randint as sp_randint\n",
    "from scipy.stats import uniform as sp_uniform"
   ]
  },
  {
   "cell_type": "code",
   "execution_count": 26,
   "metadata": {
    "colab": {
     "base_uri": "https://localhost:8080/"
    },
    "id": "Jp8Z4m1Gje2P",
    "outputId": "a09d1d03-0a61-41b1-9637-3cedc1bdc123"
   },
   "outputs": [
    {
     "name": "stdout",
     "output_type": "stream",
     "text": [
      "Fitting 5 folds for each of 100 candidates, totalling 500 fits\n"
     ]
    },
    {
     "data": {
      "text/plain": [
       "{'colsample_bytree': 0.6751685445687777,\n",
       " 'min_child_samples': 140,\n",
       " 'min_child_weight': 0.1,\n",
       " 'num_leaves': 24,\n",
       " 'reg_alpha': 0.1,\n",
       " 'reg_lambda': 20,\n",
       " 'scale_pos_weight': 2,\n",
       " 'subsample': 0.4946857565935163}"
      ]
     },
     "execution_count": 26,
     "metadata": {},
     "output_type": "execute_result"
    }
   ],
   "source": [
    "param_test ={'num_leaves': sp_randint(6, 50), \n",
    "             'min_child_samples': sp_randint(100, 500), \n",
    "             'min_child_weight': [1e-5, 1e-3, 1e-2, 1e-1, 1, 1e1, 1e2, 1e3, 1e4],\n",
    "             'subsample': sp_uniform(loc=0.2, scale=0.8), \n",
    "             'colsample_bytree': sp_uniform(loc=0.4, scale=0.6),\n",
    "             'reg_alpha': [0, 1e-1, 1, 2, 5, 7, 10, 50, 100],\n",
    "             'reg_lambda': [0, 1e-1, 1, 5, 10, 20, 50, 100],\n",
    "             'scale_pos_weight':[1,2,6,12]}\n",
    "\n",
    "sample = 100\n",
    "\n",
    "#n_estimators is set to a \"large value\". The actual number of trees build will depend on early stopping and 2000 define only the absolute maximum\n",
    "lgb = LGBMClassifier(max_depth=-1, random_state=seed, silent=True, metric='logloss', n_jobs=-1, n_estimators=2000)\n",
    "gs = RandomizedSearchCV(estimator=lgb,\n",
    "                        param_distributions=param_test, \n",
    "                        n_iter=sample,\n",
    "                        cv=5,\n",
    "                        refit=True,\n",
    "                        random_state=seed,\n",
    "                        verbose=True)\n",
    "\n",
    "gs.fit(X_train, Y_train)\n",
    "gs.best_params_"
   ]
  },
  {
   "cell_type": "code",
   "execution_count": 27,
   "metadata": {
    "colab": {
     "base_uri": "https://localhost:8080/"
    },
    "id": "2twf0Jomsu0r",
    "outputId": "64807812-daa5-49be-890f-dce3a27bb635"
   },
   "outputs": [
    {
     "data": {
      "text/plain": [
       "LGBMClassifier(colsample_bytree=0.6751685445687777, min_child_samples=140,\n",
       "               min_child_weight=0.1, num_leaves=24, reg_alpha=0.1,\n",
       "               reg_lambda=20, scale_pos_weight=2, subsample=0.4946857565935163)"
      ]
     },
     "execution_count": 27,
     "metadata": {},
     "output_type": "execute_result"
    }
   ],
   "source": [
    "lgb = LGBMClassifier(colsample_bytree=gs.best_params_['colsample_bytree'],\n",
    "                   min_child_samples=gs.best_params_['min_child_samples'],\n",
    "                   min_child_weight=gs.best_params_['min_child_weight'],\n",
    "                   num_leaves=gs.best_params_['num_leaves'],\n",
    "                   reg_alpha=gs.best_params_['reg_alpha'],\n",
    "                   reg_lambda=gs.best_params_['reg_lambda'],\n",
    "                   scale_pos_weight=gs.best_params_['scale_pos_weight'],\n",
    "                   subsample=gs.best_params_['subsample'])\n",
    "lgb.fit(X_train, Y_train)"
   ]
  },
  {
   "cell_type": "code",
   "execution_count": 28,
   "metadata": {
    "colab": {
     "base_uri": "https://localhost:8080/"
    },
    "id": "nFia7LxYUKPp",
    "outputId": "17165432-c98e-4a7a-8201-0d150fbe599a"
   },
   "outputs": [
    {
     "name": "stdout",
     "output_type": "stream",
     "text": [
      "Accuracy Score of Training Data:  0.7276591107236269\n"
     ]
    }
   ],
   "source": [
    "modellgb1 = lgb.score(X_train, Y_train)\n",
    "print('Accuracy Score of Training Data: ', modellgb1)"
   ]
  },
  {
   "cell_type": "code",
   "execution_count": 29,
   "metadata": {
    "colab": {
     "base_uri": "https://localhost:8080/"
    },
    "id": "eceE5t1nZeKw",
    "outputId": "2c6b9857-15ab-4b47-f439-e7886a6f5dec"
   },
   "outputs": [
    {
     "name": "stdout",
     "output_type": "stream",
     "text": [
      "Accuracy Score of Test Data: 0.7140859394863972\n"
     ]
    }
   ],
   "source": [
    "y_predictlg1= lgb.predict(X_test)\n",
    "modellg1 = accuracy_score(Y_test, y_predictlg1)\n",
    "print('Accuracy Score of Test Data:', modellg1)"
   ]
  },
  {
   "cell_type": "code",
   "execution_count": 30,
   "metadata": {
    "colab": {
     "base_uri": "https://localhost:8080/"
    },
    "id": "oVmsYUHBZgKU",
    "outputId": "c61941ea-6905-46cf-f285-175b3acba677"
   },
   "outputs": [
    {
     "name": "stdout",
     "output_type": "stream",
     "text": [
      "Classification Report\n",
      "              precision    recall  f1-score   support\n",
      "\n",
      "           0       0.86      0.51      0.64      3922\n",
      "           1       0.65      0.92      0.76      3944\n",
      "\n",
      "    accuracy                           0.71      7866\n",
      "   macro avg       0.76      0.71      0.70      7866\n",
      "weighted avg       0.76      0.71      0.70      7866\n",
      "\n"
     ]
    }
   ],
   "source": [
    "#printing classification report\n",
    "print(\"Classification Report\")\n",
    "print(metrics.classification_report(Y_test, y_predictlg1, labels=[0,1]))"
   ]
  },
  {
   "cell_type": "code",
   "execution_count": 31,
   "metadata": {},
   "outputs": [
    {
     "data": {
      "image/png": "[encoded data removed]",
      "text/plain": [
       "<Figure size 432x288 with 1 Axes>"
      ]
     },
     "metadata": {},
     "output_type": "display_data"
    }
   ],
   "source": [
    "def plot_confusion_matrix(y_true, y_pred, ax, class_names  = ['Positive', 'Negative'], vmax=None,\n",
    "                           normalized=True, title='Confusion matrix'):\n",
    "    \"\"\"\n",
    "    Helper fuction to generate a clean Confusion Matrix using seaborn library.\n",
    "    y_true: True labels, y_pred: Model Predictions, class_names: Override if needed\n",
    "    normalized: True, gives the proportions instead of absolute numbers\n",
    "    \"\"\"\n",
    "    matrix = confusion_matrix(y_true,y_pred)\n",
    "    if normalized:\n",
    "        matrix = matrix.astype('float') / matrix.sum(axis=1)[:, np.newaxis]\n",
    "    annot_kws = {'fontsize':30, \n",
    "                'fontstyle': 'italic'}\n",
    "    sns.heatmap(matrix, vmax=vmax, annot=True,  annot_kws = annot_kws,\n",
    "                square=True, ax=ax, cbar=False,\n",
    "                cmap=sns.diverging_palette(20, 250, as_cmap=True), \n",
    "                linecolor='black', linewidths=0.5,\n",
    "                xticklabels=class_names)\n",
    "    ax.set_title(title, y=1.20, fontsize=16)\n",
    "    ax.set_ylabel('True labels', fontsize=12)\n",
    "    ax.set_xlabel('Predicted labels', y=1.10, fontsize=12)\n",
    "    ax.set_yticklabels(class_names, rotation=0)\n",
    "    \n",
    "fig, axis1 = plt.subplots(nrows=1, ncols=1)\n",
    "plot_confusion_matrix(Y_test, y_predictlg1, ax=axis1, title='Confusion matrix (Light GBM Classifier)')"
   ]
  },
  {
   "cell_type": "code",
   "execution_count": 32,
   "metadata": {},
   "outputs": [
    {
     "data": {
      "image/png": "[encoded data removed]",
      "text/plain": [
       "<Figure size 432x288 with 1 Axes>"
      ]
     },
     "metadata": {},
     "output_type": "display_data"
    }
   ],
   "source": [
    "def plot_multiclass_roc(clf, X_test, y_test, n_classes, figsize=(17, 6)):\n",
    "    y_score = clf.predict_proba(X_test)\n",
    "\n",
    "    # structures\n",
    "    fpr = dict()\n",
    "    tpr = dict()\n",
    "    roc_auc = dict()\n",
    "\n",
    "    # calculate dummies once\n",
    "    y_test_dummies = pd.get_dummies(y_test, drop_first=False).values\n",
    "    for i in range(n_classes):\n",
    "        fpr[i], tpr[i], _ = metrics.roc_curve(y_test_dummies[:, i], y_score[:, i])\n",
    "        roc_auc[i] = metrics.auc(fpr[i], tpr[i])\n",
    "\n",
    "    # roc for each class\n",
    "    fig, ax = plt.subplots(figsize=figsize)\n",
    "    ax.plot([0, 1], [0, 1], 'k--')\n",
    "    ax.set_xlim([0.0, 1.0])\n",
    "    ax.set_ylim([0.0, 1.05])\n",
    "    ax.set_xlabel('False Positive Rate')\n",
    "    ax.set_ylabel('True Positive Rate')\n",
    "    ax.set_title('Receiver operating characteristic example')\n",
    "    for i in range(n_classes):\n",
    "        ax.plot(fpr[i], tpr[i], label='ROC curve (area = %0.2f) for label %i' % (roc_auc[i], i))\n",
    "    ax.legend(loc=\"best\")\n",
    "    ax.grid(alpha=.4)\n",
    "    sns.despine()\n",
    "    plt.savefig('ROC_Curve_RF.png')\n",
    "    plt.show()\n",
    "\n",
    "plot_multiclass_roc(lgb, X_test, Y_test, n_classes=2, figsize=(6, 4))"
   ]
  },
  {
   "cell_type": "markdown",
   "metadata": {
    "id": "AomagOxZPXot"
   },
   "source": [
    "#### Random forest with RandomsearchCV"
   ]
  },
  {
   "cell_type": "code",
   "execution_count": 33,
   "metadata": {
    "id": "wonFyRXEsAQL"
   },
   "outputs": [],
   "source": [
    "# Number of trees in random forest\n",
    "n_estimators = [int(x) for x in np.linspace(start = 50, stop = 500, num = 50)]\n",
    "# Number of features to consider at every split\n",
    "max_features = ['auto', 'sqrt']\n",
    "# Maximum number of levels in tree\n",
    "max_depth = [int(x) for x in np.linspace(10, 110, num = 11)]\n",
    "max_depth.append(None)\n",
    "# Minimum number of samples required to split a node\n",
    "min_samples_split = range(2,100,5)\n",
    "# Minimum number of samples required at each leaf node\n",
    "min_samples_leaf = range(1,100,10)\n",
    "# Method of selecting samples for training each tree\n",
    "bootstrap = [True, False]\n",
    "\n",
    "# Create the random grid\n",
    "random_grid = {'n_estimators': n_estimators,\n",
    "               'max_features': max_features,\n",
    "               'max_depth': max_depth,\n",
    "               'min_samples_split': min_samples_split,\n",
    "               'min_samples_leaf': min_samples_leaf,\n",
    "               'bootstrap': bootstrap,\n",
    "               'criterion':['gini','entropy']}"
   ]
  },
  {
   "cell_type": "code",
   "execution_count": 34,
   "metadata": {
    "colab": {
     "base_uri": "https://localhost:8080/"
    },
    "id": "5COagnlmsLPa",
    "outputId": "28dd3ea5-24bc-4584-ee58-2108667b3052"
   },
   "outputs": [
    {
     "name": "stdout",
     "output_type": "stream",
     "text": [
      "Fitting 5 folds for each of 10 candidates, totalling 50 fits\n"
     ]
    },
    {
     "data": {
      "text/plain": [
       "{'n_estimators': 279,\n",
       " 'min_samples_split': 42,\n",
       " 'min_samples_leaf': 1,\n",
       " 'max_features': 'sqrt',\n",
       " 'max_depth': 90,\n",
       " 'criterion': 'gini',\n",
       " 'bootstrap': False}"
      ]
     },
     "execution_count": 34,
     "metadata": {},
     "output_type": "execute_result"
    }
   ],
   "source": [
    "rf = RandomForestClassifier()\n",
    "rf_random = RandomizedSearchCV(estimator=rf,\n",
    "                               param_distributions=random_grid,\n",
    "                               cv=5,\n",
    "                               verbose=2,\n",
    "                               random_state=seed,\n",
    "                               n_jobs=-1)\n",
    "rf_random.fit(X_train, Y_train)\n",
    "rf_random.best_params_"
   ]
  },
  {
   "cell_type": "code",
   "execution_count": 35,
   "metadata": {
    "colab": {
     "base_uri": "https://localhost:8080/"
    },
    "id": "suBgf3asZl3x",
    "outputId": "7898c2e6-78d3-4edd-ec4c-223b53a7e522"
   },
   "outputs": [
    {
     "data": {
      "text/plain": [
       "RandomForestClassifier(bootstrap=False, max_depth=90, max_features='sqrt',\n",
       "                       min_samples_split=42, n_estimators=279)"
      ]
     },
     "execution_count": 35,
     "metadata": {},
     "output_type": "execute_result"
    }
   ],
   "source": [
    "rf_grid1 = RandomForestClassifier(n_estimators=rf_random.best_params_['n_estimators'],\n",
    "                                  min_samples_split=rf_random.best_params_['min_samples_split'],\n",
    "                                  min_samples_leaf=rf_random.best_params_['min_samples_leaf'],\n",
    "                                  max_features=rf_random.best_params_['max_features'],\n",
    "                                  max_depth=rf_random.best_params_['max_depth'],\n",
    "                                  criterion=rf_random.best_params_['criterion'],\n",
    "                                  bootstrap=rf_random.best_params_['bootstrap'])\n",
    "rf_grid1.fit(X_train, Y_train)"
   ]
  },
  {
   "cell_type": "code",
   "execution_count": 36,
   "metadata": {
    "colab": {
     "base_uri": "https://localhost:8080/"
    },
    "id": "8-s9s3dbZsTE",
    "outputId": "cc5621cb-f528-4a35-fb44-f4b18ae6fc6b"
   },
   "outputs": [
    {
     "name": "stdout",
     "output_type": "stream",
     "text": [
      "Accuracy Score of Training Data:  0.9137423714036618\n"
     ]
    }
   ],
   "source": [
    "modelrfg1_score = rf_grid1.score(X_train, Y_train)\n",
    "print('Accuracy Score of Training Data: ', modelrfg1_score)"
   ]
  },
  {
   "cell_type": "code",
   "execution_count": 37,
   "metadata": {
    "colab": {
     "base_uri": "https://localhost:8080/"
    },
    "id": "nlhxzDTdZwEt",
    "outputId": "8cb4e854-9e7b-4ed7-e75e-99a2728ed207"
   },
   "outputs": [
    {
     "name": "stdout",
     "output_type": "stream",
     "text": [
      "Accuracy Score of Test Data: 0.8702008644800406\n"
     ]
    }
   ],
   "source": [
    "y_predictrfg1 = rf_grid1.predict(X_test)\n",
    "modelrfg1_score = accuracy_score(Y_test, y_predictrfg1)\n",
    "print('Accuracy Score of Test Data:', modelrfg1_score)"
   ]
  },
  {
   "cell_type": "code",
   "execution_count": 38,
   "metadata": {
    "colab": {
     "base_uri": "https://localhost:8080/"
    },
    "id": "GSJXRauXZyqu",
    "outputId": "231faec0-a3af-419d-bedb-9fb7bdb44de1"
   },
   "outputs": [
    {
     "name": "stdout",
     "output_type": "stream",
     "text": [
      "Classification Report\n",
      "              precision    recall  f1-score   support\n",
      "\n",
      "           0       0.89      0.84      0.87      3922\n",
      "           1       0.85      0.90      0.87      3944\n",
      "           2       0.00      0.00      0.00         0\n",
      "\n",
      "   micro avg       0.87      0.87      0.87      7866\n",
      "   macro avg       0.58      0.58      0.58      7866\n",
      "weighted avg       0.87      0.87      0.87      7866\n",
      "\n"
     ]
    }
   ],
   "source": [
    "#printing classification report\n",
    "print(\"Classification Report\")\n",
    "print(metrics.classification_report(Y_test, y_predictrfg1, labels=[0,1,2]))"
   ]
  },
  {
   "cell_type": "code",
   "execution_count": 39,
   "metadata": {
    "colab": {
     "base_uri": "https://localhost:8080/",
     "height": 305
    },
    "id": "VaLP2rpxZ1e1",
    "outputId": "81ebe020-3e82-4516-d50c-1f393146c247"
   },
   "outputs": [
    {
     "data": {
      "image/png": "[encoded data removed]",
      "text/plain": [
       "<Figure size 432x288 with 1 Axes>"
      ]
     },
     "metadata": {},
     "output_type": "display_data"
    }
   ],
   "source": [
    "fig, axis1 = plt.subplots(nrows=1, ncols=1)\n",
    "plot_confusion_matrix(Y_test, y_predictrfg1, ax=axis1, title='Confusion matrix (Random Forest Classifier)')"
   ]
  },
  {
   "cell_type": "code",
   "execution_count": 40,
   "metadata": {},
   "outputs": [
    {
     "data": {
      "image/png": "[encoded data removed]",
      "text/plain": [
       "<Figure size 432x288 with 1 Axes>"
      ]
     },
     "metadata": {},
     "output_type": "display_data"
    }
   ],
   "source": [
    "plot_multiclass_roc(rf_grid1, X_test, Y_test, n_classes=2, figsize=(6, 4))"
   ]
  },
  {
   "cell_type": "markdown",
   "metadata": {
    "id": "TkUOGhDiQARf"
   },
   "source": [
    "#### XGBoost with RandomsearchCV"
   ]
  },
  {
   "cell_type": "code",
   "execution_count": 41,
   "metadata": {
    "colab": {
     "base_uri": "https://localhost:8080/"
    },
    "id": "lu7cGCIMtWiy",
    "outputId": "3ef59dcb-95dc-4216-ebe3-b3f154d73a2c"
   },
   "outputs": [
    {
     "name": "stdout",
     "output_type": "stream",
     "text": [
      "Fitting 5 folds for each of 10 candidates, totalling 50 fits\n",
      "[17:06:18] WARNING: ..\\src\\learner.cc:1095: Starting in XGBoost 1.3.0, the default evaluation metric used with the objective 'binary:logistic' was changed from 'error' to 'logloss'. Explicitly set eval_metric if you'd like to restore the old behavior.\n"
     ]
    },
    {
     "data": {
      "text/plain": [
       "{'min_child_weight': 3,\n",
       " 'max_depth': 12,\n",
       " 'learning_rate': 0.3,\n",
       " 'gamma': 0.1,\n",
       " 'colsample_bytree': 0.7}"
      ]
     },
     "execution_count": 41,
     "metadata": {},
     "output_type": "execute_result"
    }
   ],
   "source": [
    "xgb_para = {\"learning_rate\"    : [0.05, 0.10, 0.15, 0.20, 0.25, 0.30 ] ,\n",
    "            \"max_depth\"        : [ 3, 4, 5, 6, 8, 10, 12, 15],\n",
    "            \"min_child_weight\" : [ 1, 3, 5, 7 ],\n",
    "            \"gamma\"            : [ 0.0, 0.1, 0.2 , 0.3, 0.4 ],\n",
    "            \"colsample_bytree\" : [ 0.3, 0.4, 0.5 , 0.7 ] \n",
    "           }\n",
    "\n",
    "xgb = XGBClassifier()\n",
    "xgb_hy = RandomizedSearchCV(estimator=xgb,\n",
    "                            param_distributions=xgb_para,\n",
    "                            cv=5,\n",
    "                            verbose=2,\n",
    "                            random_state=seed,\n",
    "                            n_jobs=-1)\n",
    "\n",
    "xgb_hy.fit(X_train, Y_train)\n",
    "xgb_hy.best_params_"
   ]
  },
  {
   "cell_type": "code",
   "execution_count": 42,
   "metadata": {
    "colab": {
     "base_uri": "https://localhost:8080/"
    },
    "id": "vMR1odFhZ4I-",
    "outputId": "c6722061-ff95-41e3-df58-c11a22922036"
   },
   "outputs": [
    {
     "name": "stdout",
     "output_type": "stream",
     "text": [
      "[17:06:22] WARNING: ..\\src\\learner.cc:1095: Starting in XGBoost 1.3.0, the default evaluation metric used with the objective 'binary:logistic' was changed from 'error' to 'logloss'. Explicitly set eval_metric if you'd like to restore the old behavior.\n"
     ]
    },
    {
     "data": {
      "text/plain": [
       "XGBClassifier(base_score=0.5, booster='gbtree', colsample_bylevel=1,\n",
       "              colsample_bynode=1, colsample_bytree=0.7, gamma=0.1, gpu_id=-1,\n",
       "              importance_type='gain', interaction_constraints='',\n",
       "              learning_rate=0.3, max_delta_step=0, max_depth=12,\n",
       "              min_child_weight=3, missing=nan, monotone_constraints='()',\n",
       "              n_estimators=100, n_jobs=16, num_parallel_tree=1, random_state=7,\n",
       "              reg_alpha=0, reg_lambda=1, scale_pos_weight=1, subsample=1,\n",
       "              tree_method='exact', validate_parameters=1, verbosity=None)"
      ]
     },
     "execution_count": 42,
     "metadata": {},
     "output_type": "execute_result"
    }
   ],
   "source": [
    "xgb=XGBClassifier(min_child_weight=xgb_hy.best_params_['min_child_weight'],\n",
    "                  max_depth=xgb_hy.best_params_['max_depth'],\n",
    "                  learning_rate=xgb_hy.best_params_['learning_rate'],\n",
    "                  gamma=xgb_hy.best_params_['gamma'],\n",
    "                  colsample_bytree=xgb_hy.best_params_['colsample_bytree'],\n",
    "                  random_state=seed)\n",
    "\n",
    "xgb.fit(X_train,Y_train)"
   ]
  },
  {
   "cell_type": "code",
   "execution_count": 43,
   "metadata": {
    "colab": {
     "base_uri": "https://localhost:8080/"
    },
    "id": "ChukJoi3Z7-e",
    "outputId": "cc8cb1a6-b389-445e-db79-7a876e80ebd4"
   },
   "outputs": [
    {
     "name": "stdout",
     "output_type": "stream",
     "text": [
      "Accuracy Score of Training Data:  0.8717306015693113\n"
     ]
    }
   ],
   "source": [
    "modelxgb_score = xgb.score(X_train,Y_train)\n",
    "print('Accuracy Score of Training Data: ', modelxgb_score)"
   ]
  },
  {
   "cell_type": "code",
   "execution_count": 44,
   "metadata": {
    "colab": {
     "base_uri": "https://localhost:8080/"
    },
    "id": "lVFYG0D5aAFT",
    "outputId": "01d09748-9d8b-45eb-8b12-c4799c359308"
   },
   "outputs": [
    {
     "name": "stdout",
     "output_type": "stream",
     "text": [
      "Accuracy Score of Test Data: 0.8396898042206967\n"
     ]
    }
   ],
   "source": [
    "y_predictxg = xgb.predict(X_test)\n",
    "modelxg_score = accuracy_score(Y_test, y_predictxg)\n",
    "print('Accuracy Score of Test Data:', modelxg_score)"
   ]
  },
  {
   "cell_type": "code",
   "execution_count": 45,
   "metadata": {
    "colab": {
     "base_uri": "https://localhost:8080/"
    },
    "id": "uc3PyfeDaBNZ",
    "outputId": "3597d117-06c9-4baa-f36b-95cc13ce1978"
   },
   "outputs": [
    {
     "name": "stdout",
     "output_type": "stream",
     "text": [
      "Classification Report\n",
      "              precision    recall  f1-score   support\n",
      "\n",
      "           0       0.85      0.82      0.84      3922\n",
      "           1       0.83      0.86      0.84      3944\n",
      "           2       0.00      0.00      0.00         0\n",
      "\n",
      "   micro avg       0.84      0.84      0.84      7866\n",
      "   macro avg       0.56      0.56      0.56      7866\n",
      "weighted avg       0.84      0.84      0.84      7866\n",
      "\n"
     ]
    }
   ],
   "source": [
    "#printing classification report\n",
    "print(\"Classification Report\")\n",
    "print(metrics.classification_report(Y_test, y_predictxg, labels=[0,1,2]))"
   ]
  },
  {
   "cell_type": "code",
   "execution_count": 46,
   "metadata": {
    "colab": {
     "base_uri": "https://localhost:8080/",
     "height": 305
    },
    "id": "Oy66x9GyaBIW",
    "outputId": "3bc1beb8-51fe-40ae-b20d-ba24a946aab9"
   },
   "outputs": [
    {
     "data": {
      "image/png": "[encoded data removed]",
      "text/plain": [
       "<Figure size 432x288 with 1 Axes>"
      ]
     },
     "metadata": {},
     "output_type": "display_data"
    }
   ],
   "source": [
    "fig, axis1 = plt.subplots(nrows=1, ncols=1)\n",
    "plot_confusion_matrix(Y_test, y_predictxg, ax=axis1, title='Confusion matrix (XGBoost Classifier)')"
   ]
  },
  {
   "cell_type": "code",
   "execution_count": 47,
   "metadata": {},
   "outputs": [
    {
     "data": {
      "image/png": "[encoded data removed]",
      "text/plain": [
       "<Figure size 432x288 with 1 Axes>"
      ]
     },
     "metadata": {},
     "output_type": "display_data"
    }
   ],
   "source": [
    "plot_multiclass_roc(xgb, X_test, Y_test, n_classes=2, figsize=(6, 4))"
   ]
  },
  {
   "cell_type": "markdown",
   "metadata": {},
   "source": [
    "<h3><ul>\n",
    "    <li><strong><span style=\"font-family: 'Trebuchet MS', Helvetica, sans-serif;\">Resultant Metrics: </span></strong></li>\n",
    "</ul></h3>\n",
    "\n",
    "<table style=\"width:100%\">\n",
    "  <tr>\n",
    "    <th>Model</th>\n",
    "    <th>Test Accuracy</th>\n",
    "  </tr>\n",
    "  <tr>\n",
    "    <td>Simple Feed-Forward Nerual Net</td>\n",
    "    <td>71.40%</td>\n",
    "  </tr>\n",
    "<tr>\n",
    "    <td>Feed-Forward NN + Batch Norm</td>\n",
    "    <td>87.02%</td>\n",
    "  </tr>\n",
    "<tr>\n",
    "    <td>Feed-Forward NN + Dropout</td>\n",
    "    <td>83.97%</td>\n",
    "  </tr>\n",
    "</table>"
   ]
  }
 ],
 "metadata": {
  "colab": {
   "collapsed_sections": [],
   "name": "ML Models.ipynb",
   "provenance": []
  },
  "kernelspec": {
   "display_name": "Python 3",
   "language": "python",
   "name": "python3"
  },
  "language_info": {
   "codemirror_mode": {
    "name": "ipython",
    "version": 3
   },
   "file_extension": ".py",
   "mimetype": "text/x-python",
   "name": "python",
   "nbconvert_exporter": "python",
   "pygments_lexer": "ipython3",
   "version": "3.8.5"
  }
 },
 "nbformat": 4,
 "nbformat_minor": 4
}
