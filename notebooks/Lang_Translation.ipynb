{
  "nbformat": 4,
  "nbformat_minor": 0,
  "metadata": {
    "colab": {
      "name": "Lang Translation",
      "provenance": [],
      "collapsed_sections": []
    },
    "kernelspec": {
      "display_name": "Python 3",
      "name": "python3"
    }
  },
  "cells": [
    {
      "cell_type": "markdown",
      "metadata": {
        "id": "TYgH4TYfbwdJ"
      },
      "source": [
        "# Language Translation"
      ]
    },
    {
      "cell_type": "markdown",
      "metadata": {
        "id": "4Pjmz-RORV8E"
      },
      "source": [
        "* Objective:\n",
        "\n",
        "Detect Foreign Languages in dataset and perform machine translation backed by Hugging Face models. The quality of machine translation via cloud services has come a very long way and produces high quality results. This notebook shows how the models from Hugging Face give developers a reasonable alternative for local machine translation."
      ]
    },
    {
      "cell_type": "code",
      "metadata": {
        "colab": {
          "base_uri": "https://localhost:8080/"
        },
        "id": "2ZJqKMbRGCmC",
        "outputId": "71fd17a9-9906-4efd-e973-791f760bed91"
      },
      "source": [
        "from google.colab import drive\n",
        "drive.mount('/content/drive', force_remount=True)\n",
        "\n",
        "%cd '/content/drive/MyDrive'"
      ],
      "execution_count": 1,
      "outputs": [
        {
          "output_type": "stream",
          "name": "stdout",
          "text": [
            "Mounted at /content/drive\n",
            "/content/drive/MyDrive\n"
          ]
        }
      ]
    },
    {
      "cell_type": "code",
      "metadata": {
        "id": "QLm5Qb8TZcoO"
      },
      "source": [
        "import re\n",
        "import pandas as pd\n",
        "from tqdm import tqdm\n",
        "import matplotlib.pyplot as plt\n",
        "import seaborn as sns\n",
        "from pprint import pprint\n",
        "\n",
        "tqdm.pandas()"
      ],
      "execution_count": 2,
      "outputs": []
    },
    {
      "cell_type": "code",
      "metadata": {
        "colab": {
          "base_uri": "https://localhost:8080/"
        },
        "id": "WbyiuDtvZCxy",
        "outputId": "61c56d06-525f-4af0-aa1c-2aa5aabb8767"
      },
      "source": [
        "dataset = pd.read_excel('./data/merged_clean_data_with_chineese.xlsx')\n",
        "\n",
        "dataset.isna().sum()"
      ],
      "execution_count": 3,
      "outputs": [
        {
          "output_type": "execute_result",
          "data": {
            "text/plain": [
              "short_description              0\n",
              "description                    0\n",
              "caller                         0\n",
              "group                          0\n",
              "char_length                    0\n",
              "word_length                    0\n",
              "short_char_length              0\n",
              "short_word_length              0\n",
              "description_keywords          12\n",
              "short_description_keywords    39\n",
              "group_code                     0\n",
              "char_length_bins               0\n",
              "cleaned_description           57\n",
              "cleaned_short_description     50\n",
              "cleaned_char_length            0\n",
              "cleaned_word_length            0\n",
              "cleaned_short_char_length      0\n",
              "cleaned_short_word_length      0\n",
              "merged_description             0\n",
              "dtype: int64"
            ]
          },
          "metadata": {},
          "execution_count": 3
        }
      ]
    },
    {
      "cell_type": "code",
      "metadata": {
        "colab": {
          "base_uri": "https://localhost:8080/",
          "height": 490
        },
        "id": "8eiOGf4saXCN",
        "outputId": "bf753217-f96e-4e16-e0ed-9c979e603cae"
      },
      "source": [
        "dataset.sample(7)"
      ],
      "execution_count": 4,
      "outputs": [
        {
          "output_type": "execute_result",
          "data": {
            "text/html": [
              "<div>\n",
              "<style scoped>\n",
              "    .dataframe tbody tr th:only-of-type {\n",
              "        vertical-align: middle;\n",
              "    }\n",
              "\n",
              "    .dataframe tbody tr th {\n",
              "        vertical-align: top;\n",
              "    }\n",
              "\n",
              "    .dataframe thead th {\n",
              "        text-align: right;\n",
              "    }\n",
              "</style>\n",
              "<table border=\"1\" class=\"dataframe\">\n",
              "  <thead>\n",
              "    <tr style=\"text-align: right;\">\n",
              "      <th></th>\n",
              "      <th>short_description</th>\n",
              "      <th>description</th>\n",
              "      <th>caller</th>\n",
              "      <th>group</th>\n",
              "      <th>char_length</th>\n",
              "      <th>word_length</th>\n",
              "      <th>short_char_length</th>\n",
              "      <th>short_word_length</th>\n",
              "      <th>description_keywords</th>\n",
              "      <th>short_description_keywords</th>\n",
              "      <th>group_code</th>\n",
              "      <th>char_length_bins</th>\n",
              "      <th>cleaned_description</th>\n",
              "      <th>cleaned_short_description</th>\n",
              "      <th>cleaned_char_length</th>\n",
              "      <th>cleaned_word_length</th>\n",
              "      <th>cleaned_short_char_length</th>\n",
              "      <th>cleaned_short_word_length</th>\n",
              "      <th>merged_description</th>\n",
              "    </tr>\n",
              "  </thead>\n",
              "  <tbody>\n",
              "    <tr>\n",
              "      <th>8009</th>\n",
              "      <td>unable to connect to wifi from a hotel // dell...</td>\n",
              "      <td>unable to connect to wifi from a hotel // dell...</td>\n",
              "      <td>imoelsap gxdwkimv</td>\n",
              "      <td>GRP_0</td>\n",
              "      <td>51</td>\n",
              "      <td>11</td>\n",
              "      <td>51</td>\n",
              "      <td>11</td>\n",
              "      <td>unable to connect to wifi</td>\n",
              "      <td>unable to connect to wifi</td>\n",
              "      <td>0</td>\n",
              "      <td>6</td>\n",
              "      <td>unable connect wifi hotel dell</td>\n",
              "      <td>unable connect wifi hotel dell</td>\n",
              "      <td>30</td>\n",
              "      <td>5</td>\n",
              "      <td>30</td>\n",
              "      <td>5</td>\n",
              "      <td>unable connect wifi hotel dell</td>\n",
              "    </tr>\n",
              "    <tr>\n",
              "      <th>4049</th>\n",
              "      <td>job hr_payroll_na_u2 failed in job_scheduler a...</td>\n",
              "      <td>received from: monitoring_tool@company.com\\n\\n...</td>\n",
              "      <td>bpctwhsn kzqsbmtp</td>\n",
              "      <td>GRP_10</td>\n",
              "      <td>112</td>\n",
              "      <td>11</td>\n",
              "      <td>70</td>\n",
              "      <td>8</td>\n",
              "      <td>payroll</td>\n",
              "      <td>payroll</td>\n",
              "      <td>2</td>\n",
              "      <td>13</td>\n",
              "      <td>job hr payroll na u fail job scheduler</td>\n",
              "      <td>job hr payroll na u fail job scheduler</td>\n",
              "      <td>38</td>\n",
              "      <td>8</td>\n",
              "      <td>38</td>\n",
              "      <td>8</td>\n",
              "      <td>job hr payroll na u fail job scheduler</td>\n",
              "    </tr>\n",
              "    <tr>\n",
              "      <th>2527</th>\n",
              "      <td>crm issue for iphone</td>\n",
              "      <td>\\n\\nreceived from: zfburidj.jmilguev@gmail.com...</td>\n",
              "      <td>zfburidj jmilguev</td>\n",
              "      <td>GRP_0</td>\n",
              "      <td>153</td>\n",
              "      <td>27</td>\n",
              "      <td>20</td>\n",
              "      <td>4</td>\n",
              "      <td>company crm address</td>\n",
              "      <td>crm issue for iphone</td>\n",
              "      <td>0</td>\n",
              "      <td>18</td>\n",
              "      <td>try set crm iphone ask company crm address</td>\n",
              "      <td>crm issue iphone</td>\n",
              "      <td>42</td>\n",
              "      <td>8</td>\n",
              "      <td>16</td>\n",
              "      <td>3</td>\n",
              "      <td>issue try set crm iphone ask company crm address</td>\n",
              "    </tr>\n",
              "    <tr>\n",
              "      <th>4857</th>\n",
              "      <td>vpn</td>\n",
              "      <td>\\n\\nreceived from: marhty.financial@company.co...</td>\n",
              "      <td>oujvmgeq spobcflw</td>\n",
              "      <td>GRP_0</td>\n",
              "      <td>213</td>\n",
              "      <td>31</td>\n",
              "      <td>3</td>\n",
              "      <td>1</td>\n",
              "      <td>start vpn</td>\n",
              "      <td>vpn</td>\n",
              "      <td>0</td>\n",
              "      <td>22</td>\n",
              "      <td>get follow error try start vpn also try instal...</td>\n",
              "      <td>vpn</td>\n",
              "      <td>68</td>\n",
              "      <td>13</td>\n",
              "      <td>3</td>\n",
              "      <td>1</td>\n",
              "      <td>get follow error try start vpn also try instal...</td>\n",
              "    </tr>\n",
              "    <tr>\n",
              "      <th>8094</th>\n",
              "      <td>logon to server HostName_583 not possible</td>\n",
              "      <td>logon to server HostName_583 not possible - se...</td>\n",
              "      <td>smpijawb eawkpgqf</td>\n",
              "      <td>GRP_12</td>\n",
              "      <td>85</td>\n",
              "      <td>16</td>\n",
              "      <td>41</td>\n",
              "      <td>6</td>\n",
              "      <td>logon to server HostName</td>\n",
              "      <td>logon to server HostName</td>\n",
              "      <td>4</td>\n",
              "      <td>10</td>\n",
              "      <td>logon server hostname  possible server loop sc...</td>\n",
              "      <td>logon server hostname  possible</td>\n",
              "      <td>50</td>\n",
              "      <td>7</td>\n",
              "      <td>31</td>\n",
              "      <td>4</td>\n",
              "      <td>logon server hostname  possible server loop sc...</td>\n",
              "    </tr>\n",
              "    <tr>\n",
              "      <th>4206</th>\n",
              "      <td>application response time (other network resou...</td>\n",
              "      <td>our colleagues have opened a ticket about the ...</td>\n",
              "      <td>gwfozprc kldrsnze</td>\n",
              "      <td>GRP_0</td>\n",
              "      <td>150</td>\n",
              "      <td>25</td>\n",
              "      <td>65</td>\n",
              "      <td>8</td>\n",
              "      <td>sales org</td>\n",
              "      <td>application response time</td>\n",
              "      <td>0</td>\n",
              "      <td>17</td>\n",
              "      <td>colleague open ticket issue spain sale org  po...</td>\n",
              "      <td>application response time network resource wor...</td>\n",
              "      <td>73</td>\n",
              "      <td>12</td>\n",
              "      <td>56</td>\n",
              "      <td>7</td>\n",
              "      <td>application response time network resource wor...</td>\n",
              "    </tr>\n",
              "    <tr>\n",
              "      <th>5540</th>\n",
              "      <td>printer driver installation</td>\n",
              "      <td>name:rohntyub dfhtyuison\\nlanguage:\\nbrowser:m...</td>\n",
              "      <td>zstkagwu jlyrhdcf</td>\n",
              "      <td>GRP_0</td>\n",
              "      <td>296</td>\n",
              "      <td>38</td>\n",
              "      <td>27</td>\n",
              "      <td>3</td>\n",
              "      <td>microsoft internet explorer email</td>\n",
              "      <td>printer driver installation</td>\n",
              "      <td>0</td>\n",
              "      <td>30</td>\n",
              "      <td>issue print regular printer get error say page...</td>\n",
              "      <td>printer driver installation</td>\n",
              "      <td>90</td>\n",
              "      <td>14</td>\n",
              "      <td>27</td>\n",
              "      <td>3</td>\n",
              "      <td>installation issue print regular printer get e...</td>\n",
              "    </tr>\n",
              "  </tbody>\n",
              "</table>\n",
              "</div>"
            ],
            "text/plain": [
              "                                      short_description  ...                                 merged_description\n",
              "8009  unable to connect to wifi from a hotel // dell...  ...                     unable connect wifi hotel dell\n",
              "4049  job hr_payroll_na_u2 failed in job_scheduler a...  ...             job hr payroll na u fail job scheduler\n",
              "2527                               crm issue for iphone  ...   issue try set crm iphone ask company crm address\n",
              "4857                                                vpn  ...  get follow error try start vpn also try instal...\n",
              "8094          logon to server HostName_583 not possible  ...  logon server hostname  possible server loop sc...\n",
              "4206  application response time (other network resou...  ...  application response time network resource wor...\n",
              "5540                        printer driver installation  ...  installation issue print regular printer get e...\n",
              "\n",
              "[7 rows x 19 columns]"
            ]
          },
          "metadata": {},
          "execution_count": 4
        }
      ]
    },
    {
      "cell_type": "markdown",
      "metadata": {
        "id": "5DQ_B1N6aQzt"
      },
      "source": [
        "<h3><ul>\n",
        "    <li><strong><span style=\"font-family: 'Trebuchet MS', Helvetica, sans-serif;\">Detect Languages in Merged Descriptions using <a href=\"https://fasttext.cc/docs/en/language-identification.html\">fastText language identification model</a>\n",
        "</ul></h3>"
      ]
    },
    {
      "cell_type": "code",
      "metadata": {
        "colab": {
          "base_uri": "https://localhost:8080/"
        },
        "id": "0BDN4wD9ahOP",
        "outputId": "057b23eb-64b5-407e-9d09-7eb8debbf56b"
      },
      "source": [
        "# download pre-trained language detection model\n",
        "\n",
        "! wget -O lid.176.bin https://dl.fbaipublicfiles.com/fasttext/supervised-models/lid.176.bin"
      ],
      "execution_count": 5,
      "outputs": [
        {
          "output_type": "stream",
          "name": "stdout",
          "text": [
            "--2021-09-19 10:27:42--  https://dl.fbaipublicfiles.com/fasttext/supervised-models/lid.176.bin\n",
            "Resolving dl.fbaipublicfiles.com (dl.fbaipublicfiles.com)... 172.67.9.4, 104.22.74.142, 104.22.75.142, ...\n",
            "Connecting to dl.fbaipublicfiles.com (dl.fbaipublicfiles.com)|172.67.9.4|:443... connected.\n",
            "HTTP request sent, awaiting response... 200 OK\n",
            "Length: 131266198 (125M) [application/octet-stream]\n",
            "Saving to: ‘lid.176.bin’\n",
            "\n",
            "lid.176.bin         100%[===================>] 125.18M  23.4MB/s    in 5.9s    \n",
            "\n",
            "2021-09-19 10:27:49 (21.3 MB/s) - ‘lid.176.bin’ saved [131266198/131266198]\n",
            "\n"
          ]
        }
      ]
    },
    {
      "cell_type": "code",
      "metadata": {
        "id": "7y3arQh9b3ci"
      },
      "source": [
        "! pip -q install fasttext\n",
        "import fasttext\n",
        "\n",
        "# monkey-patch to suppress 'load_model warning from fasttext'\n",
        "fasttext.FastText.eprint = lambda x: None"
      ],
      "execution_count": 6,
      "outputs": []
    },
    {
      "cell_type": "code",
      "metadata": {
        "colab": {
          "base_uri": "https://localhost:8080/"
        },
        "id": "ESaQ0VDBahMI",
        "outputId": "a87e4f70-d3a1-4d63-adfe-81f72629d6e0"
      },
      "source": [
        "# fastText pre-trained language identification model\n",
        "# (less latency & more accurate)\n",
        "\n",
        "\n",
        "# lid (Language identification modeel which can recognize 176 languages)\n",
        "path_to_pretrained_model = './lid.176.bin'\n",
        "lang_model = fasttext.load_model(path_to_pretrained_model)\n",
        "test = [\"+86 Hi there\", \"c'est\", \"bitte\", \"+81\"]\n",
        "pred = lang_model.predict(test)\n",
        "pprint(test)\n",
        "pprint([i[0] for i in pred[0]], compact=True)\n",
        "pprint([i[0] for i in pred[1]], compact=True)"
      ],
      "execution_count": 7,
      "outputs": [
        {
          "output_type": "stream",
          "name": "stdout",
          "text": [
            "['+86 Hi there', \"c'est\", 'bitte', '+81']\n",
            "['__label__en', '__label__fr', '__label__de', '__label__zh']\n",
            "[0.72783333, 1.0000362, 0.9995301, 0.18863995]\n"
          ]
        }
      ]
    },
    {
      "cell_type": "code",
      "metadata": {
        "colab": {
          "base_uri": "https://localhost:8080/"
        },
        "id": "okYpe1ZZahJ_",
        "outputId": "bb356f3d-fcdf-4d37-ca5e-4e8f34c2938e"
      },
      "source": [
        "descriptions = dataset.merged_description.tolist()\n",
        "len(descriptions)"
      ],
      "execution_count": 8,
      "outputs": [
        {
          "output_type": "execute_result",
          "data": {
            "text/plain": [
              "8499"
            ]
          },
          "metadata": {},
          "execution_count": 8
        }
      ]
    },
    {
      "cell_type": "code",
      "metadata": {
        "id": "kI2-d5qjaQWO"
      },
      "source": [
        "pred_descriptions = lang_model.predict(descriptions)\n",
        "lang_descriptions = [re.sub(\"__label__\", \"\", i[0]) for i in pred_descriptions[0]]\n",
        "lang_descriptions_conf = [i[0] for i in pred_descriptions[1]]"
      ],
      "execution_count": 9,
      "outputs": []
    },
    {
      "cell_type": "code",
      "metadata": {
        "colab": {
          "base_uri": "https://localhost:8080/"
        },
        "id": "JtBEG1enaQUW",
        "outputId": "df8d9c07-0023-484b-b06a-5b4ab9fcf9fe"
      },
      "source": [
        "# detected languages with various confidences\n",
        "pprint({i[0] for i in pred_descriptions[0]}, compact=True)"
      ],
      "execution_count": 10,
      "outputs": [
        {
          "output_type": "stream",
          "name": "stdout",
          "text": [
            "{'__label__bs', '__label__ca', '__label__cs', '__label__da', '__label__de',\n",
            " '__label__en', '__label__eo', '__label__es', '__label__eu', '__label__fa',\n",
            " '__label__fi', '__label__fr', '__label__hi', '__label__hr', '__label__hu',\n",
            " '__label__id', '__label__it', '__label__ja', '__label__jv', '__label__kn',\n",
            " '__label__mk', '__label__ml', '__label__nl', '__label__no', '__label__pl',\n",
            " '__label__pt', '__label__ro', '__label__ru', '__label__sh', '__label__sl',\n",
            " '__label__sv', '__label__th', '__label__tl', '__label__tr', '__label__ur',\n",
            " '__label__zh'}\n"
          ]
        }
      ]
    },
    {
      "cell_type": "code",
      "metadata": {
        "colab": {
          "base_uri": "https://localhost:8080/",
          "height": 266
        },
        "id": "icYDaWqBcQcU",
        "outputId": "a1baa875-c6a8-46c6-a135-338f548db612"
      },
      "source": [
        "dataset['language'] = lang_descriptions\n",
        "dataset['language_confidence'] = lang_descriptions_conf\n",
        "\n",
        "# language predictions and associated confidence of prediction\n",
        "dataset.sample(7)[['merged_description', 'language', 'language_confidence']]"
      ],
      "execution_count": 11,
      "outputs": [
        {
          "output_type": "execute_result",
          "data": {
            "text/html": [
              "<div>\n",
              "<style scoped>\n",
              "    .dataframe tbody tr th:only-of-type {\n",
              "        vertical-align: middle;\n",
              "    }\n",
              "\n",
              "    .dataframe tbody tr th {\n",
              "        vertical-align: top;\n",
              "    }\n",
              "\n",
              "    .dataframe thead th {\n",
              "        text-align: right;\n",
              "    }\n",
              "</style>\n",
              "<table border=\"1\" class=\"dataframe\">\n",
              "  <thead>\n",
              "    <tr style=\"text-align: right;\">\n",
              "      <th></th>\n",
              "      <th>merged_description</th>\n",
              "      <th>language</th>\n",
              "      <th>language_confidence</th>\n",
              "    </tr>\n",
              "  </thead>\n",
              "  <tbody>\n",
              "    <tr>\n",
              "      <th>5305</th>\n",
              "      <td>arcve tool scanner work upgrade open text imag...</td>\n",
              "      <td>en</td>\n",
              "      <td>0.756285</td>\n",
              "    </tr>\n",
              "    <tr>\n",
              "      <th>7759</th>\n",
              "      <td>install printer maintenance area</td>\n",
              "      <td>en</td>\n",
              "      <td>0.520235</td>\n",
              "    </tr>\n",
              "    <tr>\n",
              "      <th>2527</th>\n",
              "      <td>issue try set crm iphone ask company crm address</td>\n",
              "      <td>en</td>\n",
              "      <td>0.937188</td>\n",
              "    </tr>\n",
              "    <tr>\n",
              "      <th>4838</th>\n",
              "      <td>unable login sid</td>\n",
              "      <td>da</td>\n",
              "      <td>0.146170</td>\n",
              "    </tr>\n",
              "    <tr>\n",
              "      <th>4589</th>\n",
              "      <td>need cute pdf instal</td>\n",
              "      <td>en</td>\n",
              "      <td>0.742032</td>\n",
              "    </tr>\n",
              "    <tr>\n",
              "      <th>3827</th>\n",
              "      <td>issue one note workbook share open web view ge...</td>\n",
              "      <td>en</td>\n",
              "      <td>0.688904</td>\n",
              "    </tr>\n",
              "    <tr>\n",
              "      <th>368</th>\n",
              "      <td>daten kann nicht heruntergeladen werden die ma...</td>\n",
              "      <td>de</td>\n",
              "      <td>0.996929</td>\n",
              "    </tr>\n",
              "  </tbody>\n",
              "</table>\n",
              "</div>"
            ],
            "text/plain": [
              "                                     merged_description  ... language_confidence\n",
              "5305  arcve tool scanner work upgrade open text imag...  ...            0.756285\n",
              "7759                   install printer maintenance area  ...            0.520235\n",
              "2527   issue try set crm iphone ask company crm address  ...            0.937188\n",
              "4838                                   unable login sid  ...            0.146170\n",
              "4589                               need cute pdf instal  ...            0.742032\n",
              "3827  issue one note workbook share open web view ge...  ...            0.688904\n",
              "368   daten kann nicht heruntergeladen werden die ma...  ...            0.996929\n",
              "\n",
              "[7 rows x 3 columns]"
            ]
          },
          "metadata": {},
          "execution_count": 11
        }
      ]
    },
    {
      "cell_type": "code",
      "metadata": {
        "colab": {
          "base_uri": "https://localhost:8080/",
          "height": 505
        },
        "id": "fvwwFxLpccej",
        "outputId": "87aae407-ebea-4e64-bd0c-15ac78888b9c"
      },
      "source": [
        "sns.set()\n",
        "plt.figure(figsize=(10, 4), dpi=125)\n",
        "ax = sns.histplot(x=dataset.language_confidence, bins=100, kde=True, color='#50C878')\n",
        "ax_ = ax.twinx()\n",
        "sns.boxplot(x=dataset.language_confidence, color='#FF4500')\n",
        "ax_.set(ylim=(-.7, 12))\n",
        "plt.title('Descriptions Language Confidences')\n",
        "plt.show()"
      ],
      "execution_count": 12,
      "outputs": [
        {
          "output_type": "display_data",
          "data": {
            "image/png": "[encoded data removed]",
            "text/plain": [
              "<Figure size 1250x500 with 2 Axes>"
            ]
          },
          "metadata": {}
        }
      ]
    },
    {
      "cell_type": "code",
      "metadata": {
        "colab": {
          "base_uri": "https://localhost:8080/",
          "height": 419
        },
        "id": "CATQHGjwcccU",
        "outputId": "2d82e574-a522-457e-8ea4-03e700a6fe64"
      },
      "source": [
        "# check some predictions with less confidence\n",
        "dataset[(dataset.language != 'en') & (dataset.language_confidence < 0.6)][['merged_description', 'language', 'language_confidence']]"
      ],
      "execution_count": 13,
      "outputs": [
        {
          "output_type": "execute_result",
          "data": {
            "text/html": [
              "<div>\n",
              "<style scoped>\n",
              "    .dataframe tbody tr th:only-of-type {\n",
              "        vertical-align: middle;\n",
              "    }\n",
              "\n",
              "    .dataframe tbody tr th {\n",
              "        vertical-align: top;\n",
              "    }\n",
              "\n",
              "    .dataframe thead th {\n",
              "        text-align: right;\n",
              "    }\n",
              "</style>\n",
              "<table border=\"1\" class=\"dataframe\">\n",
              "  <thead>\n",
              "    <tr style=\"text-align: right;\">\n",
              "      <th></th>\n",
              "      <th>merged_description</th>\n",
              "      <th>language</th>\n",
              "      <th>language_confidence</th>\n",
              "    </tr>\n",
              "  </thead>\n",
              "  <tbody>\n",
              "    <tr>\n",
              "      <th>2</th>\n",
              "      <td>ca nt log vpn</td>\n",
              "      <td>da</td>\n",
              "      <td>0.132258</td>\n",
              "    </tr>\n",
              "    <tr>\n",
              "      <th>4</th>\n",
              "      <td>skype error</td>\n",
              "      <td>ja</td>\n",
              "      <td>0.081046</td>\n",
              "    </tr>\n",
              "    <tr>\n",
              "      <th>12</th>\n",
              "      <td>unable login hr tool sgxqsuojr xwbesorf card</td>\n",
              "      <td>zh</td>\n",
              "      <td>0.104415</td>\n",
              "    </tr>\n",
              "    <tr>\n",
              "      <th>14</th>\n",
              "      <td>unable open payslip</td>\n",
              "      <td>fr</td>\n",
              "      <td>0.264625</td>\n",
              "    </tr>\n",
              "    <tr>\n",
              "      <th>20</th>\n",
              "      <td>unable check payslip</td>\n",
              "      <td>fr</td>\n",
              "      <td>0.172341</td>\n",
              "    </tr>\n",
              "    <tr>\n",
              "      <th>...</th>\n",
              "      <td>...</td>\n",
              "      <td>...</td>\n",
              "      <td>...</td>\n",
              "    </tr>\n",
              "    <tr>\n",
              "      <th>8396</th>\n",
              "      <td>security error reisekosten abrechnung programdnty</td>\n",
              "      <td>de</td>\n",
              "      <td>0.254021</td>\n",
              "    </tr>\n",
              "    <tr>\n",
              "      <th>8413</th>\n",
              "      <td>langsamer rechner uberprufung niptbwdq</td>\n",
              "      <td>de</td>\n",
              "      <td>0.437996</td>\n",
              "    </tr>\n",
              "    <tr>\n",
              "      <th>8416</th>\n",
              "      <td>bluetooth keybankrd defekt dardabthyr</td>\n",
              "      <td>sv</td>\n",
              "      <td>0.245299</td>\n",
              "    </tr>\n",
              "    <tr>\n",
              "      <th>8426</th>\n",
              "      <td>new able login system user vvrtgwildj name joh...</td>\n",
              "      <td>de</td>\n",
              "      <td>0.548117</td>\n",
              "    </tr>\n",
              "    <tr>\n",
              "      <th>8435</th>\n",
              "      <td>bls bescchtungsleitstand germany error message...</td>\n",
              "      <td>de</td>\n",
              "      <td>0.525583</td>\n",
              "    </tr>\n",
              "  </tbody>\n",
              "</table>\n",
              "<p>232 rows × 3 columns</p>\n",
              "</div>"
            ],
            "text/plain": [
              "                                     merged_description  ... language_confidence\n",
              "2                                         ca nt log vpn  ...            0.132258\n",
              "4                                           skype error  ...            0.081046\n",
              "12         unable login hr tool sgxqsuojr xwbesorf card  ...            0.104415\n",
              "14                                  unable open payslip  ...            0.264625\n",
              "20                                 unable check payslip  ...            0.172341\n",
              "...                                                 ...  ...                 ...\n",
              "8396  security error reisekosten abrechnung programdnty  ...            0.254021\n",
              "8413             langsamer rechner uberprufung niptbwdq  ...            0.437996\n",
              "8416              bluetooth keybankrd defekt dardabthyr  ...            0.245299\n",
              "8426  new able login system user vvrtgwildj name joh...  ...            0.548117\n",
              "8435  bls bescchtungsleitstand germany error message...  ...            0.525583\n",
              "\n",
              "[232 rows x 3 columns]"
            ]
          },
          "metadata": {},
          "execution_count": 13
        }
      ]
    },
    {
      "cell_type": "code",
      "metadata": {
        "colab": {
          "base_uri": "https://localhost:8080/",
          "height": 419
        },
        "id": "ohJzPBXieH2J",
        "outputId": "6d5ed324-91ce-4f57-e560-ab10f8cf3da6"
      },
      "source": [
        "# check some predictions with less confidence\n",
        "dataset[(dataset.language != 'en') & (dataset.language_confidence > 0.6)][['merged_description', 'language', 'language_confidence']]"
      ],
      "execution_count": 14,
      "outputs": [
        {
          "output_type": "execute_result",
          "data": {
            "text/html": [
              "<div>\n",
              "<style scoped>\n",
              "    .dataframe tbody tr th:only-of-type {\n",
              "        vertical-align: middle;\n",
              "    }\n",
              "\n",
              "    .dataframe tbody tr th {\n",
              "        vertical-align: top;\n",
              "    }\n",
              "\n",
              "    .dataframe thead th {\n",
              "        text-align: right;\n",
              "    }\n",
              "</style>\n",
              "<table border=\"1\" class=\"dataframe\">\n",
              "  <thead>\n",
              "    <tr style=\"text-align: right;\">\n",
              "      <th></th>\n",
              "      <th>merged_description</th>\n",
              "      <th>language</th>\n",
              "      <th>language_confidence</th>\n",
              "    </tr>\n",
              "  </thead>\n",
              "  <tbody>\n",
              "    <tr>\n",
              "      <th>223</th>\n",
              "      <td>probleme bluescreen hallo es ist erneut passie...</td>\n",
              "      <td>de</td>\n",
              "      <td>0.997537</td>\n",
              "    </tr>\n",
              "    <tr>\n",
              "      <th>251</th>\n",
              "      <td>reset password bitte passwort fr mail zurckset...</td>\n",
              "      <td>de</td>\n",
              "      <td>0.870327</td>\n",
              "    </tr>\n",
              "    <tr>\n",
              "      <th>255</th>\n",
              "      <td>probleme mit laufwerk laeusvjo</td>\n",
              "      <td>de</td>\n",
              "      <td>0.992616</td>\n",
              "    </tr>\n",
              "    <tr>\n",
              "      <th>265</th>\n",
              "      <td>hallo netweaver funktioniert nicht mehr bzw ka...</td>\n",
              "      <td>de</td>\n",
              "      <td>0.999658</td>\n",
              "    </tr>\n",
              "    <tr>\n",
              "      <th>270</th>\n",
              "      <td>neues passwort fur accountname tgryhu hgygrtui...</td>\n",
              "      <td>de</td>\n",
              "      <td>0.992012</td>\n",
              "    </tr>\n",
              "    <tr>\n",
              "      <th>...</th>\n",
              "      <td>...</td>\n",
              "      <td>...</td>\n",
              "      <td>...</td>\n",
              "    </tr>\n",
              "    <tr>\n",
              "      <th>8424</th>\n",
              "      <td>kann setzten ich wei mein erp passwort nicht m...</td>\n",
              "      <td>de</td>\n",
              "      <td>0.998999</td>\n",
              "    </tr>\n",
              "    <tr>\n",
              "      <th>8438</th>\n",
              "      <td>fur die up lapel druckt nicht richtig der druc...</td>\n",
              "      <td>de</td>\n",
              "      <td>0.999573</td>\n",
              "    </tr>\n",
              "    <tr>\n",
              "      <th>8466</th>\n",
              "      <td>send friday   nwfodmhc exurcwkm subject wg die...</td>\n",
              "      <td>de</td>\n",
              "      <td>0.969530</td>\n",
              "    </tr>\n",
              "    <tr>\n",
              "      <th>8470</th>\n",
              "      <td>电脑开机开不出来 to 小贺,早上电脑开机开不出来</td>\n",
              "      <td>zh</td>\n",
              "      <td>0.924405</td>\n",
              "    </tr>\n",
              "    <tr>\n",
              "      <th>8498</th>\n",
              "      <td>mehreren pc lassen sich verscedene prgramdntym...</td>\n",
              "      <td>de</td>\n",
              "      <td>0.983929</td>\n",
              "    </tr>\n",
              "  </tbody>\n",
              "</table>\n",
              "<p>538 rows × 3 columns</p>\n",
              "</div>"
            ],
            "text/plain": [
              "                                     merged_description  ... language_confidence\n",
              "223   probleme bluescreen hallo es ist erneut passie...  ...            0.997537\n",
              "251   reset password bitte passwort fr mail zurckset...  ...            0.870327\n",
              "255                      probleme mit laufwerk laeusvjo  ...            0.992616\n",
              "265   hallo netweaver funktioniert nicht mehr bzw ka...  ...            0.999658\n",
              "270   neues passwort fur accountname tgryhu hgygrtui...  ...            0.992012\n",
              "...                                                 ...  ...                 ...\n",
              "8424  kann setzten ich wei mein erp passwort nicht m...  ...            0.998999\n",
              "8438  fur die up lapel druckt nicht richtig der druc...  ...            0.999573\n",
              "8466  send friday   nwfodmhc exurcwkm subject wg die...  ...            0.969530\n",
              "8470                          电脑开机开不出来 to 小贺,早上电脑开机开不出来  ...            0.924405\n",
              "8498  mehreren pc lassen sich verscedene prgramdntym...  ...            0.983929\n",
              "\n",
              "[538 rows x 3 columns]"
            ]
          },
          "metadata": {},
          "execution_count": 14
        }
      ]
    },
    {
      "cell_type": "markdown",
      "metadata": {
        "id": "Zgxod5R1dHaw"
      },
      "source": [
        "* We can clearly see that low confidence predictions are not right actually foreign-language but interpreted as such because of out of dictionary words and caller names present in the text. So, we overwrite predictions with confidence less than 0.6 back to english"
      ]
    },
    {
      "cell_type": "code",
      "metadata": {
        "id": "wpOJxCM3dCZE"
      },
      "source": [
        "dataset.loc[(dataset.language != 'en') & (dataset.language_confidence < 0.6), 'language'] = 'en'"
      ],
      "execution_count": 15,
      "outputs": []
    },
    {
      "cell_type": "code",
      "metadata": {
        "colab": {
          "base_uri": "https://localhost:8080/",
          "height": 69
        },
        "id": "HChwgSLMeY6c",
        "outputId": "598a1dbf-a940-4304-cf75-26d866f3dd62"
      },
      "source": [
        "dataset[(dataset.language != 'en') & (dataset.language_confidence < 0.6)]  # overwritten"
      ],
      "execution_count": 16,
      "outputs": [
        {
          "output_type": "execute_result",
          "data": {
            "text/html": [
              "<div>\n",
              "<style scoped>\n",
              "    .dataframe tbody tr th:only-of-type {\n",
              "        vertical-align: middle;\n",
              "    }\n",
              "\n",
              "    .dataframe tbody tr th {\n",
              "        vertical-align: top;\n",
              "    }\n",
              "\n",
              "    .dataframe thead th {\n",
              "        text-align: right;\n",
              "    }\n",
              "</style>\n",
              "<table border=\"1\" class=\"dataframe\">\n",
              "  <thead>\n",
              "    <tr style=\"text-align: right;\">\n",
              "      <th></th>\n",
              "      <th>short_description</th>\n",
              "      <th>description</th>\n",
              "      <th>caller</th>\n",
              "      <th>group</th>\n",
              "      <th>char_length</th>\n",
              "      <th>word_length</th>\n",
              "      <th>short_char_length</th>\n",
              "      <th>short_word_length</th>\n",
              "      <th>description_keywords</th>\n",
              "      <th>short_description_keywords</th>\n",
              "      <th>group_code</th>\n",
              "      <th>char_length_bins</th>\n",
              "      <th>cleaned_description</th>\n",
              "      <th>cleaned_short_description</th>\n",
              "      <th>cleaned_char_length</th>\n",
              "      <th>cleaned_word_length</th>\n",
              "      <th>cleaned_short_char_length</th>\n",
              "      <th>cleaned_short_word_length</th>\n",
              "      <th>merged_description</th>\n",
              "      <th>language</th>\n",
              "      <th>language_confidence</th>\n",
              "    </tr>\n",
              "  </thead>\n",
              "  <tbody>\n",
              "  </tbody>\n",
              "</table>\n",
              "</div>"
            ],
            "text/plain": [
              "Empty DataFrame\n",
              "Columns: [short_description, description, caller, group, char_length, word_length, short_char_length, short_word_length, description_keywords, short_description_keywords, group_code, char_length_bins, cleaned_description, cleaned_short_description, cleaned_char_length, cleaned_word_length, cleaned_short_char_length, cleaned_short_word_length, merged_description, language, language_confidence]\n",
              "Index: []"
            ]
          },
          "metadata": {},
          "execution_count": 16
        }
      ]
    },
    {
      "cell_type": "code",
      "metadata": {
        "colab": {
          "base_uri": "https://localhost:8080/"
        },
        "id": "H6DfPplThXWH",
        "outputId": "fa7302d1-e7da-46e0-e98b-60ece1ed8cde"
      },
      "source": [
        "dataset.language.value_counts()"
      ],
      "execution_count": 17,
      "outputs": [
        {
          "output_type": "execute_result",
          "data": {
            "text/plain": [
              "en    7961\n",
              "de     485\n",
              "zh      32\n",
              "pt       8\n",
              "fr       3\n",
              "tl       2\n",
              "fi       2\n",
              "es       2\n",
              "ca       2\n",
              "it       1\n",
              "pl       1\n",
              "Name: language, dtype: int64"
            ]
          },
          "metadata": {},
          "execution_count": 17
        }
      ]
    },
    {
      "cell_type": "code",
      "metadata": {
        "id": "jHPvh2MyekYE"
      },
      "source": [
        "dataset.to_excel('./data/merged_clean_data_with_lang_pred.xlsx', index=None)"
      ],
      "execution_count": 18,
      "outputs": []
    },
    {
      "cell_type": "markdown",
      "metadata": {
        "id": "UnMjhuqo1Xq0"
      },
      "source": [
        "<h3><ul>\n",
        "    <li><strong><span style=\"font-family: 'Trebuchet MS', Helvetica, sans-serif;\">Translation using txtai pipelines which use <a href=\"https://huggingface.co/models?search=Helsinki-NLP%2Fopus-mt\">hugging-face language translation models</a> as backend</span></strong>\n",
        "</ul></h3>"
      ]
    },
    {
      "cell_type": "code",
      "metadata": {
        "id": "XMQuuun2R06J",
        "colab": {
          "base_uri": "https://localhost:8080/"
        },
        "outputId": "9c717929-4cff-40ec-d5fe-67a9f6672d9a"
      },
      "source": [
        "# Install `txtai` and all dependencies. Since this notebook is using optional pipelines\n",
        "# we need to install the pipeline extras package.\n",
        "\n",
        "!pip -q install git+https://github.com/neuml/txtai#egg=txtai[pipeline]"
      ],
      "execution_count": 19,
      "outputs": [
        {
          "output_type": "stream",
          "name": "stdout",
          "text": [
            "  Installing build dependencies ... \u001b[?25l\u001b[?25hdone\n",
            "  Getting requirements to build wheel ... \u001b[?25l\u001b[?25hdone\n",
            "    Preparing wheel metadata ... \u001b[?25l\u001b[?25hdone\n"
          ]
        }
      ]
    },
    {
      "cell_type": "code",
      "metadata": {
        "id": "nTDwXOUeTH2-"
      },
      "source": [
        "# The pipeline has logic to detect the input language,\n",
        "# load the relevant model that handles translating from source to # target language and return results.\n",
        "# The translation pipeline also has built-in logic to handle splitting large text\n",
        "# blocks into smaller sections the models can handle.\n",
        "\n",
        "\n",
        "from txtai.pipeline import Translation\n",
        "\n",
        "# Create translation model\n",
        "translate = Translation()"
      ],
      "execution_count": 20,
      "outputs": []
    },
    {
      "cell_type": "code",
      "metadata": {
        "id": "-K2YJJzsVtfq"
      },
      "source": [
        "# The translation quality overall is very high\n",
        "# Machine translation has made giant leaps and strides the last couple of years\n",
        "# These models are a solid alternative to cloud translation services if translating on local servers is preferred.\n",
        "\n",
        "translation = translate(\"Bonjour, Ca va?\", \"en\")"
      ],
      "execution_count": 21,
      "outputs": []
    },
    {
      "cell_type": "code",
      "metadata": {
        "colab": {
          "base_uri": "https://localhost:8080/",
          "height": 35
        },
        "id": "uKpzJB19gLdx",
        "outputId": "368ad7d6-c13d-406f-d87e-a2ef29a7918c"
      },
      "source": [
        "translation"
      ],
      "execution_count": 22,
      "outputs": [
        {
          "output_type": "execute_result",
          "data": {
            "application/vnd.google.colaboratory.intrinsic+json": {
              "type": "string"
            },
            "text/plain": [
              "'Hello, are you okay?'"
            ]
          },
          "metadata": {},
          "execution_count": 22
        }
      ]
    },
    {
      "cell_type": "code",
      "metadata": {
        "id": "WG9-_a1u4YE0"
      },
      "source": [
        "def translate_foreign_langauges(row):\n",
        "    original_descr = row.merged_description\n",
        "    translated_descr = original_descr\n",
        "    if row.language != 'en':\n",
        "        if len(original_descr) > 512:\n",
        "            # pre-trained models only support sequences of length < 512\n",
        "            orinal_descr = original_descr[:512]\n",
        "        translation = translate(original_descr, \"en\")\n",
        "        if len(translation) > 0:\n",
        "            translated_descr = translation\n",
        "\n",
        "    row['translated_description'] = str(translated_descr.strip())\n",
        "    return row"
      ],
      "execution_count": 23,
      "outputs": []
    },
    {
      "cell_type": "code",
      "metadata": {
        "id": "4a0BPRCNF-3f",
        "colab": {
          "base_uri": "https://localhost:8080/"
        },
        "outputId": "e97e49a8-35f4-4725-c9b4-20525c41fe45"
      },
      "source": [
        "translated_dataset = dataset.progress_apply(translate_foreign_langauges, axis=1)"
      ],
      "execution_count": 24,
      "outputs": [
        {
          "output_type": "stream",
          "name": "stderr",
          "text": [
            " 97%|█████████▋| 8231/8499 [16:15<00:10, 26.56it/s]Token indices sequence length is longer than the specified maximum sequence length for this model (651 > 512). Running this sequence through the model will result in indexing errors\n",
            "100%|██████████| 8499/8499 [17:19<00:00,  8.18it/s]\n"
          ]
        }
      ]
    },
    {
      "cell_type": "code",
      "metadata": {
        "colab": {
          "base_uri": "https://localhost:8080/",
          "height": 669
        },
        "id": "llbSy7_PlDQt",
        "outputId": "d7cb82c1-855e-4e0d-9434-4cd14cf64bff"
      },
      "source": [
        "# sample translations\n",
        "translated_dataset[translated_dataset.language != 'en'].sample(20)[['merged_description', 'translated_description']]"
      ],
      "execution_count": 27,
      "outputs": [
        {
          "output_type": "execute_result",
          "data": {
            "text/html": [
              "<div>\n",
              "<style scoped>\n",
              "    .dataframe tbody tr th:only-of-type {\n",
              "        vertical-align: middle;\n",
              "    }\n",
              "\n",
              "    .dataframe tbody tr th {\n",
              "        vertical-align: top;\n",
              "    }\n",
              "\n",
              "    .dataframe thead th {\n",
              "        text-align: right;\n",
              "    }\n",
              "</style>\n",
              "<table border=\"1\" class=\"dataframe\">\n",
              "  <thead>\n",
              "    <tr style=\"text-align: right;\">\n",
              "      <th></th>\n",
              "      <th>merged_description</th>\n",
              "      <th>translated_description</th>\n",
              "    </tr>\n",
              "  </thead>\n",
              "  <tbody>\n",
              "    <tr>\n",
              "      <th>2285</th>\n",
              "      <td>probleme mit portal franjuz urbghty</td>\n",
              "      <td>problems with portal franjuz urbghty</td>\n",
              "    </tr>\n",
              "    <tr>\n",
              "      <th>3747</th>\n",
              "      <td>telefon gigaset m mit der durchwahl  akku halt...</td>\n",
              "      <td>phone gigaset m with the dialing battery stop ...</td>\n",
              "    </tr>\n",
              "    <tr>\n",
              "      <th>270</th>\n",
              "      <td>neues passwort fur accountname tgryhu hgygrtui...</td>\n",
              "      <td>new password for accountname tgryhu hgygrtui p...</td>\n",
              "    </tr>\n",
              "    <tr>\n",
              "      <th>6488</th>\n",
              "      <td>login error hallo zusammen beim einloggen mit ...</td>\n",
              "      <td>login error hello together with the login with...</td>\n",
              "    </tr>\n",
              "    <tr>\n",
              "      <th>6356</th>\n",
              "      <td>setup new ws instandsetzung</td>\n",
              "      <td>setup new ws repair</td>\n",
              "    </tr>\n",
              "    <tr>\n",
              "      <th>2085</th>\n",
              "      <td>lauft sehr langsam werk germany nicht mehr akt...</td>\n",
              "      <td>runs very slow work germany no longer current ...</td>\n",
              "    </tr>\n",
              "    <tr>\n",
              "      <th>6780</th>\n",
              "      <td>set back ts document status dispo avfertigungs...</td>\n",
              "      <td>set back ts document status dispo avproduktion...</td>\n",
              "    </tr>\n",
              "    <tr>\n",
              "      <th>5447</th>\n",
              "      <td>enterprise search connector u work mit freundl...</td>\n",
              "      <td>enterprise search connector u work with friend...</td>\n",
              "    </tr>\n",
              "    <tr>\n",
              "      <th>8229</th>\n",
              "      <td>new request team anbei ein investmentantrag fu...</td>\n",
              "      <td>new request team at an investment application ...</td>\n",
              "    </tr>\n",
              "    <tr>\n",
              "      <th>4357</th>\n",
              "      <td>terminal  bei iso konnen eu tool keine zeichnu...</td>\n",
              "      <td>terminal at iso konnen eu tool no more drawing...</td>\n",
              "    </tr>\n",
              "    <tr>\n",
              "      <th>7573</th>\n",
              "      <td>pc ewkw funktioniert nicht pc lasst sich ansch...</td>\n",
              "      <td>pc ewkw doesn't work pc lets turn on afterward...</td>\n",
              "    </tr>\n",
              "    <tr>\n",
              "      <th>3971</th>\n",
              "      <td>kein zugriff auf zeiterfassung und sonstige ne...</td>\n",
              "      <td>no access to time recording and other network ...</td>\n",
              "    </tr>\n",
              "    <tr>\n",
              "      <th>1774</th>\n",
              "      <td>replizieren hallo leider repliziert mein lapto...</td>\n",
              "      <td>replicate hello unfortunately replicates my la...</td>\n",
              "    </tr>\n",
              "    <tr>\n",
              "      <th>1289</th>\n",
              "      <td>serverprobleme qm soft nicht anwendbar</td>\n",
              "      <td>server problems qm soft not applicable</td>\n",
              "    </tr>\n",
              "    <tr>\n",
              "      <th>6339</th>\n",
              "      <td>probleme mit erpgui vsdtxwry</td>\n",
              "      <td>problems with erpgui vsdtxwry</td>\n",
              "    </tr>\n",
              "    <tr>\n",
              "      <th>6317</th>\n",
              "      <td>asxpnlgk mnktdsjq durchwahl defekt display kau...</td>\n",
              "      <td>asxpnlgk mnktdsjq select defective display bar...</td>\n",
              "    </tr>\n",
              "    <tr>\n",
              "      <th>6346</th>\n",
              "      <td>ich habe gestern uber den passwort mein passwo...</td>\n",
              "      <td>yesterday I changed my password about the pass...</td>\n",
              "    </tr>\n",
              "    <tr>\n",
              "      <th>302</th>\n",
              "      <td>eu tool ist sehr langsadgtym ywqgrbnx jwnsyzbv...</td>\n",
              "      <td>eu tool is very longsadgtym ywqgrbnx jwnsyzbv ...</td>\n",
              "    </tr>\n",
              "    <tr>\n",
              "      <th>4970</th>\n",
              "      <td>hallo ich habe ein problem beim ubertragen ein...</td>\n",
              "      <td>Hello I have a problem with transferring a ber...</td>\n",
              "    </tr>\n",
              "    <tr>\n",
              "      <th>3381</th>\n",
              "      <td>support could help we add customer engineering...</td>\n",
              "      <td>support could help we add customer engineering...</td>\n",
              "    </tr>\n",
              "  </tbody>\n",
              "</table>\n",
              "</div>"
            ],
            "text/plain": [
              "                                     merged_description                             translated_description\n",
              "2285                probleme mit portal franjuz urbghty               problems with portal franjuz urbghty\n",
              "3747  telefon gigaset m mit der durchwahl  akku halt...  phone gigaset m with the dialing battery stop ...\n",
              "270   neues passwort fur accountname tgryhu hgygrtui...  new password for accountname tgryhu hgygrtui p...\n",
              "6488  login error hallo zusammen beim einloggen mit ...  login error hello together with the login with...\n",
              "6356                        setup new ws instandsetzung                                setup new ws repair\n",
              "2085  lauft sehr langsam werk germany nicht mehr akt...  runs very slow work germany no longer current ...\n",
              "6780  set back ts document status dispo avfertigungs...  set back ts document status dispo avproduktion...\n",
              "5447  enterprise search connector u work mit freundl...  enterprise search connector u work with friend...\n",
              "8229  new request team anbei ein investmentantrag fu...  new request team at an investment application ...\n",
              "4357  terminal  bei iso konnen eu tool keine zeichnu...  terminal at iso konnen eu tool no more drawing...\n",
              "7573  pc ewkw funktioniert nicht pc lasst sich ansch...  pc ewkw doesn't work pc lets turn on afterward...\n",
              "3971  kein zugriff auf zeiterfassung und sonstige ne...  no access to time recording and other network ...\n",
              "1774  replizieren hallo leider repliziert mein lapto...  replicate hello unfortunately replicates my la...\n",
              "1289             serverprobleme qm soft nicht anwendbar             server problems qm soft not applicable\n",
              "6339                       probleme mit erpgui vsdtxwry                      problems with erpgui vsdtxwry\n",
              "6317  asxpnlgk mnktdsjq durchwahl defekt display kau...  asxpnlgk mnktdsjq select defective display bar...\n",
              "6346  ich habe gestern uber den passwort mein passwo...  yesterday I changed my password about the pass...\n",
              "302   eu tool ist sehr langsadgtym ywqgrbnx jwnsyzbv...  eu tool is very longsadgtym ywqgrbnx jwnsyzbv ...\n",
              "4970  hallo ich habe ein problem beim ubertragen ein...  Hello I have a problem with transferring a ber...\n",
              "3381  support could help we add customer engineering...  support could help we add customer engineering..."
            ]
          },
          "metadata": {},
          "execution_count": 27
        }
      ]
    },
    {
      "cell_type": "code",
      "metadata": {
        "id": "zk7dfUrqqbnT"
      },
      "source": [
        "translated_dataset.to_excel('./data/clean_data_tranlsated.xlsx')"
      ],
      "execution_count": 28,
      "outputs": []
    },
    {
      "cell_type": "code",
      "metadata": {
        "id": "DBe1tLwWqoiz"
      },
      "source": [
        ""
      ],
      "execution_count": null,
      "outputs": []
    }
  ]
}