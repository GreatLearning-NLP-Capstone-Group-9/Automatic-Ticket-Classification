{
 "cells": [
  {
   "cell_type": "markdown",
   "metadata": {},
   "source": [
    "<h4>\n",
    "<ul>\n",
    "    <li><strong><span style=\"font-family: 'Trebuchet MS', Helvetica, sans-serif;\">OBJECTIVE:</span></strong></li>\n",
    "</ul>\n",
    "<p><span style=\"font-family: 'Trebuchet MS', Helvetica, sans-serif;\">Use the text data to build simple feed-forward Neural Nets and benchmark against the base ML models.</span></p>\n",
    "    </h4>"
   ]
  },
  {
   "cell_type": "code",
   "execution_count": 1,
   "metadata": {},
   "outputs": [
    {
     "name": "stderr",
     "output_type": "stream",
     "text": [
      "C:\\Users\\surya\\anaconda3\\envs\\full\\lib\\site-packages\\tqdm\\std.py:697: FutureWarning: The Panel class is removed from pandas. Accessing it from the top-level namespace will also be removed in the next version\n",
      "  from pandas import Panel\n"
     ]
    }
   ],
   "source": [
    "# imports\n",
    "\n",
    "import os\n",
    "import math\n",
    "import random\n",
    "import warnings\n",
    "from time import time\n",
    "from pathlib import Path\n",
    "import pandas as pd, numpy as np\n",
    "from pprint import pprint\n",
    "import matplotlib.pyplot as plt\n",
    "import seaborn as sns\n",
    "from tqdm import tqdm\n",
    "from collections import defaultdict, Counter\n",
    "from sklearn.preprocessing import LabelEncoder\n",
    "from wordcloud import WordCloud, STOPWORDS\n",
    "import tensorflow\n",
    "\n",
    "tqdm.pandas()\n",
    "warnings.filterwarnings('ignore')\n",
    "warnings.simplefilter(action='ignore', category=FutureWarning)\n",
    "%matplotlib inline"
   ]
  },
  {
   "cell_type": "code",
   "execution_count": 2,
   "metadata": {},
   "outputs": [],
   "source": [
    "# reproducibility\n",
    "seed = 7\n",
    "random.seed(seed)\n",
    "tensorflow.random.set_seed(seed)"
   ]
  },
  {
   "cell_type": "markdown",
   "metadata": {},
   "source": [
    "<h3><ul>\n",
    "    <li><strong><span style=\"font-family: 'Trebuchet MS', Helvetica, sans-serif;\">Import the clean data.</span></strong></li>\n",
    "</ul></h3>"
   ]
  },
  {
   "cell_type": "code",
   "execution_count": 3,
   "metadata": {},
   "outputs": [
    {
     "data": {
      "text/html": [
       "<div>\n",
       "<style scoped>\n",
       "    .dataframe tbody tr th:only-of-type {\n",
       "        vertical-align: middle;\n",
       "    }\n",
       "\n",
       "    .dataframe tbody tr th {\n",
       "        vertical-align: top;\n",
       "    }\n",
       "\n",
       "    .dataframe thead th {\n",
       "        text-align: right;\n",
       "    }\n",
       "</style>\n",
       "<table border=\"1\" class=\"dataframe\">\n",
       "  <thead>\n",
       "    <tr style=\"text-align: right;\">\n",
       "      <th></th>\n",
       "      <th>short_description</th>\n",
       "      <th>description</th>\n",
       "      <th>caller</th>\n",
       "      <th>group</th>\n",
       "      <th>char_length</th>\n",
       "      <th>word_length</th>\n",
       "      <th>short_char_length</th>\n",
       "      <th>short_word_length</th>\n",
       "      <th>description_keywords</th>\n",
       "      <th>short_description_keywords</th>\n",
       "      <th>group_code</th>\n",
       "      <th>char_length_bins</th>\n",
       "      <th>cleaned_description</th>\n",
       "      <th>cleaned_short_description</th>\n",
       "      <th>cleaned_char_length</th>\n",
       "      <th>cleaned_word_length</th>\n",
       "      <th>cleaned_short_char_length</th>\n",
       "      <th>cleaned_short_word_length</th>\n",
       "    </tr>\n",
       "  </thead>\n",
       "  <tbody>\n",
       "    <tr>\n",
       "      <th>2600</th>\n",
       "      <td>job Job_534 failed in job_scheduler at: 10/01/...</td>\n",
       "      <td>received from: monitoring_tool@company.com\\n\\n...</td>\n",
       "      <td>bpctwhsn kzqsbmtp</td>\n",
       "      <td>GRP_8</td>\n",
       "      <td>105</td>\n",
       "      <td>11</td>\n",
       "      <td>61</td>\n",
       "      <td>8</td>\n",
       "      <td>job Job</td>\n",
       "      <td>job Job</td>\n",
       "      <td>72</td>\n",
       "      <td>12</td>\n",
       "      <td>job job 534 fail job scheduler 01 04 00</td>\n",
       "      <td>job job 534 fail job scheduler 01 04 00</td>\n",
       "      <td>39</td>\n",
       "      <td>9</td>\n",
       "      <td>39</td>\n",
       "      <td>9</td>\n",
       "    </tr>\n",
       "    <tr>\n",
       "      <th>2113</th>\n",
       "      <td>4908206193/00001 dn required by 2 oclock est</td>\n",
       "      <td>\\n\\nreceived from: kaguhxwo.uoyipxqg@gmail.com...</td>\n",
       "      <td>kaguhxwo uoyipxqg</td>\n",
       "      <td>GRP_6</td>\n",
       "      <td>135</td>\n",
       "      <td>17</td>\n",
       "      <td>44</td>\n",
       "      <td>7</td>\n",
       "      <td>warehouse today before they cut</td>\n",
       "      <td>oclock est</td>\n",
       "      <td>56</td>\n",
       "      <td>16</td>\n",
       "      <td>create dn 5019317204 00001 warehouse today cut...</td>\n",
       "      <td>4908206193 00001 dn require 2 clock e</td>\n",
       "      <td>51</td>\n",
       "      <td>8</td>\n",
       "      <td>37</td>\n",
       "      <td>7</td>\n",
       "    </tr>\n",
       "    <tr>\n",
       "      <th>5215</th>\n",
       "      <td>unable to connect to company wi-fi</td>\n",
       "      <td>unable to connect to company wi-fi</td>\n",
       "      <td>ntuhoafg bzwefjvk</td>\n",
       "      <td>GRP_0</td>\n",
       "      <td>35</td>\n",
       "      <td>6</td>\n",
       "      <td>35</td>\n",
       "      <td>6</td>\n",
       "      <td>unable to connect to company</td>\n",
       "      <td>unable to connect to company</td>\n",
       "      <td>0</td>\n",
       "      <td>4</td>\n",
       "      <td>unable connect company wi fi</td>\n",
       "      <td>unable connect company wi fi</td>\n",
       "      <td>28</td>\n",
       "      <td>5</td>\n",
       "      <td>28</td>\n",
       "      <td>5</td>\n",
       "    </tr>\n",
       "    <tr>\n",
       "      <th>5068</th>\n",
       "      <td>netweaver -</td>\n",
       "      <td>\\n\\nreceived from: bcxpeuko.utorqehx@gmail.com...</td>\n",
       "      <td>bcxpeuko utorqehx</td>\n",
       "      <td>GRP_0</td>\n",
       "      <td>176</td>\n",
       "      <td>21</td>\n",
       "      <td>12</td>\n",
       "      <td>2</td>\n",
       "      <td>update the netweaver</td>\n",
       "      <td>netweaver</td>\n",
       "      <td>0</td>\n",
       "      <td>20</td>\n",
       "      <td>help update netweaver receive message</td>\n",
       "      <td>netweaver</td>\n",
       "      <td>37</td>\n",
       "      <td>5</td>\n",
       "      <td>9</td>\n",
       "      <td>1</td>\n",
       "    </tr>\n",
       "    <tr>\n",
       "      <th>4093</th>\n",
       "      <td>HostName_170- swap space on:HostName_170 is 75...</td>\n",
       "      <td>HostName_170- swap space on:HostName_170 is 75...</td>\n",
       "      <td>spxqmiry zpwgoqju</td>\n",
       "      <td>GRP_47</td>\n",
       "      <td>55</td>\n",
       "      <td>8</td>\n",
       "      <td>55</td>\n",
       "      <td>8</td>\n",
       "      <td>HostName</td>\n",
       "      <td>HostName</td>\n",
       "      <td>42</td>\n",
       "      <td>6</td>\n",
       "      <td>hostname 170 swap space hostname 170 75 less</td>\n",
       "      <td>hostname 170 swap space hostname 170 75 less</td>\n",
       "      <td>44</td>\n",
       "      <td>8</td>\n",
       "      <td>44</td>\n",
       "      <td>8</td>\n",
       "    </tr>\n",
       "    <tr>\n",
       "      <th>6155</th>\n",
       "      <td>it help for engineering_tool and engineering_...</td>\n",
       "      <td>dear sir,\\n\\nplease help to download software ...</td>\n",
       "      <td>vxhyftae tbkyfdli</td>\n",
       "      <td>GRP_0</td>\n",
       "      <td>248</td>\n",
       "      <td>41</td>\n",
       "      <td>50</td>\n",
       "      <td>6</td>\n",
       "      <td>dear sir</td>\n",
       "      <td>engineering</td>\n",
       "      <td>0</td>\n",
       "      <td>26</td>\n",
       "      <td>dear help download software engineering tool e...</td>\n",
       "      <td>help engineer tool engineering tool</td>\n",
       "      <td>172</td>\n",
       "      <td>23</td>\n",
       "      <td>35</td>\n",
       "      <td>5</td>\n",
       "    </tr>\n",
       "    <tr>\n",
       "      <th>5578</th>\n",
       "      <td>i need access to the deleted folder on collabo...</td>\n",
       "      <td>i can't find a mti certificate tracking form o...</td>\n",
       "      <td>hdfcwmag plxstkad</td>\n",
       "      <td>GRP_16</td>\n",
       "      <td>111</td>\n",
       "      <td>18</td>\n",
       "      <td>62</td>\n",
       "      <td>9</td>\n",
       "      <td>certificate tracking form on collaboration</td>\n",
       "      <td>deleted folder on collaboration</td>\n",
       "      <td>8</td>\n",
       "      <td>13</td>\n",
       "      <td>ca t find mti certificate tracking form collab...</td>\n",
       "      <td>need access delete folder collaboration platform</td>\n",
       "      <td>86</td>\n",
       "      <td>14</td>\n",
       "      <td>48</td>\n",
       "      <td>6</td>\n",
       "    </tr>\n",
       "    <tr>\n",
       "      <th>4198</th>\n",
       "      <td>milano,italy: duplex mismatch  gi2/0/1 on 1811...</td>\n",
       "      <td>duplex mismatch: duplex mode on interface giga...</td>\n",
       "      <td>mnlazfsr mtqrkhnx</td>\n",
       "      <td>GRP_4</td>\n",
       "      <td>531</td>\n",
       "      <td>66</td>\n",
       "      <td>112</td>\n",
       "      <td>17</td>\n",
       "      <td>duplex mode matches</td>\n",
       "      <td>duplex mismatch</td>\n",
       "      <td>34</td>\n",
       "      <td>42</td>\n",
       "      <td>duplex mismatch duplex mode interface gigabite...</td>\n",
       "      <td>milano italy duplex mismatch gi2 0 1 1811 rout...</td>\n",
       "      <td>330</td>\n",
       "      <td>50</td>\n",
       "      <td>89</td>\n",
       "      <td>17</td>\n",
       "    </tr>\n",
       "    <tr>\n",
       "      <th>1556</th>\n",
       "      <td>grir issues plant_322 for ice alt. routes from...</td>\n",
       "      <td>email from maryhtutina bauuyternfeyt to athynd...</td>\n",
       "      <td>cbligfne wmoxktnj</td>\n",
       "      <td>GRP_53</td>\n",
       "      <td>443</td>\n",
       "      <td>63</td>\n",
       "      <td>50</td>\n",
       "      <td>9</td>\n",
       "      <td>maryhtutina bauuyternfeyt to athyndy eartyp</td>\n",
       "      <td>grir issues plant</td>\n",
       "      <td>49</td>\n",
       "      <td>38</td>\n",
       "      <td>email maryhtutina bauuyternfeyt athyndy eartyp...</td>\n",
       "      <td>grir issue plant 322 ice alt route usa</td>\n",
       "      <td>324</td>\n",
       "      <td>44</td>\n",
       "      <td>38</td>\n",
       "      <td>8</td>\n",
       "    </tr>\n",
       "    <tr>\n",
       "      <th>852</th>\n",
       "      <td>pc rqxw8515267 setup for remote company use ca...</td>\n",
       "      <td>pc rqxw8515267 setup for remote company use ca...</td>\n",
       "      <td>xweclugf qmhbjsyi</td>\n",
       "      <td>GRP_3</td>\n",
       "      <td>111</td>\n",
       "      <td>19</td>\n",
       "      <td>111</td>\n",
       "      <td>19</td>\n",
       "      <td>setup for remote company</td>\n",
       "      <td>setup for remote company</td>\n",
       "      <td>23</td>\n",
       "      <td>13</td>\n",
       "      <td>pc rqxw8515267 setup remote company use log ap...</td>\n",
       "      <td>pc rqxw8515267 setup remote company use log ap...</td>\n",
       "      <td>72</td>\n",
       "      <td>11</td>\n",
       "      <td>72</td>\n",
       "      <td>11</td>\n",
       "    </tr>\n",
       "  </tbody>\n",
       "</table>\n",
       "</div>"
      ],
      "text/plain": [
       "                                      short_description  \\\n",
       "2600  job Job_534 failed in job_scheduler at: 10/01/...   \n",
       "2113       4908206193/00001 dn required by 2 oclock est   \n",
       "5215                unable to connect to company wi-fi    \n",
       "5068                                       netweaver -    \n",
       "4093  HostName_170- swap space on:HostName_170 is 75...   \n",
       "6155   it help for engineering_tool and engineering_...   \n",
       "5578  i need access to the deleted folder on collabo...   \n",
       "4198  milano,italy: duplex mismatch  gi2/0/1 on 1811...   \n",
       "1556  grir issues plant_322 for ice alt. routes from...   \n",
       "852   pc rqxw8515267 setup for remote company use ca...   \n",
       "\n",
       "                                            description             caller  \\\n",
       "2600  received from: monitoring_tool@company.com\\n\\n...  bpctwhsn kzqsbmtp   \n",
       "2113  \\n\\nreceived from: kaguhxwo.uoyipxqg@gmail.com...  kaguhxwo uoyipxqg   \n",
       "5215                unable to connect to company wi-fi   ntuhoafg bzwefjvk   \n",
       "5068  \\n\\nreceived from: bcxpeuko.utorqehx@gmail.com...  bcxpeuko utorqehx   \n",
       "4093  HostName_170- swap space on:HostName_170 is 75...  spxqmiry zpwgoqju   \n",
       "6155  dear sir,\\n\\nplease help to download software ...  vxhyftae tbkyfdli   \n",
       "5578  i can't find a mti certificate tracking form o...  hdfcwmag plxstkad   \n",
       "4198  duplex mismatch: duplex mode on interface giga...  mnlazfsr mtqrkhnx   \n",
       "1556  email from maryhtutina bauuyternfeyt to athynd...  cbligfne wmoxktnj   \n",
       "852   pc rqxw8515267 setup for remote company use ca...  xweclugf qmhbjsyi   \n",
       "\n",
       "       group  char_length  word_length  short_char_length  short_word_length  \\\n",
       "2600   GRP_8          105           11                 61                  8   \n",
       "2113   GRP_6          135           17                 44                  7   \n",
       "5215   GRP_0           35            6                 35                  6   \n",
       "5068   GRP_0          176           21                 12                  2   \n",
       "4093  GRP_47           55            8                 55                  8   \n",
       "6155   GRP_0          248           41                 50                  6   \n",
       "5578  GRP_16          111           18                 62                  9   \n",
       "4198   GRP_4          531           66                112                 17   \n",
       "1556  GRP_53          443           63                 50                  9   \n",
       "852    GRP_3          111           19                111                 19   \n",
       "\n",
       "                             description_keywords  \\\n",
       "2600                                      job Job   \n",
       "2113              warehouse today before they cut   \n",
       "5215                 unable to connect to company   \n",
       "5068                         update the netweaver   \n",
       "4093                                     HostName   \n",
       "6155                                     dear sir   \n",
       "5578   certificate tracking form on collaboration   \n",
       "4198                          duplex mode matches   \n",
       "1556  maryhtutina bauuyternfeyt to athyndy eartyp   \n",
       "852                      setup for remote company   \n",
       "\n",
       "           short_description_keywords  group_code  char_length_bins  \\\n",
       "2600                          job Job          72                12   \n",
       "2113                       oclock est          56                16   \n",
       "5215     unable to connect to company           0                 4   \n",
       "5068                        netweaver           0                20   \n",
       "4093                         HostName          42                 6   \n",
       "6155                      engineering           0                26   \n",
       "5578  deleted folder on collaboration           8                13   \n",
       "4198                  duplex mismatch          34                42   \n",
       "1556                grir issues plant          49                38   \n",
       "852          setup for remote company          23                13   \n",
       "\n",
       "                                    cleaned_description  \\\n",
       "2600            job job 534 fail job scheduler 01 04 00   \n",
       "2113  create dn 5019317204 00001 warehouse today cut...   \n",
       "5215                       unable connect company wi fi   \n",
       "5068              help update netweaver receive message   \n",
       "4093       hostname 170 swap space hostname 170 75 less   \n",
       "6155  dear help download software engineering tool e...   \n",
       "5578  ca t find mti certificate tracking form collab...   \n",
       "4198  duplex mismatch duplex mode interface gigabite...   \n",
       "1556  email maryhtutina bauuyternfeyt athyndy eartyp...   \n",
       "852   pc rqxw8515267 setup remote company use log ap...   \n",
       "\n",
       "                              cleaned_short_description  cleaned_char_length  \\\n",
       "2600            job job 534 fail job scheduler 01 04 00                   39   \n",
       "2113              4908206193 00001 dn require 2 clock e                   51   \n",
       "5215                       unable connect company wi fi                   28   \n",
       "5068                                          netweaver                   37   \n",
       "4093       hostname 170 swap space hostname 170 75 less                   44   \n",
       "6155                help engineer tool engineering tool                  172   \n",
       "5578   need access delete folder collaboration platform                   86   \n",
       "4198  milano italy duplex mismatch gi2 0 1 1811 rout...                  330   \n",
       "1556             grir issue plant 322 ice alt route usa                  324   \n",
       "852   pc rqxw8515267 setup remote company use log ap...                   72   \n",
       "\n",
       "      cleaned_word_length  cleaned_short_char_length  \\\n",
       "2600                    9                         39   \n",
       "2113                    8                         37   \n",
       "5215                    5                         28   \n",
       "5068                    5                          9   \n",
       "4093                    8                         44   \n",
       "6155                   23                         35   \n",
       "5578                   14                         48   \n",
       "4198                   50                         89   \n",
       "1556                   44                         38   \n",
       "852                    11                         72   \n",
       "\n",
       "      cleaned_short_word_length  \n",
       "2600                          9  \n",
       "2113                          7  \n",
       "5215                          5  \n",
       "5068                          1  \n",
       "4093                          8  \n",
       "6155                          5  \n",
       "5578                          6  \n",
       "4198                         17  \n",
       "1556                          8  \n",
       "852                          11  "
      ]
     },
     "execution_count": 3,
     "metadata": {},
     "output_type": "execute_result"
    }
   ],
   "source": [
    "dataset = pd.read_excel('./data/cleaned_data.xlsx')\n",
    "dataset.sample(10)"
   ]
  },
  {
   "cell_type": "code",
   "execution_count": 4,
   "metadata": {},
   "outputs": [
    {
     "data": {
      "text/plain": [
       "short_description              0\n",
       "description                    0\n",
       "caller                         0\n",
       "group                          0\n",
       "char_length                    0\n",
       "word_length                    0\n",
       "short_char_length              0\n",
       "short_word_length              0\n",
       "description_keywords           7\n",
       "short_description_keywords    38\n",
       "group_code                     0\n",
       "char_length_bins               0\n",
       "cleaned_description            0\n",
       "cleaned_short_description      0\n",
       "cleaned_char_length            0\n",
       "cleaned_word_length            0\n",
       "cleaned_short_char_length      0\n",
       "cleaned_short_word_length      0\n",
       "dtype: int64"
      ]
     },
     "execution_count": 4,
     "metadata": {},
     "output_type": "execute_result"
    }
   ],
   "source": [
    "dataset.isna().sum()"
   ]
  },
  {
   "cell_type": "code",
   "execution_count": 5,
   "metadata": {},
   "outputs": [],
   "source": [
    "dataset.loc[dataset[\"group\"] != 'GRP_0', 'group'] = 'Other'\n",
    "dataset.loc[dataset[\"group\"] == 'GRP_0', \"group\"] = 'Group 0'"
   ]
  },
  {
   "cell_type": "code",
   "execution_count": 6,
   "metadata": {},
   "outputs": [
    {
     "data": {
      "text/plain": [
       "Other      4473\n",
       "Group 0    3959\n",
       "Name: group, dtype: int64"
      ]
     },
     "execution_count": 6,
     "metadata": {},
     "output_type": "execute_result"
    }
   ],
   "source": [
    "dataset.group.value_counts()"
   ]
  },
  {
   "cell_type": "code",
   "execution_count": 7,
   "metadata": {},
   "outputs": [
    {
     "name": "stdout",
     "output_type": "stream",
     "text": [
      "<class 'pandas.core.frame.DataFrame'>\n",
      "RangeIndex: 8432 entries, 0 to 8431\n",
      "Data columns (total 18 columns):\n",
      " #   Column                      Non-Null Count  Dtype \n",
      "---  ------                      --------------  ----- \n",
      " 0   short_description           8432 non-null   object\n",
      " 1   description                 8432 non-null   object\n",
      " 2   caller                      8432 non-null   object\n",
      " 3   group                       8432 non-null   object\n",
      " 4   char_length                 8432 non-null   int64 \n",
      " 5   word_length                 8432 non-null   int64 \n",
      " 6   short_char_length           8432 non-null   int64 \n",
      " 7   short_word_length           8432 non-null   int64 \n",
      " 8   description_keywords        8425 non-null   object\n",
      " 9   short_description_keywords  8394 non-null   object\n",
      " 10  group_code                  8432 non-null   int32 \n",
      " 11  char_length_bins            8432 non-null   int64 \n",
      " 12  cleaned_description         8432 non-null   object\n",
      " 13  cleaned_short_description   8432 non-null   object\n",
      " 14  cleaned_char_length         8432 non-null   int64 \n",
      " 15  cleaned_word_length         8432 non-null   int64 \n",
      " 16  cleaned_short_char_length   8432 non-null   int64 \n",
      " 17  cleaned_short_word_length   8432 non-null   int64 \n",
      "dtypes: int32(1), int64(9), object(8)\n",
      "memory usage: 1.1+ MB\n"
     ]
    }
   ],
   "source": [
    "le = LabelEncoder()\n",
    "dataset['group_code'] = le.fit_transform(dataset.group)\n",
    "dataset.info()"
   ]
  },
  {
   "cell_type": "code",
   "execution_count": 8,
   "metadata": {},
   "outputs": [
    {
     "data": {
      "text/plain": [
       "array(['Group 0', 'Other'], dtype=object)"
      ]
     },
     "execution_count": 8,
     "metadata": {},
     "output_type": "execute_result"
    }
   ],
   "source": [
    "le.classes_"
   ]
  },
  {
   "cell_type": "code",
   "execution_count": 9,
   "metadata": {},
   "outputs": [
    {
     "name": "stderr",
     "output_type": "stream",
     "text": [
      "100%|██████████████████████████████████████████████████████████████████████████| 8432/8432 [00:10<00:00, 823.10it/s]\n"
     ]
    }
   ],
   "source": [
    "def merge_descriptions(row):\n",
    "    merged_descr = np.nan\n",
    "    if (row.cleaned_short_description == row.cleaned_description or \n",
    "        str(row.description).startswith(str(row.cleaned_short_description))):\n",
    "        merged_descr = str(row.cleaned_description)\n",
    "    else:\n",
    "        merged_descr = str(row.cleaned_short_description) + \" \" + str(row.cleaned_description)\n",
    "    row['merged_description'] = str(merged_descr)\n",
    "    return row\n",
    "\n",
    "dataset = dataset.progress_apply(merge_descriptions, axis=1)"
   ]
  },
  {
   "cell_type": "code",
   "execution_count": 10,
   "metadata": {},
   "outputs": [
    {
     "data": {
      "text/html": [
       "<div>\n",
       "<style scoped>\n",
       "    .dataframe tbody tr th:only-of-type {\n",
       "        vertical-align: middle;\n",
       "    }\n",
       "\n",
       "    .dataframe tbody tr th {\n",
       "        vertical-align: top;\n",
       "    }\n",
       "\n",
       "    .dataframe thead th {\n",
       "        text-align: right;\n",
       "    }\n",
       "</style>\n",
       "<table border=\"1\" class=\"dataframe\">\n",
       "  <thead>\n",
       "    <tr style=\"text-align: right;\">\n",
       "      <th></th>\n",
       "      <th>cleaned_short_description</th>\n",
       "      <th>cleaned_description</th>\n",
       "      <th>merged_description</th>\n",
       "    </tr>\n",
       "  </thead>\n",
       "  <tbody>\n",
       "    <tr>\n",
       "      <th>6628</th>\n",
       "      <td>vpn connection issue</td>\n",
       "      <td>vpn connection issue connect user system use t...</td>\n",
       "      <td>vpn connection issue connect user system use t...</td>\n",
       "    </tr>\n",
       "    <tr>\n",
       "      <th>753</th>\n",
       "      <td>job bk biaprod fail job scheduler 05 12 00</td>\n",
       "      <td>job bk biaprod fail job scheduler 05 12 00</td>\n",
       "      <td>job bk biaprod fail job scheduler 05 12 00</td>\n",
       "    </tr>\n",
       "    <tr>\n",
       "      <th>5807</th>\n",
       "      <td>window printing issue need driver instal every...</td>\n",
       "      <td>window printing issue need driver instal every...</td>\n",
       "      <td>window printing issue need driver instal every...</td>\n",
       "    </tr>\n",
       "    <tr>\n",
       "      <th>7788</th>\n",
       "      <td>abende job job scheduler job 1148</td>\n",
       "      <td>abende job job scheduler job 1148 01 15 24</td>\n",
       "      <td>abende job job scheduler job 1148 abende job j...</td>\n",
       "    </tr>\n",
       "    <tr>\n",
       "      <th>2974</th>\n",
       "      <td>unable login ess protel</td>\n",
       "      <td>unable login ess portal</td>\n",
       "      <td>unable login ess protel unable login ess portal</td>\n",
       "    </tr>\n",
       "    <tr>\n",
       "      <th>6821</th>\n",
       "      <td>user unable login erp</td>\n",
       "      <td>user unable login erp</td>\n",
       "      <td>user unable login erp</td>\n",
       "    </tr>\n",
       "    <tr>\n",
       "      <th>2530</th>\n",
       "      <td>bex analyzer bex designer work</td>\n",
       "      <td>bex analyzer bex designer work</td>\n",
       "      <td>bex analyzer bex designer work</td>\n",
       "    </tr>\n",
       "    <tr>\n",
       "      <th>7194</th>\n",
       "      <td>setup new ws gonzale</td>\n",
       "      <td>setup new ws gonzale</td>\n",
       "      <td>setup new ws gonzale</td>\n",
       "    </tr>\n",
       "    <tr>\n",
       "      <th>6523</th>\n",
       "      <td>open pptx file attach email give repair error</td>\n",
       "      <td>open pptx file attach email give repair error</td>\n",
       "      <td>open pptx file attach email give repair error</td>\n",
       "    </tr>\n",
       "    <tr>\n",
       "      <th>7671</th>\n",
       "      <td>abende job job scheduler sid 38hotf</td>\n",
       "      <td>abende job job scheduler sid 38hotf 23 06 26</td>\n",
       "      <td>abende job job scheduler sid 38hotf abende job...</td>\n",
       "    </tr>\n",
       "  </tbody>\n",
       "</table>\n",
       "</div>"
      ],
      "text/plain": [
       "                              cleaned_short_description  \\\n",
       "6628                               vpn connection issue   \n",
       "753          job bk biaprod fail job scheduler 05 12 00   \n",
       "5807  window printing issue need driver instal every...   \n",
       "7788                  abende job job scheduler job 1148   \n",
       "2974                            unable login ess protel   \n",
       "6821                              user unable login erp   \n",
       "2530                     bex analyzer bex designer work   \n",
       "7194                               setup new ws gonzale   \n",
       "6523      open pptx file attach email give repair error   \n",
       "7671                abende job job scheduler sid 38hotf   \n",
       "\n",
       "                                    cleaned_description  \\\n",
       "6628  vpn connection issue connect user system use t...   \n",
       "753          job bk biaprod fail job scheduler 05 12 00   \n",
       "5807  window printing issue need driver instal every...   \n",
       "7788         abende job job scheduler job 1148 01 15 24   \n",
       "2974                            unable login ess portal   \n",
       "6821                              user unable login erp   \n",
       "2530                     bex analyzer bex designer work   \n",
       "7194                               setup new ws gonzale   \n",
       "6523      open pptx file attach email give repair error   \n",
       "7671       abende job job scheduler sid 38hotf 23 06 26   \n",
       "\n",
       "                                     merged_description  \n",
       "6628  vpn connection issue connect user system use t...  \n",
       "753          job bk biaprod fail job scheduler 05 12 00  \n",
       "5807  window printing issue need driver instal every...  \n",
       "7788  abende job job scheduler job 1148 abende job j...  \n",
       "2974    unable login ess protel unable login ess portal  \n",
       "6821                              user unable login erp  \n",
       "2530                     bex analyzer bex designer work  \n",
       "7194                               setup new ws gonzale  \n",
       "6523      open pptx file attach email give repair error  \n",
       "7671  abende job job scheduler sid 38hotf abende job...  "
      ]
     },
     "execution_count": 10,
     "metadata": {},
     "output_type": "execute_result"
    }
   ],
   "source": [
    "dataset[['cleaned_short_description', 'cleaned_description', 'merged_description']].sample(10)"
   ]
  },
  {
   "cell_type": "code",
   "execution_count": 11,
   "metadata": {},
   "outputs": [
    {
     "data": {
      "text/plain": [
       "((8432,), (8432,))"
      ]
     },
     "execution_count": 11,
     "metadata": {},
     "output_type": "execute_result"
    }
   ],
   "source": [
    "X = np.array(dataset.merged_description)\n",
    "y = np.array(dataset.group_code)\n",
    "X.shape, y.shape"
   ]
  },
  {
   "cell_type": "code",
   "execution_count": 12,
   "metadata": {},
   "outputs": [
    {
     "data": {
      "text/plain": [
       "(0, array([1., 0.], dtype=float32))"
      ]
     },
     "execution_count": 12,
     "metadata": {},
     "output_type": "execute_result"
    }
   ],
   "source": [
    "from tensorflow.keras.utils import to_categorical\n",
    "y_dummy_coded = to_categorical(y)\n",
    "y[0], y_dummy_coded[0]"
   ]
  },
  {
   "cell_type": "code",
   "execution_count": 13,
   "metadata": {},
   "outputs": [],
   "source": [
    "from sklearn.model_selection import train_test_split\n",
    "X_train, X_test, y_train, y_test = train_test_split(X, y_dummy_coded, test_size=.2, random_state=seed)  # splits are stratified by y"
   ]
  },
  {
   "cell_type": "code",
   "execution_count": 14,
   "metadata": {},
   "outputs": [
    {
     "data": {
      "text/plain": [
       "((6745,), (1687,), (6745, 2), (1687, 2))"
      ]
     },
     "execution_count": 14,
     "metadata": {},
     "output_type": "execute_result"
    }
   ],
   "source": [
    "X_train.shape, X_test.shape, y_train.shape, y_test.shape"
   ]
  },
  {
   "cell_type": "code",
   "execution_count": 15,
   "metadata": {},
   "outputs": [
    {
     "data": {
      "text/plain": [
       "('additional correction sale org 1278 company address phone number require germany move 1 sale organisation address 1278 phone number fax number need reverse original phone fax number furth 0911 2 plant address plant 124 phone fax number need adjusted show germany central phone number fax 3 company code address 5278 need revert back address furth germany detail attach ticket',\n",
       " array([0., 1.], dtype=float32))"
      ]
     },
     "execution_count": 15,
     "metadata": {},
     "output_type": "execute_result"
    }
   ],
   "source": [
    "X_train[0], y_train[0]  # check sample"
   ]
  },
  {
   "cell_type": "code",
   "execution_count": 16,
   "metadata": {},
   "outputs": [],
   "source": [
    "# TODO: Check the distributions of groups in training and testing sets, i.e, if they vary too much\n",
    "# stratify by y if required during splits\n",
    "# or data augmentation to upsample minority classes to balance the group distributions"
   ]
  },
  {
   "cell_type": "markdown",
   "metadata": {},
   "source": [
    "<h3><ul>\n",
    "    <li><strong><span style=\"font-family: 'Trebuchet MS', Helvetica, sans-serif;\">Tokenize and pad sequences</span></strong></li>\n",
    "</ul></h3>"
   ]
  },
  {
   "cell_type": "code",
   "execution_count": 17,
   "metadata": {},
   "outputs": [
    {
     "data": {
      "text/plain": [
       "100"
      ]
     },
     "execution_count": 17,
     "metadata": {},
     "output_type": "execute_result"
    }
   ],
   "source": [
    "# define params\n",
    "NUM_WORDS = 20000\n",
    "EMBEDDING_DIM = 300\n",
    "MAX_LEN = 100 # dataset['word_length'].max()\n",
    "MAX_LEN"
   ]
  },
  {
   "cell_type": "code",
   "execution_count": 18,
   "metadata": {},
   "outputs": [
    {
     "data": {
      "text/plain": [
       "([184,\n",
       "  2093,\n",
       "  93,\n",
       "  606,\n",
       "  1609,\n",
       "  10,\n",
       "  148,\n",
       "  45,\n",
       "  116,\n",
       "  169,\n",
       "  146,\n",
       "  375,\n",
       "  15,\n",
       "  93,\n",
       "  6817,\n",
       "  148,\n",
       "  1609,\n",
       "  45,\n",
       "  116,\n",
       "  1513,\n",
       "  116,\n",
       "  23,\n",
       "  1729,\n",
       "  674,\n",
       "  45,\n",
       "  1513,\n",
       "  116,\n",
       "  804,\n",
       "  6818,\n",
       "  30,\n",
       "  75,\n",
       "  148,\n",
       "  75,\n",
       "  2370,\n",
       "  45,\n",
       "  1513,\n",
       "  116,\n",
       "  23,\n",
       "  4267,\n",
       "  90,\n",
       "  146,\n",
       "  3354,\n",
       "  45,\n",
       "  116,\n",
       "  1513,\n",
       "  73,\n",
       "  10,\n",
       "  188,\n",
       "  148,\n",
       "  6819,\n",
       "  23,\n",
       "  1195,\n",
       "  174,\n",
       "  148,\n",
       "  804,\n",
       "  146,\n",
       "  117,\n",
       "  88,\n",
       "  17],\n",
       " [93, 2095, 280, 1029, 783, 355, 9, 2095, 1029, 1360, 2095, 211, 280])"
      ]
     },
     "execution_count": 18,
     "metadata": {},
     "output_type": "execute_result"
    }
   ],
   "source": [
    "from tensorflow.keras.preprocessing.text import Tokenizer\n",
    "from tensorflow.keras.preprocessing.sequence import pad_sequences\n",
    "\n",
    "\n",
    "tokenizer = Tokenizer(num_words=NUM_WORDS)\n",
    "tokenizer.fit_on_texts(X_train)\n",
    "X_train_tokens = tokenizer.texts_to_sequences(X_train)\n",
    "X_test_tokens = tokenizer.texts_to_sequences(X_test)\n",
    "X_train_tokens[0], X_test_tokens[0]"
   ]
  },
  {
   "cell_type": "code",
   "execution_count": 19,
   "metadata": {},
   "outputs": [
    {
     "data": {
      "text/plain": [
       "(array([0., 1.], dtype=float32), array([0., 1.], dtype=float32))"
      ]
     },
     "execution_count": 19,
     "metadata": {},
     "output_type": "execute_result"
    }
   ],
   "source": [
    "y_train[0], y_test[0]"
   ]
  },
  {
   "cell_type": "code",
   "execution_count": 20,
   "metadata": {},
   "outputs": [
    {
     "name": "stdout",
     "output_type": "stream",
     "text": [
      "X train:  (6745, 100)\n",
      "X test:   (1687, 100)\n"
     ]
    }
   ],
   "source": [
    "# pad sequences to cut longer texts to a uniform length and pad the sentences that are shorter than that with <PAD> token\n",
    "\n",
    "# using just 20 words from each headline will severely limit the information that is \n",
    "# available to the model and affect performance although the training will be faster\n",
    "X_train_padded = pad_sequences(X_train_tokens,\n",
    "                               padding='post',\n",
    "                               truncating='post',\n",
    "                               maxlen=MAX_LEN)\n",
    "X_test_padded = pad_sequences(X_test_tokens,\n",
    "                              padding='post',\n",
    "                              truncating='post',\n",
    "                              maxlen=MAX_LEN)\n",
    "\n",
    "\n",
    "print(f'X train:  {X_train_padded.shape}\\nX test:   {X_test_padded.shape}')"
   ]
  },
  {
   "cell_type": "code",
   "execution_count": 21,
   "metadata": {},
   "outputs": [
    {
     "name": "stdout",
     "output_type": "stream",
     "text": [
      "array([ 184, 2093,   93,  606, 1609,   10,  148,   45,  116,  169,  146,\n",
      "        375,   15,   93, 6817,  148, 1609,   45,  116, 1513,  116,   23,\n",
      "       1729,  674,   45, 1513,  116,  804, 6818,   30,   75,  148,   75,\n",
      "       2370,   45, 1513,  116,   23, 4267,   90,  146, 3354,   45,  116,\n",
      "       1513,   73,   10,  188,  148, 6819,   23, 1195,  174,  148,  804,\n",
      "        146,  117,   88,   17,    0,    0,    0,    0,    0,    0,    0,\n",
      "          0,    0,    0,    0,    0,    0,    0,    0,    0,    0,    0,\n",
      "          0,    0,    0,    0,    0,    0,    0,    0,    0,    0,    0,\n",
      "          0,    0,    0,    0,    0,    0,    0,    0,    0,    0,    0,\n",
      "          0])\n"
     ]
    }
   ],
   "source": [
    "pprint(X_train_padded[0], compact=True)"
   ]
  },
  {
   "cell_type": "code",
   "execution_count": 22,
   "metadata": {},
   "outputs": [
    {
     "name": "stdout",
     "output_type": "stream",
     "text": [
      "['job', 'yes', 'na', 'password', 'erp', 'tool', 'user', 'ts', 'issue',\n",
      " 'company', 'sid', 'reset', 'access', 'scheduler', '1', '00', 'ticket',\n",
      " 'unable', 'work', 'error', 'fail', 'account', 'need', 'email', 'site', 'help',\n",
      " 'system', 'hostname', 'get', '2', 'login', 'circuit', 'power', 'outlook',\n",
      " 'network', 'use', 'vendor', 'change', '34', 'update', 'name', 'message',\n",
      " 'backup', 'see', 'phone', 'telecom', 'server', 'try', '10', 'able', 'outage',\n",
      " 'log', 'check', 'new', 'problem', 'start', 'crm', 'engineering', 'request',\n",
      " 'connect', 'call', 'usa', 'type', 'time', 'printer', 'order', 'report', 'vpn',\n",
      " 'team', 'open', 'contact', 'skype', '3', 'lock', 'plant', 'et', 't', 'send',\n",
      " 'create', '4', '5', 'window', 'file', 'pc', 'since', 'print', 'schedule',\n",
      " 'attach', 'device', 'show', '8', 'maintenance', 'sale', '11', '12', 'receive',\n",
      " 'abende', 'notify', '23', 'management']\n"
     ]
    }
   ],
   "source": [
    "WORD_TO_INDEX = tokenizer.word_index\n",
    "# pprint(WORD_TO_INDEX, compact=True)\n",
    "pprint(list(WORD_TO_INDEX.keys())[:100], compact=True)"
   ]
  },
  {
   "cell_type": "code",
   "execution_count": 23,
   "metadata": {},
   "outputs": [
    {
     "data": {
      "text/plain": [
       "13790"
      ]
     },
     "execution_count": 23,
     "metadata": {},
     "output_type": "execute_result"
    }
   ],
   "source": [
    "VOCAB_SIZE = len(WORD_TO_INDEX) + 1\n",
    "VOCAB_SIZE"
   ]
  },
  {
   "cell_type": "code",
   "execution_count": 24,
   "metadata": {},
   "outputs": [
    {
     "data": {
      "text/plain": [
       "'1 22 team response complaint synchronize <PAD> <PAD> <PAD> <PAD> <PAD> <PAD> <PAD> <PAD> <PAD> <PAD> <PAD> <PAD> <PAD> <PAD> <PAD> <PAD> <PAD> <PAD> <PAD> <PAD> <PAD> <PAD> <PAD> <PAD> <PAD> <PAD> <PAD> <PAD> <PAD> <PAD> <PAD> <PAD> <PAD> <PAD> <PAD> <PAD> <PAD> <PAD> <PAD> <PAD> <PAD> <PAD> <PAD> <PAD> <PAD> <PAD> <PAD> <PAD> <PAD> <PAD> <PAD> <PAD> <PAD> <PAD> <PAD> <PAD> <PAD> <PAD> <PAD> <PAD> <PAD> <PAD> <PAD> <PAD> <PAD> <PAD> <PAD> <PAD> <PAD> <PAD> <PAD> <PAD> <PAD> <PAD> <PAD> <PAD> <PAD> <PAD> <PAD> <PAD> <PAD> <PAD> <PAD> <PAD> <PAD> <PAD> <PAD> <PAD> <PAD> <PAD> <PAD> <PAD> <PAD> <PAD>'"
      ]
     },
     "execution_count": 24,
     "metadata": {},
     "output_type": "execute_result"
    }
   ],
   "source": [
    "# https://www.tensorflow.org/api_docs/python/tf/keras/preprocessing/sequence/pad_sequences\n",
    "def retrieve_description_feat(x, mapping=WORD_TO_INDEX) -> str:\n",
    "    # increment 3 \n",
    "    mapping = {k:(v + 3) for k, v in mapping.items()}\n",
    "    mapping['<PAD>'] = 0\n",
    "    mapping['<START>'] = 1\n",
    "    mapping['<UNK>'] = 2\n",
    "    inv_mapping = {v: k for k, v in mapping.items()}\n",
    "    return str(\" \".join(inv_mapping.get(i, '<NA>') for i in x))\n",
    "\n",
    "retrieve_description_feat(X_test_padded[7])"
   ]
  },
  {
   "cell_type": "markdown",
   "metadata": {},
   "source": [
    "<h3><ul>\n",
    "    <li><strong><span style=\"font-family: 'Trebuchet MS', Helvetica, sans-serif;\">GloVe Embeddings</span></strong></li>\n",
    "</ul></h3>"
   ]
  },
  {
   "cell_type": "code",
   "execution_count": 25,
   "metadata": {},
   "outputs": [
    {
     "data": {
      "text/plain": [
       "300"
      ]
     },
     "execution_count": 25,
     "metadata": {},
     "output_type": "execute_result"
    }
   ],
   "source": [
    "EMBEDDING_DIM"
   ]
  },
  {
   "cell_type": "code",
   "execution_count": 26,
   "metadata": {},
   "outputs": [],
   "source": [
    "def get_embedding_matrix(embedding_dim=EMBEDDING_DIM):\n",
    "    embeddings = defaultdict()\n",
    "    if embedding_dim == 200:\n",
    "        file_path = f'./data/glove.6B.{embedding_dim}d.txt'\n",
    "    elif embedding_dim == 300:\n",
    "        file_path = f'./data/glove.840B.{embedding_dim}d.txt'\n",
    "    for l in open(file_path, encoding='utf-8'):\n",
    "        word = l.split(\" \")[0]\n",
    "        embeddings[word] = np.asarray(l.split(\" \")[1:], dtype='float32')\n",
    "\n",
    "    embeddings = dict(embeddings)\n",
    "\n",
    "    # create a weight matrix for words in training docs\n",
    "    embedding_matrix = np.zeros((NUM_WORDS, embedding_dim))\n",
    "\n",
    "    for word, idx in WORD_TO_INDEX.items():\n",
    "        embedding_vector = embeddings.get(word)\n",
    "        if embedding_vector is not None:\n",
    "            embedding_matrix[idx] = embedding_vector\n",
    "\n",
    "    return embedding_matrix"
   ]
  },
  {
   "cell_type": "code",
   "execution_count": 27,
   "metadata": {},
   "outputs": [
    {
     "data": {
      "text/plain": [
       "(20000, 300)"
      ]
     },
     "execution_count": 27,
     "metadata": {},
     "output_type": "execute_result"
    }
   ],
   "source": [
    "# use pre-trained glove embedding matrix to initialize weights in our model\n",
    "embedding_matrix = get_embedding_matrix()\n",
    "embedding_matrix.shape"
   ]
  },
  {
   "cell_type": "markdown",
   "metadata": {},
   "source": [
    "<h4><ul>\n",
    "    <li><strong><span style=\"font-family: 'Trebuchet MS', Helvetica, sans-serif;\">Simple Feed-Forward Neural Net</span></strong></li>\n",
    "</ul></h4>"
   ]
  },
  {
   "cell_type": "code",
   "execution_count": 54,
   "metadata": {},
   "outputs": [],
   "source": [
    "# !pip install livelossplot\n",
    "from tensorflow.python.keras.models import Sequential\n",
    "from sklearn.metrics import accuracy_score, confusion_matrix\n",
    "from tensorflow.keras.regularizers import l2\n",
    "from tensorflow.keras.constraints import max_norm, unit_norm\n",
    "from tensorflow.python.keras.callbacks import LambdaCallback, EarlyStopping, ReduceLROnPlateau\n",
    "from tensorflow.keras.layers import Flatten, Dense, Activation, BatchNormalization, Dropout, Embedding, LSTM, MaxPooling1D, Conv1D, Bidirectional"
   ]
  },
  {
   "cell_type": "code",
   "execution_count": 29,
   "metadata": {},
   "outputs": [
    {
     "data": {
      "text/plain": [
       "(13790, 100, 300, 2)"
      ]
     },
     "execution_count": 29,
     "metadata": {},
     "output_type": "execute_result"
    }
   ],
   "source": [
    "NUM_CLASSES = len(le.classes_)\n",
    "VOCAB_SIZE, MAX_LEN, EMBEDDING_DIM, NUM_CLASSES"
   ]
  },
  {
   "cell_type": "code",
   "execution_count": 30,
   "metadata": {},
   "outputs": [],
   "source": [
    "# define model\n",
    "\n",
    "model1 = Sequential([ \n",
    "    Embedding(input_dim=VOCAB_SIZE, output_dim=EMBEDDING_DIM, input_length=MAX_LEN),\n",
    "    Flatten(),\n",
    "    Dense(1024, activation = 'relu'),\n",
    "    Dense(1024, activation = 'relu'),\n",
    "    Dense(128, activation = 'relu'),\n",
    "    Dense(NUM_CLASSES, activation = 'softmax')\n",
    "])\n",
    "\n",
    "model1.compile(\n",
    "    loss = 'categorical_crossentropy',\n",
    "    optimizer = 'adam',\n",
    "    metrics = ['accuracy']\n",
    ")"
   ]
  },
  {
   "cell_type": "code",
   "execution_count": 31,
   "metadata": {},
   "outputs": [],
   "source": [
    "# Define Callbacks and a few helper functions\n",
    "\n",
    "# simplify the training log\n",
    "simple_log = LambdaCallback(\n",
    "    on_epoch_end = lambda e, l: print(f\" ~| Epoch: {e+1} | Validation Loss: {l['val_loss']:.5f}\", end =\" >|> \\n\" ))\n",
    "\n",
    "# early stopping\n",
    "early_stop = EarlyStopping(monitor='val_loss',\n",
    "                              min_delta=0,\n",
    "                              patience=7,\n",
    "                              verbose=0, \n",
    "                              restore_best_weights=True)\n",
    "\n",
    "# learning rate reduction\n",
    "lr_reduce_on_plateau = ReduceLROnPlateau(monitor='val_loss', \n",
    "                                            patience=4, \n",
    "                                            verbose=1, \n",
    "                                            factor=0.4,\n",
    "                                            min_lr=0.00001)\n",
    "\n",
    "def plot_learning_curve(hist):\n",
    "    sns.set()\n",
    "    plt.figure(figsize=(5,5))\n",
    "    train = hist.history['loss']\n",
    "    val = hist.history['val_loss']\n",
    "    epochs_run = range(1,len(train) + 1)\n",
    "    sns.lineplot(epochs_run, train, marker = 'o', color = 'coral', label = 'Training Loss')\n",
    "    sns.lineplot(epochs_run, val,  marker = '>', color = 'green', label = 'Validation Loss')\n",
    "    plt.title(\"Loss vs. Epochs\", fontsize = 20)\n",
    "    plt.legend()\n",
    "    plt.show()"
   ]
  },
  {
   "cell_type": "code",
   "execution_count": 32,
   "metadata": {},
   "outputs": [
    {
     "data": {
      "text/plain": [
       "'additional correction sale org 1278 company address phone number require germany move 1 sale organisation address 1278 phone number fax number need reverse original phone fax number furth 0911 2 plant address plant 124 phone fax number need adjusted show germany central phone number fax 3 company code address 5278 need revert back address furth germany detail attach ticket'"
      ]
     },
     "execution_count": 32,
     "metadata": {},
     "output_type": "execute_result"
    }
   ],
   "source": [
    "X_train[0]"
   ]
  },
  {
   "cell_type": "code",
   "execution_count": 33,
   "metadata": {},
   "outputs": [
    {
     "data": {
      "text/plain": [
       "((6745,), (6745, 2), (1687,), (1687, 2))"
      ]
     },
     "execution_count": 33,
     "metadata": {},
     "output_type": "execute_result"
    }
   ],
   "source": [
    "X_train.shape, y_train.shape, X_test.shape, y_test.shape"
   ]
  },
  {
   "cell_type": "code",
   "execution_count": 34,
   "metadata": {},
   "outputs": [
    {
     "name": "stdout",
     "output_type": "stream",
     "text": [
      "Training on GPU:\n",
      " ~| Epoch: 1 | Validation Loss: 0.33744 >|> \n",
      " ~| Epoch: 2 | Validation Loss: 0.43625 >|> \n",
      " ~| Epoch: 3 | Validation Loss: 0.56031 >|> \n",
      " ~| Epoch: 4 | Validation Loss: 0.71875 >|> \n",
      " ~| Epoch: 5 | Validation Loss: 0.80328 >|> \n",
      "\n",
      "Epoch 00005: ReduceLROnPlateau reducing learning rate to 0.0004000000189989805.\n",
      " ~| Epoch: 6 | Validation Loss: 0.94813 >|> \n",
      " ~| Epoch: 7 | Validation Loss: 1.10798 >|> \n",
      " ~| Epoch: 8 | Validation Loss: 1.20928 >|> \n",
      "\n",
      "Training Done.\n"
     ]
    }
   ],
   "source": [
    "EPOCHS = 200\n",
    "try:\n",
    "    print(\"Training on GPU:\")\n",
    "    with tensorflow.device(\"gpu:0\"):  # train on gpu\n",
    "        h1 = model1.fit(\n",
    "            X_train_padded, y_train,\n",
    "            validation_split = 0.2,  # do not use the test data for validation to prevent data leakage, we only use to test at the model in the end\n",
    "            epochs = EPOCHS,\n",
    "            callbacks = [simple_log, early_stop, lr_reduce_on_plateau],\n",
    "            verbose = False)\n",
    "except Exception as e:\n",
    "    print(e)\n",
    "    print(\"\\nTraining on CPU:\")\n",
    "    h1 = model1.fit(\n",
    "            X_train_padded, y_train,\n",
    "            validation_split = 0.2,  # do not use the test data for validation to prevent data leakage, we only use to test at the model in the end\n",
    "            epochs = EPOCHS,\n",
    "            callbacks = [simple_log, early_stop, lr_reduce_on_plateau],\n",
    "            verbose = False)\n",
    "\n",
    "print(\"\\nTraining Done.\")"
   ]
  },
  {
   "cell_type": "code",
   "execution_count": 35,
   "metadata": {},
   "outputs": [
    {
     "data": {
      "image/png": "[encoded data removed]",
      "text/plain": [
       "<Figure size 360x360 with 1 Axes>"
      ]
     },
     "metadata": {},
     "output_type": "display_data"
    }
   ],
   "source": [
    "plot_learning_curve(h1)"
   ]
  },
  {
   "cell_type": "code",
   "execution_count": 36,
   "metadata": {},
   "outputs": [
    {
     "name": "stdout",
     "output_type": "stream",
     "text": [
      "53/53 [==============================] - 0s 6ms/step - loss: 0.3273 - accuracy: 0.8625\n",
      "Testing Loss:  32.73244500160217\n",
      "Testing Accuracy:  86.24777793884277\n"
     ]
    }
   ],
   "source": [
    "loss, acc = model1.evaluate(X_test_padded, y_test)\n",
    "print(\"Testing Loss: \", loss*100)\n",
    "print(\"Testing Accuracy: \", acc*100)"
   ]
  },
  {
   "cell_type": "markdown",
   "metadata": {},
   "source": [
    "<h4><ul>\n",
    "<span style=\"font-family: 'Trebuchet MS', Helvetica, sans-serif;\">\n",
    "    <li>This model is clearly overfitting, we will add regularization to the next iteration\n",
    " </span></ul></h4>"
   ]
  },
  {
   "cell_type": "markdown",
   "metadata": {},
   "source": [
    "<h4><ul>\n",
    "    <li><strong><span style=\"font-family: 'Trebuchet MS', Helvetica, sans-serif;\">Simple Feed-Forward Neural Net + Batch Normalization</span></strong></li>\n",
    "</ul></h4>"
   ]
  },
  {
   "cell_type": "code",
   "execution_count": 37,
   "metadata": {},
   "outputs": [],
   "source": [
    "# define model\n",
    "\n",
    "model2 = Sequential([ \n",
    "    Embedding(input_dim=VOCAB_SIZE, output_dim=EMBEDDING_DIM, input_length=MAX_LEN),\n",
    "    Flatten(),\n",
    "    Dense(256, activation = 'relu'),\n",
    "    BatchNormalization(),\n",
    "    Dense(256, activation = 'relu'),\n",
    "    BatchNormalization(),\n",
    "    Dense(NUM_CLASSES, activation = 'softmax')\n",
    "])\n",
    "\n",
    "model2.compile(\n",
    "    loss = 'categorical_crossentropy',\n",
    "    optimizer = 'adam',\n",
    "    metrics = ['accuracy']\n",
    ")"
   ]
  },
  {
   "cell_type": "code",
   "execution_count": 38,
   "metadata": {},
   "outputs": [
    {
     "name": "stdout",
     "output_type": "stream",
     "text": [
      "Training on GPU:\n",
      " ~| Epoch: 1 | Validation Loss: 0.66638 >|> \n",
      " ~| Epoch: 2 | Validation Loss: 0.72617 >|> \n",
      " ~| Epoch: 3 | Validation Loss: 0.44306 >|> \n",
      " ~| Epoch: 4 | Validation Loss: 0.56813 >|> \n",
      " ~| Epoch: 5 | Validation Loss: 0.42626 >|> \n",
      " ~| Epoch: 6 | Validation Loss: 0.52981 >|> \n",
      " ~| Epoch: 7 | Validation Loss: 0.62305 >|> \n",
      " ~| Epoch: 8 | Validation Loss: 0.55789 >|> \n",
      " ~| Epoch: 9 | Validation Loss: 0.90662 >|> \n",
      "\n",
      "Epoch 00009: ReduceLROnPlateau reducing learning rate to 0.0004000000189989805.\n",
      " ~| Epoch: 10 | Validation Loss: 0.51133 >|> \n",
      " ~| Epoch: 11 | Validation Loss: 0.78763 >|> \n",
      " ~| Epoch: 12 | Validation Loss: 0.77035 >|> \n",
      "\n",
      "Training Done.\n"
     ]
    }
   ],
   "source": [
    "EPOCHS = 200\n",
    "try:\n",
    "    print(\"Training on GPU:\")\n",
    "    with tensorflow.device(\"gpu:0\"):  # train on gpu\n",
    "        h2 = model2.fit(\n",
    "            X_train_padded, y_train,\n",
    "            validation_split = 0.2,  # do not use the test data for validation to prevent data leakage, we only use to test at the model in the end\n",
    "            epochs = EPOCHS,\n",
    "            callbacks = [simple_log, early_stop, lr_reduce_on_plateau],\n",
    "            verbose = False)\n",
    "except Exception as e:\n",
    "    print(e)\n",
    "    print(\"Training on CPU:\")\n",
    "    h2 = model2.fit(\n",
    "            X_train_padded, y_train,\n",
    "            validation_split = 0.2,  # do not use the test data for validation to prevent data leakage, we only use to test at the model in the end\n",
    "            epochs = EPOCHS,\n",
    "            callbacks = [simple_log, early_stop, lr_reduce_on_plateau],\n",
    "            verbose = False)\n",
    "\n",
    "print(\"\\nTraining Done.\")"
   ]
  },
  {
   "cell_type": "code",
   "execution_count": 39,
   "metadata": {},
   "outputs": [
    {
     "data": {
      "image/png": "[encoded data removed]",
      "text/plain": [
       "<Figure size 360x360 with 1 Axes>"
      ]
     },
     "metadata": {},
     "output_type": "display_data"
    }
   ],
   "source": [
    "plot_learning_curve(h2)"
   ]
  },
  {
   "cell_type": "code",
   "execution_count": 40,
   "metadata": {},
   "outputs": [
    {
     "name": "stdout",
     "output_type": "stream",
     "text": [
      "53/53 [==============================] - 0s 9ms/step - loss: 0.4056 - accuracy: 0.8376\n",
      "Testing Loss:  40.56009352207184\n",
      "Testing Accuracy:  83.75815153121948\n"
     ]
    }
   ],
   "source": [
    "loss, acc = model2.evaluate(X_test_padded, y_test)\n",
    "print(\"Testing Loss: \", loss*100)\n",
    "print(\"Testing Accuracy: \", acc*100)"
   ]
  },
  {
   "cell_type": "markdown",
   "metadata": {},
   "source": [
    "<h4><ul>\n",
    "    <li><strong><span style=\"font-family: 'Trebuchet MS', Helvetica, sans-serif;\">Simple Feed-Forward Neural Net + Dropout</span></strong></li>\n",
    "</ul></h4>"
   ]
  },
  {
   "cell_type": "code",
   "execution_count": 41,
   "metadata": {},
   "outputs": [],
   "source": [
    "# define model\n",
    "\n",
    "model3 = Sequential([ \n",
    "    Embedding(input_dim=VOCAB_SIZE, output_dim=EMBEDDING_DIM, input_length=MAX_LEN),\n",
    "    Flatten(),\n",
    "    Dense(20, activation = 'relu'),\n",
    "    Dropout(0.4),\n",
    "    Dense(NUM_CLASSES, activation = 'softmax')\n",
    "])\n",
    "\n",
    "model3.compile(\n",
    "    loss = 'categorical_crossentropy',\n",
    "    optimizer = 'adam',\n",
    "    metrics = ['accuracy']\n",
    ")"
   ]
  },
  {
   "cell_type": "code",
   "execution_count": 42,
   "metadata": {},
   "outputs": [
    {
     "name": "stdout",
     "output_type": "stream",
     "text": [
      "Training on GPU:\n",
      " ~| Epoch: 1 | Validation Loss: 0.38415 >|> \n",
      " ~| Epoch: 2 | Validation Loss: 0.33411 >|> \n",
      " ~| Epoch: 3 | Validation Loss: 0.38989 >|> \n",
      " ~| Epoch: 4 | Validation Loss: 0.49732 >|> \n",
      " ~| Epoch: 5 | Validation Loss: 0.52464 >|> \n",
      " ~| Epoch: 6 | Validation Loss: 0.54575 >|> \n",
      "\n",
      "Epoch 00006: ReduceLROnPlateau reducing learning rate to 0.0004000000189989805.\n",
      " ~| Epoch: 7 | Validation Loss: 0.64775 >|> \n",
      " ~| Epoch: 8 | Validation Loss: 0.67945 >|> \n",
      " ~| Epoch: 9 | Validation Loss: 0.69136 >|> \n",
      "\n",
      "Training Done.\n"
     ]
    }
   ],
   "source": [
    "EPOCHS = 200\n",
    "try:\n",
    "    print(\"Training on GPU:\")\n",
    "    with tensorflow.device(\"gpu:0\"):  # train on gpu\n",
    "        h3 = model3.fit(\n",
    "            X_train_padded, y_train,\n",
    "            validation_split = 0.2,  # do not use the test data for validation to prevent data leakage, we only use to test at the model in the end\n",
    "            epochs = EPOCHS,\n",
    "            callbacks = [simple_log, early_stop, lr_reduce_on_plateau],\n",
    "            verbose = False)\n",
    "except Exception as e:\n",
    "    print(e)\n",
    "    print(\"Training on CPU:\")\n",
    "    h3 = model3.fit(\n",
    "            X_train_padded, y_train,\n",
    "            validation_split = 0.2,  # do not use the test data for validation to prevent data leakage, we only use to test at the model in the end\n",
    "            epochs = EPOCHS,\n",
    "            callbacks = [simple_log, early_stop, lr_reduce_on_plateau],\n",
    "            verbose = False)\n",
    "\n",
    "print(\"\\nTraining Done.\")"
   ]
  },
  {
   "cell_type": "code",
   "execution_count": 43,
   "metadata": {},
   "outputs": [
    {
     "data": {
      "image/png": "[encoded data removed]",
      "text/plain": [
       "<Figure size 360x360 with 1 Axes>"
      ]
     },
     "metadata": {},
     "output_type": "display_data"
    }
   ],
   "source": [
    "plot_learning_curve(h3)"
   ]
  },
  {
   "cell_type": "code",
   "execution_count": 44,
   "metadata": {},
   "outputs": [
    {
     "name": "stdout",
     "output_type": "stream",
     "text": [
      "53/53 [==============================] - 0s 4ms/step - loss: 0.3274 - accuracy: 0.8583\n",
      "Testing Accuracy:  85.83284020423889\n"
     ]
    }
   ],
   "source": [
    "loss, acc = model3.evaluate(X_test_padded, y_test)\n",
    "print(\"Testing Accuracy: \", acc*100)"
   ]
  },
  {
   "cell_type": "markdown",
   "metadata": {},
   "source": [
    "<h4><ul>\n",
    "    <li><strong><span style=\"font-family: 'Trebuchet MS', Helvetica, sans-serif;\">Use pre-trained embeddings</span></strong></li>\n",
    "</ul></h4>"
   ]
  },
  {
   "cell_type": "code",
   "execution_count": 45,
   "metadata": {},
   "outputs": [],
   "source": [
    "# define model\n",
    "\n",
    "model3 = Sequential([ \n",
    "    Embedding(input_dim=NUM_WORDS, output_dim=EMBEDDING_DIM, input_length=MAX_LEN, weights=[embedding_matrix], trainable=True),\n",
    "    Flatten(),\n",
    "    Dense(30, activation = 'relu'),\n",
    "    Dropout(0.5),\n",
    "    Dense(NUM_CLASSES, activation = 'softmax')\n",
    "])\n",
    "\n",
    "model3.compile(\n",
    "    loss = 'categorical_crossentropy',\n",
    "    optimizer = 'rmsprop',\n",
    "    metrics = ['accuracy']\n",
    ")"
   ]
  },
  {
   "cell_type": "code",
   "execution_count": 46,
   "metadata": {},
   "outputs": [
    {
     "name": "stdout",
     "output_type": "stream",
     "text": [
      "Training on GPU:\n",
      " ~| Epoch: 1 | Validation Loss: 0.38540 >|> \n",
      " ~| Epoch: 2 | Validation Loss: 0.41342 >|> \n",
      " ~| Epoch: 3 | Validation Loss: 0.39803 >|> \n",
      " ~| Epoch: 4 | Validation Loss: 0.45770 >|> \n",
      " ~| Epoch: 5 | Validation Loss: 0.50492 >|> \n",
      "\n",
      "Epoch 00005: ReduceLROnPlateau reducing learning rate to 0.0004000000189989805.\n",
      " ~| Epoch: 6 | Validation Loss: 0.56770 >|> \n",
      " ~| Epoch: 7 | Validation Loss: 0.61330 >|> \n",
      " ~| Epoch: 8 | Validation Loss: 0.69508 >|> \n",
      "\n",
      "Training Done.\n"
     ]
    }
   ],
   "source": [
    "EPOCHS = 200\n",
    "try:\n",
    "    print(\"Training on GPU:\")\n",
    "    with tensorflow.device(\"gpu:0\"):  # train on gpu\n",
    "        h3 = model3.fit(\n",
    "            X_train_padded, y_train,\n",
    "            validation_split = 0.2,  # do not use the test data for validation to prevent data leakage, we only use to test at the model in the end\n",
    "            epochs = EPOCHS,\n",
    "            callbacks = [simple_log, early_stop, lr_reduce_on_plateau],\n",
    "            verbose = False)\n",
    "except Exception as e:\n",
    "    print(e)\n",
    "    print(\"Training on CPU:\")\n",
    "    h3 = model3.fit(\n",
    "            X_train_padded, y_train,\n",
    "            validation_split = 0.2,  # do not use the test data for validation to prevent data leakage, we only use to test at the model in the end\n",
    "            epochs = EPOCHS,\n",
    "            callbacks = [simple_log, early_stop, lr_reduce_on_plateau],\n",
    "            verbose = False)\n",
    "\n",
    "print(\"\\nTraining Done.\")"
   ]
  },
  {
   "cell_type": "code",
   "execution_count": 47,
   "metadata": {},
   "outputs": [
    {
     "data": {
      "image/png": "[encoded data removed]",
      "text/plain": [
       "<Figure size 360x360 with 1 Axes>"
      ]
     },
     "metadata": {},
     "output_type": "display_data"
    }
   ],
   "source": [
    "plot_learning_curve(h3)"
   ]
  },
  {
   "cell_type": "code",
   "execution_count": 48,
   "metadata": {},
   "outputs": [
    {
     "name": "stdout",
     "output_type": "stream",
     "text": [
      "53/53 [==============================] - 0s 6ms/step - loss: 0.3927 - accuracy: 0.8275\n",
      "Testing Accuracy:  82.75044560432434\n"
     ]
    }
   ],
   "source": [
    "loss, acc = model3.evaluate(X_test_padded, y_test)\n",
    "print(\"Testing Accuracy: \", acc*100)"
   ]
  },
  {
   "cell_type": "markdown",
   "metadata": {},
   "source": [
    "<h4><ul>\n",
    "    <li><strong><span style=\"font-family: 'Trebuchet MS', Helvetica, sans-serif;\">LSTM</span></strong></li>\n",
    "</ul></h4>"
   ]
  },
  {
   "cell_type": "code",
   "execution_count": 49,
   "metadata": {},
   "outputs": [],
   "source": [
    "# define model\n",
    "\n",
    "model4 = Sequential([ \n",
    "    Embedding(input_dim=VOCAB_SIZE, output_dim=EMBEDDING_DIM, input_length=MAX_LEN),\n",
    "    LSTM(32),\n",
    "    Dropout(0.4),\n",
    "    Dense(NUM_CLASSES, activation = 'softmax')\n",
    "])\n",
    "\n",
    "model4.compile(\n",
    "    loss = 'categorical_crossentropy',\n",
    "    optimizer = 'adam',\n",
    "    metrics = ['accuracy']\n",
    ")"
   ]
  },
  {
   "cell_type": "code",
   "execution_count": 50,
   "metadata": {},
   "outputs": [
    {
     "name": "stdout",
     "output_type": "stream",
     "text": [
      "Training on GPU:\n",
      " ~| Epoch: 1 | Validation Loss: 0.68090 >|> \n",
      " ~| Epoch: 2 | Validation Loss: 0.67834 >|> \n",
      " ~| Epoch: 3 | Validation Loss: 0.65052 >|> \n",
      " ~| Epoch: 4 | Validation Loss: 0.67962 >|> \n",
      " ~| Epoch: 5 | Validation Loss: 0.68195 >|> \n",
      " ~| Epoch: 6 | Validation Loss: 0.66145 >|> \n",
      " ~| Epoch: 7 | Validation Loss: 0.67785 >|> \n",
      "\n",
      "Epoch 00007: ReduceLROnPlateau reducing learning rate to 0.0004000000189989805.\n",
      " ~| Epoch: 8 | Validation Loss: 0.55761 >|> \n",
      " ~| Epoch: 9 | Validation Loss: 0.56050 >|> \n",
      " ~| Epoch: 10 | Validation Loss: 0.58099 >|> \n",
      " ~| Epoch: 11 | Validation Loss: 0.61384 >|> \n",
      " ~| Epoch: 12 | Validation Loss: 0.53396 >|> \n",
      " ~| Epoch: 13 | Validation Loss: 0.53542 >|> \n",
      " ~| Epoch: 14 | Validation Loss: 0.52415 >|> \n",
      " ~| Epoch: 15 | Validation Loss: 0.53307 >|> \n",
      " ~| Epoch: 16 | Validation Loss: 0.52474 >|> \n",
      " ~| Epoch: 17 | Validation Loss: 0.53513 >|> \n",
      " ~| Epoch: 18 | Validation Loss: 0.57956 >|> \n",
      "\n",
      "Epoch 00018: ReduceLROnPlateau reducing learning rate to 0.00016000000759959222.\n",
      " ~| Epoch: 19 | Validation Loss: 0.56794 >|> \n",
      " ~| Epoch: 20 | Validation Loss: 0.56498 >|> \n",
      " ~| Epoch: 21 | Validation Loss: 0.56665 >|> \n",
      " ~| Epoch: 22 | Validation Loss: 0.56587 >|> \n",
      "\n",
      "Epoch 00022: ReduceLROnPlateau reducing learning rate to 6.40000042039901e-05.\n",
      " ~| Epoch: 23 | Validation Loss: 0.56599 >|> \n",
      " ~| Epoch: 24 | Validation Loss: 0.56605 >|> \n",
      " ~| Epoch: 25 | Validation Loss: 0.56618 >|> \n",
      " ~| Epoch: 26 | Validation Loss: 0.56635 >|> \n",
      "\n",
      "Epoch 00026: ReduceLROnPlateau reducing learning rate to 2.560000284574926e-05.\n",
      " ~| Epoch: 27 | Validation Loss: 0.56373 >|> \n",
      " ~| Epoch: 28 | Validation Loss: 0.56247 >|> \n",
      " ~| Epoch: 29 | Validation Loss: 0.56257 >|> \n",
      " ~| Epoch: 30 | Validation Loss: 0.56266 >|> \n",
      "\n",
      "Epoch 00030: ReduceLROnPlateau reducing learning rate to 1.0240000847261399e-05.\n",
      " ~| Epoch: 31 | Validation Loss: 0.56270 >|> \n",
      " ~| Epoch: 32 | Validation Loss: 0.56276 >|> \n",
      " ~| Epoch: 33 | Validation Loss: 0.56280 >|> \n",
      " ~| Epoch: 34 | Validation Loss: 0.56219 >|> \n",
      "\n",
      "Epoch 00034: ReduceLROnPlateau reducing learning rate to 1e-05.\n",
      " ~| Epoch: 35 | Validation Loss: 0.56223 >|> \n",
      " ~| Epoch: 36 | Validation Loss: 0.56229 >|> \n",
      " ~| Epoch: 37 | Validation Loss: 0.56236 >|> \n",
      " ~| Epoch: 38 | Validation Loss: 0.56242 >|> \n",
      " ~| Epoch: 39 | Validation Loss: 0.56248 >|> \n",
      " ~| Epoch: 40 | Validation Loss: 0.56256 >|> \n",
      " ~| Epoch: 41 | Validation Loss: 0.56263 >|> \n",
      " ~| Epoch: 42 | Validation Loss: 0.56272 >|> \n",
      " ~| Epoch: 43 | Validation Loss: 0.56281 >|> \n",
      " ~| Epoch: 44 | Validation Loss: 0.56288 >|> \n",
      " ~| Epoch: 45 | Validation Loss: 0.56298 >|> \n",
      " ~| Epoch: 46 | Validation Loss: 0.56307 >|> \n",
      " ~| Epoch: 47 | Validation Loss: 0.56317 >|> \n",
      " ~| Epoch: 48 | Validation Loss: 0.56327 >|> \n",
      " ~| Epoch: 49 | Validation Loss: 0.56340 >|> \n",
      " ~| Epoch: 50 | Validation Loss: 0.56350 >|> \n",
      "\n",
      "Training Done.\n"
     ]
    }
   ],
   "source": [
    "EPOCHS = 50\n",
    "try:\n",
    "    print(\"Training on GPU:\")\n",
    "    with tensorflow.device(\"gpu:0\"):  # train on gpu\n",
    "        h4 = model4.fit(\n",
    "            X_train_padded, y_train,\n",
    "            validation_split = 0.2,  # do not use the test data for validation to prevent data leakage, we only use to test at the model in the end\n",
    "            epochs = EPOCHS,\n",
    "            callbacks = [simple_log, lr_reduce_on_plateau],\n",
    "            verbose = False)\n",
    "except Exception as e:\n",
    "    print(e)\n",
    "    print(\"Training on CPU:\")\n",
    "    h4 = model4.fit(\n",
    "            X_train_padded, y_train,\n",
    "            validation_split = 0.2,  # do not use the test data for validation to prevent data leakage, we only use to test at the model in the end\n",
    "            epochs = EPOCHS,\n",
    "            callbacks = [simple_log, lr_reduce_on_plateau],\n",
    "            verbose = False)\n",
    "\n",
    "print(\"\\nTraining Done.\")"
   ]
  },
  {
   "cell_type": "code",
   "execution_count": 51,
   "metadata": {},
   "outputs": [
    {
     "data": {
      "image/png": "[encoded data removed]",
      "text/plain": [
       "<Figure size 360x360 with 1 Axes>"
      ]
     },
     "metadata": {},
     "output_type": "display_data"
    }
   ],
   "source": [
    "plot_learning_curve(h4)"
   ]
  },
  {
   "cell_type": "code",
   "execution_count": 52,
   "metadata": {},
   "outputs": [
    {
     "name": "stdout",
     "output_type": "stream",
     "text": [
      "53/53 [==============================] - 1s 10ms/step - loss: 0.5702 - accuracy: 0.6544\n",
      "Testing Accuracy:  65.44161438941956\n"
     ]
    }
   ],
   "source": [
    "loss, acc = model4.evaluate(X_test_padded, y_test)\n",
    "print(\"Testing Accuracy: \", acc*100)"
   ]
  },
  {
   "cell_type": "markdown",
   "metadata": {},
   "source": [
    "<h4><ul>\n",
    "    <li><strong><span style=\"font-family: 'Trebuchet MS', Helvetica, sans-serif;\">Bi-Directional LSTM</span></strong></li>\n",
    "</ul></h4>"
   ]
  },
  {
   "cell_type": "code",
   "execution_count": 55,
   "metadata": {},
   "outputs": [],
   "source": [
    "# define model\n",
    "\n",
    "model4 = Sequential([ \n",
    "    Embedding(input_dim=VOCAB_SIZE, output_dim=EMBEDDING_DIM, input_length=MAX_LEN),\n",
    "    Bidirectional(LSTM(32)),\n",
    "    Dropout(0.4),\n",
    "    Dense(NUM_CLASSES, activation = 'softmax')\n",
    "])\n",
    "\n",
    "model4.compile(\n",
    "    loss = 'categorical_crossentropy',\n",
    "    optimizer = 'rmsprop',\n",
    "    metrics = ['accuracy']\n",
    ")"
   ]
  },
  {
   "cell_type": "code",
   "execution_count": 56,
   "metadata": {},
   "outputs": [
    {
     "name": "stdout",
     "output_type": "stream",
     "text": [
      "Training on GPU:\n",
      " ~| Epoch: 1 | Validation Loss: 0.34246 >|> \n",
      " ~| Epoch: 2 | Validation Loss: 0.34657 >|> \n",
      " ~| Epoch: 3 | Validation Loss: 0.35232 >|> \n",
      " ~| Epoch: 4 | Validation Loss: 0.37244 >|> \n",
      " ~| Epoch: 5 | Validation Loss: 0.41386 >|> \n",
      "\n",
      "Epoch 00005: ReduceLROnPlateau reducing learning rate to 0.0004000000189989805.\n",
      " ~| Epoch: 6 | Validation Loss: 0.46064 >|> \n",
      " ~| Epoch: 7 | Validation Loss: 0.49689 >|> \n",
      " ~| Epoch: 8 | Validation Loss: 0.52922 >|> \n",
      "\n",
      "Training Done.\n"
     ]
    }
   ],
   "source": [
    "EPOCHS = 50\n",
    "try:\n",
    "    print(\"Training on GPU:\")\n",
    "    with tensorflow.device(\"gpu:0\"):  # train on gpu\n",
    "        h4 = model4.fit(\n",
    "            X_train_padded, y_train,\n",
    "            validation_split = 0.2,  # do not use the test data for validation to prevent data leakage, we only use to test at the model in the end\n",
    "            epochs = EPOCHS,\n",
    "            callbacks = [simple_log, early_stop, lr_reduce_on_plateau],\n",
    "            verbose = False)\n",
    "except Exception as e:\n",
    "    print(e)\n",
    "    print(\"Training on CPU:\")\n",
    "    h4 = model4.fit(\n",
    "            X_train_padded, y_train,\n",
    "            validation_split = 0.2,  # do not use the test data for validation to prevent data leakage, we only use to test at the model in the end\n",
    "            epochs = EPOCHS,\n",
    "            callbacks = [simple_log, early_stop, lr_reduce_on_plateau],\n",
    "            verbose = False)\n",
    "\n",
    "print(\"\\nTraining Done.\")"
   ]
  },
  {
   "cell_type": "code",
   "execution_count": 57,
   "metadata": {},
   "outputs": [
    {
     "data": {
      "image/png": "[encoded data removed]",
      "text/plain": [
       "<Figure size 360x360 with 1 Axes>"
      ]
     },
     "metadata": {},
     "output_type": "display_data"
    }
   ],
   "source": [
    "plot_learning_curve(h4)"
   ]
  },
  {
   "cell_type": "code",
   "execution_count": 58,
   "metadata": {},
   "outputs": [
    {
     "name": "stdout",
     "output_type": "stream",
     "text": [
      "53/53 [==============================] - 1s 12ms/step - loss: 0.3354 - accuracy: 0.8524\n",
      "Testing Accuracy:  85.24007201194763\n"
     ]
    }
   ],
   "source": [
    "loss, acc = model4.evaluate(X_test_padded, y_test)\n",
    "print(\"Testing Accuracy: \", acc*100)"
   ]
  },
  {
   "cell_type": "markdown",
   "metadata": {},
   "source": [
    "<h4><ul>\n",
    "    <li><strong><span style=\"font-family: 'Trebuchet MS', Helvetica, sans-serif;\">CNN (Dimensionality Reduction) + LSTM</span></strong></li>\n",
    "</ul></h4>"
   ]
  },
  {
   "cell_type": "code",
   "execution_count": 59,
   "metadata": {},
   "outputs": [],
   "source": [
    "model5 = Sequential([\n",
    "    Embedding(input_dim=VOCAB_SIZE, output_dim=256, input_length=MAX_LEN),\n",
    "    Dropout(0.25),\n",
    "    Conv1D(256, 5, padding = 'same', activation = 'relu', strides = 1),\n",
    "    Conv1D(256, 5, padding = 'same', activation = 'relu', strides = 1),\n",
    "    MaxPooling1D(pool_size = 2),\n",
    "    Conv1D(64, 5, padding = 'same', activation = 'relu', strides = 1),\n",
    "    MaxPooling1D(pool_size = 2),\n",
    "    LSTM(75),\n",
    "    Dense(NUM_CLASSES, activation = 'softmax')\n",
    "])\n",
    "\n",
    "model5.compile(\n",
    "    loss = 'categorical_crossentropy',\n",
    "    optimizer = 'adam',\n",
    "    metrics = ['accuracy']\n",
    ")"
   ]
  },
  {
   "cell_type": "code",
   "execution_count": 60,
   "metadata": {},
   "outputs": [
    {
     "name": "stdout",
     "output_type": "stream",
     "text": [
      "Training on GPU:\n",
      " ~| Epoch: 1 | Validation Loss: 0.42078 >|> \n",
      " ~| Epoch: 2 | Validation Loss: 0.41046 >|> \n",
      " ~| Epoch: 3 | Validation Loss: 0.57248 >|> \n",
      " ~| Epoch: 4 | Validation Loss: 0.47355 >|> \n",
      " ~| Epoch: 5 | Validation Loss: 0.73653 >|> \n",
      " ~| Epoch: 6 | Validation Loss: 0.52240 >|> \n",
      "\n",
      "Epoch 00006: ReduceLROnPlateau reducing learning rate to 0.0004000000189989805.\n",
      " ~| Epoch: 7 | Validation Loss: 0.73506 >|> \n",
      " ~| Epoch: 8 | Validation Loss: 0.78235 >|> \n",
      " ~| Epoch: 9 | Validation Loss: 0.80333 >|> \n",
      "\n",
      "Training Done.\n"
     ]
    }
   ],
   "source": [
    "EPOCHS = 20\n",
    "try:\n",
    "    print(\"Training on GPU:\")\n",
    "    with tensorflow.device(\"gpu:0\"):  # train on gpu\n",
    "        h5 = model5.fit(\n",
    "            X_train_padded, y_train,\n",
    "            validation_split = 0.2,  # do not use the test data for validation to prevent data leakage, we only use to test at the model in the end\n",
    "            epochs = EPOCHS,\n",
    "            callbacks = [simple_log, early_stop, lr_reduce_on_plateau],\n",
    "            verbose = False)\n",
    "except Exception as e:\n",
    "    print(e)\n",
    "    print(\"Training on CPU:\")\n",
    "    h5 = model5.fit(\n",
    "            X_train_padded, y_train,\n",
    "            validation_split = 0.2,  # do not use the test data for validation to prevent data leakage, we only use to test at the model in the end\n",
    "            epochs = EPOCHS,\n",
    "            callbacks = [simple_log, early_stop, lr_reduce_on_plateau],\n",
    "            verbose = False)\n",
    "\n",
    "print(\"\\nTraining Done.\")"
   ]
  },
  {
   "cell_type": "code",
   "execution_count": 61,
   "metadata": {},
   "outputs": [
    {
     "data": {
      "image/png": "[encoded data removed]",
      "text/plain": [
       "<Figure size 360x360 with 1 Axes>"
      ]
     },
     "metadata": {},
     "output_type": "display_data"
    }
   ],
   "source": [
    "plot_learning_curve(h5)"
   ]
  },
  {
   "cell_type": "code",
   "execution_count": 62,
   "metadata": {},
   "outputs": [
    {
     "name": "stdout",
     "output_type": "stream",
     "text": [
      "53/53 [==============================] - 1s 12ms/step - loss: 0.3900 - accuracy: 0.8447\n",
      "Testing Accuracy:  84.469473361969\n"
     ]
    }
   ],
   "source": [
    "loss, acc = model5.evaluate(X_test_padded, y_test)\n",
    "print(\"Testing Accuracy: \", acc*100)"
   ]
  },
  {
   "cell_type": "markdown",
   "metadata": {},
   "source": [
    "<h4><ul>\n",
    "    <li><strong><span style=\"font-family: 'Trebuchet MS', Helvetica, sans-serif;\">CNN (Dimensionality Reduction) + Bi-Directional LSTM</span></strong></li>\n",
    "</ul></h4>"
   ]
  },
  {
   "cell_type": "code",
   "execution_count": 63,
   "metadata": {},
   "outputs": [
    {
     "name": "stdout",
     "output_type": "stream",
     "text": [
      "WARNING:tensorflow:Layer lstm_3 will not use cuDNN kernel since it doesn't meet the cuDNN kernel criteria. It will use generic GPU kernel as fallback when running on GPU\n",
      "WARNING:tensorflow:Layer lstm_3 will not use cuDNN kernel since it doesn't meet the cuDNN kernel criteria. It will use generic GPU kernel as fallback when running on GPU\n",
      "WARNING:tensorflow:Layer lstm_3 will not use cuDNN kernel since it doesn't meet the cuDNN kernel criteria. It will use generic GPU kernel as fallback when running on GPU\n"
     ]
    }
   ],
   "source": [
    "model5 = Sequential([\n",
    "    Embedding(input_dim=VOCAB_SIZE, output_dim=256, input_length=MAX_LEN),\n",
    "    Dropout(0.25),\n",
    "    Conv1D(256, 5, padding = 'same', activation = 'relu', strides = 1),\n",
    "    Conv1D(256, 5, padding = 'same', activation = 'relu', strides = 1),\n",
    "    MaxPooling1D(pool_size = 2),\n",
    "    Conv1D(64, 5, padding = 'same', activation = 'relu', strides = 1),\n",
    "    MaxPooling1D(pool_size = 2),\n",
    "    Bidirectional(LSTM(75, recurrent_dropout=0.5)),\n",
    "    Dense(NUM_CLASSES, activation = 'softmax')\n",
    "])\n",
    "\n",
    "model5.compile(\n",
    "    loss = 'categorical_crossentropy',\n",
    "    optimizer = 'adam',\n",
    "    metrics = ['accuracy']\n",
    ")"
   ]
  },
  {
   "cell_type": "code",
   "execution_count": 64,
   "metadata": {},
   "outputs": [
    {
     "name": "stdout",
     "output_type": "stream",
     "text": [
      "Training on GPU:\n",
      " ~| Epoch: 1 | Validation Loss: 0.34703 >|> \n",
      " ~| Epoch: 2 | Validation Loss: 0.34499 >|> \n",
      " ~| Epoch: 3 | Validation Loss: 0.49440 >|> \n",
      " ~| Epoch: 4 | Validation Loss: 0.50982 >|> \n",
      " ~| Epoch: 5 | Validation Loss: 0.63177 >|> \n",
      " ~| Epoch: 6 | Validation Loss: 0.65818 >|> \n",
      "\n",
      "Epoch 00006: ReduceLROnPlateau reducing learning rate to 0.0004000000189989805.\n",
      " ~| Epoch: 7 | Validation Loss: 0.77149 >|> \n",
      " ~| Epoch: 8 | Validation Loss: 0.77925 >|> \n",
      " ~| Epoch: 9 | Validation Loss: 0.82289 >|> \n",
      "\n",
      "Training Done.\n"
     ]
    }
   ],
   "source": [
    "EPOCHS = 20\n",
    "try:\n",
    "    print(\"Training on GPU:\")\n",
    "    with tensorflow.device(\"gpu:0\"):  # train on gpu\n",
    "        h5 = model5.fit(\n",
    "            X_train_padded, y_train,\n",
    "            validation_split = 0.2,  # do not use the test data for validation to prevent data leakage, we only use to test at the model in the end\n",
    "            epochs = EPOCHS,\n",
    "            callbacks = [simple_log, early_stop, lr_reduce_on_plateau],\n",
    "            verbose = False)\n",
    "except Exception as e:\n",
    "    print(e)\n",
    "    print(\"Training on CPU:\")\n",
    "    h5 = model5.fit(\n",
    "            X_train_padded, y_train,\n",
    "            validation_split = 0.2,  # do not use the test data for validation to prevent data leakage, we only use to test at the model in the end\n",
    "            epochs = EPOCHS,\n",
    "            callbacks = [simple_log, early_stop, lr_reduce_on_plateau],\n",
    "            verbose = False)\n",
    "\n",
    "print(\"\\nTraining Done.\")"
   ]
  },
  {
   "cell_type": "code",
   "execution_count": 65,
   "metadata": {},
   "outputs": [
    {
     "data": {
      "image/png": "[encoded data removed]",
      "text/plain": [
       "<Figure size 360x360 with 1 Axes>"
      ]
     },
     "metadata": {},
     "output_type": "display_data"
    }
   ],
   "source": [
    "plot_learning_curve(h5)"
   ]
  },
  {
   "cell_type": "code",
   "execution_count": 66,
   "metadata": {},
   "outputs": [
    {
     "name": "stdout",
     "output_type": "stream",
     "text": [
      "53/53 [==============================] - 4s 77ms/step - loss: 0.3487 - accuracy: 0.8500\n",
      "Testing Accuracy:  85.00296473503113\n"
     ]
    }
   ],
   "source": [
    "loss, acc = model5.evaluate(X_test_padded, y_test)\n",
    "print(\"Testing Accuracy: \", acc*100)"
   ]
  },
  {
   "cell_type": "markdown",
   "metadata": {},
   "source": [
    "<h4><ul>\n",
    "    <li><strong><span style=\"font-family: 'Trebuchet MS', Helvetica, sans-serif;\">Use TfIdf vectors instead of Embedding Layer + Feature Selection</span></strong></li>\n",
    "</ul></h4>"
   ]
  },
  {
   "cell_type": "code",
   "execution_count": 67,
   "metadata": {},
   "outputs": [
    {
     "name": "stdout",
     "output_type": "stream",
     "text": [
      "Train dataset shape: (6745,), \n",
      "Test dataset shape: (1687,)\n"
     ]
    }
   ],
   "source": [
    "from sklearn.feature_extraction.text import TfidfVectorizer\n",
    "from sklearn.model_selection import train_test_split\n",
    "\n",
    "# using 75-25 split instead of 50-50 split as we need more data to train neural nets\n",
    "X_train_vec, X_test_vec, y_train_vec, y_test_vec = train_test_split(X, y, test_size=0.2, random_state=seed)\n",
    "print(f\"Train dataset shape: {X_train_vec.shape}, \\nTest dataset shape: {X_test_vec.shape}\")"
   ]
  },
  {
   "cell_type": "code",
   "execution_count": 68,
   "metadata": {},
   "outputs": [
    {
     "name": "stdout",
     "output_type": "stream",
     "text": [
      "Train dataset shape: (6745, 17085), \n",
      "Test dataset shape: (1687, 17085)\n"
     ]
    }
   ],
   "source": [
    "NGRAM_RANGE = (1, 2)\n",
    "TOP_K = 10000\n",
    "TOKEN_MODE = 'word'\n",
    "MIN_DOC_FREQ = 2\n",
    "\n",
    "\n",
    "kwargs = {\n",
    "    'ngram_range' : NGRAM_RANGE,\n",
    "    'dtype' : 'int32',\n",
    "    'strip_accents' : 'unicode',\n",
    "    'decode_error' : 'replace',\n",
    "    'analyzer' : TOKEN_MODE,\n",
    "    'min_df' : MIN_DOC_FREQ\n",
    "}\n",
    "vectorizer = TfidfVectorizer(**kwargs)\n",
    "X_train_vec = vectorizer.fit_transform(X_train_vec)\n",
    "X_test_vec = vectorizer.transform(X_test_vec)\n",
    "print(f\"Train dataset shape: {X_train_vec.shape}, \\nTest dataset shape: {X_test_vec.shape}\")"
   ]
  },
  {
   "cell_type": "code",
   "execution_count": 69,
   "metadata": {},
   "outputs": [
    {
     "name": "stdout",
     "output_type": "stream",
     "text": [
      "Train dataset shape: (6745, 10000), \n",
      "Test dataset shape: (1687, 10000)\n"
     ]
    }
   ],
   "source": [
    "from sklearn.feature_selection import SelectKBest, f_classif\n",
    "\n",
    "# Select best k features, with feature importance measured by f_classif\n",
    "# Set k as 20000 or (if number of ngrams is less) number of ngrams   \n",
    "selector = SelectKBest(f_classif, k=min(TOP_K, X_train_vec.shape[1]))\n",
    "selector.fit(X_train_vec, y_train_vec)\n",
    "X_train_vec = selector.transform(X_train_vec).astype('float32')\n",
    "X_test_vec = selector.transform(X_test_vec).astype('float32')\n",
    "X_train_vec = X_train_vec.toarray()\n",
    "X_test_vec = X_test_vec.toarray()\n",
    "\n",
    "print(f\"Train dataset shape: {X_train_vec.shape}, \\nTest dataset shape: {X_test_vec.shape}\")"
   ]
  },
  {
   "cell_type": "code",
   "execution_count": 70,
   "metadata": {},
   "outputs": [],
   "source": [
    "model6 = Sequential([\n",
    "    Dense(20, activation='relu', input_shape=X_train_vec.shape[1:]),\n",
    "    Dropout(0.5),\n",
    "    Dense(20, activation='relu'),\n",
    "    Dropout(0.5),\n",
    "    Dense(1, activation='sigmoid')\n",
    "])\n",
    "\n",
    "model6.compile(\n",
    "    loss = 'binary_crossentropy',\n",
    "    optimizer = 'rmsprop',\n",
    "    metrics = ['accuracy']\n",
    ")"
   ]
  },
  {
   "cell_type": "code",
   "execution_count": 71,
   "metadata": {},
   "outputs": [
    {
     "name": "stdout",
     "output_type": "stream",
     "text": [
      "Training on GPU:\n",
      " ~| Epoch: 1 | Validation Loss: 0.55280 >|> \n",
      " ~| Epoch: 2 | Validation Loss: 0.38299 >|> \n",
      " ~| Epoch: 3 | Validation Loss: 0.32426 >|> \n",
      " ~| Epoch: 4 | Validation Loss: 0.30529 >|> \n",
      " ~| Epoch: 5 | Validation Loss: 0.30012 >|> \n",
      " ~| Epoch: 6 | Validation Loss: 0.29826 >|> \n",
      " ~| Epoch: 7 | Validation Loss: 0.29672 >|> \n",
      " ~| Epoch: 8 | Validation Loss: 0.29396 >|> \n",
      " ~| Epoch: 9 | Validation Loss: 0.29277 >|> \n",
      " ~| Epoch: 10 | Validation Loss: 0.29358 >|> \n",
      " ~| Epoch: 11 | Validation Loss: 0.29257 >|> \n",
      " ~| Epoch: 12 | Validation Loss: 0.29779 >|> \n",
      " ~| Epoch: 13 | Validation Loss: 0.29718 >|> \n",
      " ~| Epoch: 14 | Validation Loss: 0.30539 >|> \n",
      " ~| Epoch: 15 | Validation Loss: 0.29990 >|> \n",
      " ~| Epoch: 16 | Validation Loss: 0.30262 >|> \n",
      " ~| Epoch: 17 | Validation Loss: 0.30239 >|> \n",
      " ~| Epoch: 18 | Validation Loss: 0.30721 >|> \n",
      "\n",
      "Training Done.\n"
     ]
    }
   ],
   "source": [
    "EPOCHS = 20\n",
    "try:\n",
    "    print(\"Training on GPU:\")\n",
    "    with tensorflow.device(\"gpu:0\"):  # train on gpu\n",
    "        h6 = model6.fit(\n",
    "            X_train_vec, y_train_vec,\n",
    "            validation_split = 0.2,  # do not use the test data for validation to prevent data leakage, we only use to test at the model in the end\n",
    "            epochs = EPOCHS,\n",
    "            callbacks = [simple_log, early_stop],\n",
    "            verbose = False)\n",
    "except Exception:\n",
    "    print(\"Training on CPU:\")\n",
    "    h6 = model6.fit(\n",
    "            X_train_vec, y_train_vec,\n",
    "            validation_split = 0.2,  # do not use the test data for validation to prevent data leakage, we only use to test at the model in the end\n",
    "            epochs = EPOCHS,\n",
    "            callbacks = [simple_log, early_stop],\n",
    "            verbose = False)\n",
    "\n",
    "print(\"\\nTraining Done.\")"
   ]
  },
  {
   "cell_type": "code",
   "execution_count": 72,
   "metadata": {},
   "outputs": [
    {
     "data": {
      "image/png": "[encoded data removed]",
      "text/plain": [
       "<Figure size 360x360 with 1 Axes>"
      ]
     },
     "metadata": {},
     "output_type": "display_data"
    }
   ],
   "source": [
    "plot_learning_curve(h6)"
   ]
  },
  {
   "cell_type": "code",
   "execution_count": 73,
   "metadata": {},
   "outputs": [
    {
     "name": "stdout",
     "output_type": "stream",
     "text": [
      "53/53 [==============================] - 0s 3ms/step - loss: 0.3555 - accuracy: 0.8577\n",
      "Testing Accuracy:  85.77356338500977\n"
     ]
    }
   ],
   "source": [
    "loss, acc = model6.evaluate(X_test_vec, y_test_vec)\n",
    "print(\"Testing Accuracy: \", acc*100)"
   ]
  },
  {
   "cell_type": "markdown",
   "metadata": {},
   "source": [
    "<h4><ul>\n",
    "    <li><strong><span style=\"font-family: 'Trebuchet MS', Helvetica, sans-serif;\">Use TfIdf vectors instead of Embedding Layer + Feature Selection + Stratified KFold Training</span></strong></li>\n",
    "</ul></h4>"
   ]
  },
  {
   "cell_type": "code",
   "execution_count": 74,
   "metadata": {},
   "outputs": [
    {
     "name": "stdout",
     "output_type": "stream",
     "text": [
      "\n",
      "Train dataset shape: (7026, 17394), \n",
      "Test dataset shape: (1406, 17394)\n",
      "\n",
      "Features Train dataset shape: (7026, 10000), \n",
      "FeaturesTest dataset shape: (1406, 10000)\n",
      "\n",
      "Epoch 00001: val_accuracy improved from -inf to 0.85064, saving model to models\\binary_classfiier\\dl\\merged_descr\\model_1.h5\n",
      "\n",
      "Epoch 00002: val_accuracy improved from 0.85064 to 0.85989, saving model to models\\binary_classfiier\\dl\\merged_descr\\model_1.h5\n",
      "\n",
      "Epoch 00003: val_accuracy did not improve from 0.85989\n",
      "\n",
      "Epoch 00004: val_accuracy improved from 0.85989 to 0.86060, saving model to models\\binary_classfiier\\dl\\merged_descr\\model_1.h5\n",
      "\n",
      "Epoch 00005: val_accuracy did not improve from 0.86060\n",
      "\n",
      "Epoch 00006: val_accuracy did not improve from 0.86060\n",
      "\n",
      "Epoch 00007: val_accuracy did not improve from 0.86060\n",
      "\n",
      "Epoch 00008: val_accuracy did not improve from 0.86060\n",
      "\n",
      "Epoch 00009: val_accuracy did not improve from 0.86060\n"
     ]
    },
    {
     "data": {
      "image/png": "[encoded data removed]",
      "text/plain": [
       "<Figure size 360x360 with 1 Axes>"
      ]
     },
     "metadata": {},
     "output_type": "display_data"
    },
    {
     "name": "stdout",
     "output_type": "stream",
     "text": [
      "44/44 [==============================] - 0s 7ms/step - loss: 0.3662 - accuracy: 0.8606\n",
      "Testing Accuracy:  86.05974316596985\n",
      "\n",
      "Train dataset shape: (7026, 16511), \n",
      "Test dataset shape: (1406, 16511)\n",
      "\n",
      "Features Train dataset shape: (7026, 10000), \n",
      "FeaturesTest dataset shape: (1406, 10000)\n",
      "\n",
      "Epoch 00001: val_accuracy improved from -inf to 0.84068, saving model to models\\binary_classfiier\\dl\\merged_descr\\model_2.h5\n",
      "\n",
      "Epoch 00002: val_accuracy improved from 0.84068 to 0.86060, saving model to models\\binary_classfiier\\dl\\merged_descr\\model_2.h5\n",
      "\n",
      "Epoch 00003: val_accuracy improved from 0.86060 to 0.86415, saving model to models\\binary_classfiier\\dl\\merged_descr\\model_2.h5\n",
      "\n",
      "Epoch 00004: val_accuracy did not improve from 0.86415\n",
      "\n",
      "Epoch 00005: val_accuracy did not improve from 0.86415\n",
      "\n",
      "Epoch 00006: val_accuracy did not improve from 0.86415\n",
      "\n",
      "Epoch 00007: val_accuracy did not improve from 0.86415\n",
      "\n",
      "Epoch 00008: val_accuracy did not improve from 0.86415\n",
      "\n",
      "Epoch 00009: val_accuracy did not improve from 0.86415\n",
      "\n",
      "Epoch 00010: val_accuracy did not improve from 0.86415\n"
     ]
    },
    {
     "data": {
      "image/png": "[encoded data removed]",
      "text/plain": [
       "<Figure size 360x360 with 1 Axes>"
      ]
     },
     "metadata": {},
     "output_type": "display_data"
    },
    {
     "name": "stdout",
     "output_type": "stream",
     "text": [
      "44/44 [==============================] - 0s 6ms/step - loss: 0.3239 - accuracy: 0.8642\n",
      "Testing Accuracy:  86.41536235809326\n",
      "\n",
      "Train dataset shape: (7027, 17654), \n",
      "Test dataset shape: (1405, 17654)\n",
      "\n",
      "Features Train dataset shape: (7027, 10000), \n",
      "FeaturesTest dataset shape: (1405, 10000)\n",
      "\n",
      "Epoch 00001: val_accuracy improved from -inf to 0.84413, saving model to models\\binary_classfiier\\dl\\merged_descr\\model_3.h5\n",
      "\n",
      "Epoch 00002: val_accuracy improved from 0.84413 to 0.85765, saving model to models\\binary_classfiier\\dl\\merged_descr\\model_3.h5\n",
      "\n",
      "Epoch 00003: val_accuracy did not improve from 0.85765\n",
      "\n",
      "Epoch 00004: val_accuracy did not improve from 0.85765\n",
      "\n",
      "Epoch 00005: val_accuracy did not improve from 0.85765\n",
      "\n",
      "Epoch 00006: val_accuracy did not improve from 0.85765\n",
      "\n",
      "Epoch 00007: val_accuracy did not improve from 0.85765\n",
      "\n",
      "Epoch 00008: val_accuracy did not improve from 0.85765\n",
      "\n",
      "Epoch 00009: val_accuracy did not improve from 0.85765\n"
     ]
    },
    {
     "data": {
      "image/png": "[encoded data removed]",
      "text/plain": [
       "<Figure size 360x360 with 1 Axes>"
      ]
     },
     "metadata": {},
     "output_type": "display_data"
    },
    {
     "name": "stdout",
     "output_type": "stream",
     "text": [
      "44/44 [==============================] - 0s 3ms/step - loss: 0.3175 - accuracy: 0.8577\n",
      "Testing Accuracy:  85.76512336730957\n",
      "\n",
      "Train dataset shape: (7027, 16823), \n",
      "Test dataset shape: (1405, 16823)\n",
      "\n",
      "Features Train dataset shape: (7027, 10000), \n",
      "FeaturesTest dataset shape: (1405, 10000)\n",
      "\n",
      "Epoch 00001: val_accuracy improved from -inf to 0.84342, saving model to models\\binary_classfiier\\dl\\merged_descr\\model_4.h5\n",
      "\n",
      "Epoch 00002: val_accuracy improved from 0.84342 to 0.84840, saving model to models\\binary_classfiier\\dl\\merged_descr\\model_4.h5\n",
      "\n",
      "Epoch 00003: val_accuracy improved from 0.84840 to 0.85480, saving model to models\\binary_classfiier\\dl\\merged_descr\\model_4.h5\n",
      "\n",
      "Epoch 00004: val_accuracy improved from 0.85480 to 0.85907, saving model to models\\binary_classfiier\\dl\\merged_descr\\model_4.h5\n",
      "\n",
      "Epoch 00005: val_accuracy improved from 0.85907 to 0.85979, saving model to models\\binary_classfiier\\dl\\merged_descr\\model_4.h5\n",
      "\n",
      "Epoch 00006: val_accuracy did not improve from 0.85979\n",
      "\n",
      "Epoch 00007: val_accuracy did not improve from 0.85979\n",
      "\n",
      "Epoch 00008: val_accuracy did not improve from 0.85979\n",
      "\n",
      "Epoch 00009: val_accuracy did not improve from 0.85979\n",
      "\n",
      "Epoch 00010: val_accuracy did not improve from 0.85979\n"
     ]
    },
    {
     "data": {
      "image/png": "[encoded data removed]",
      "text/plain": [
       "<Figure size 360x360 with 1 Axes>"
      ]
     },
     "metadata": {},
     "output_type": "display_data"
    },
    {
     "name": "stdout",
     "output_type": "stream",
     "text": [
      "44/44 [==============================] - 0s 3ms/step - loss: 0.3369 - accuracy: 0.8598\n",
      "Testing Accuracy:  85.97864508628845\n",
      "\n",
      "Train dataset shape: (7027, 17284), \n",
      "Test dataset shape: (1405, 17284)\n",
      "\n",
      "Features Train dataset shape: (7027, 10000), \n",
      "FeaturesTest dataset shape: (1405, 10000)\n",
      "\n",
      "Epoch 00001: val_accuracy improved from -inf to 0.85979, saving model to models\\binary_classfiier\\dl\\merged_descr\\model_5.h5\n",
      "\n",
      "Epoch 00002: val_accuracy improved from 0.85979 to 0.86121, saving model to models\\binary_classfiier\\dl\\merged_descr\\model_5.h5\n",
      "\n",
      "Epoch 00003: val_accuracy did not improve from 0.86121\n",
      "\n",
      "Epoch 00004: val_accuracy improved from 0.86121 to 0.86335, saving model to models\\binary_classfiier\\dl\\merged_descr\\model_5.h5\n",
      "\n",
      "Epoch 00005: val_accuracy did not improve from 0.86335\n",
      "\n",
      "Epoch 00006: val_accuracy did not improve from 0.86335\n",
      "\n",
      "Epoch 00007: val_accuracy did not improve from 0.86335\n",
      "\n",
      "Epoch 00008: val_accuracy did not improve from 0.86335\n",
      "\n",
      "Epoch 00009: val_accuracy did not improve from 0.86335\n"
     ]
    },
    {
     "data": {
      "image/png": "[encoded data removed]",
      "text/plain": [
       "<Figure size 360x360 with 1 Axes>"
      ]
     },
     "metadata": {},
     "output_type": "display_data"
    },
    {
     "name": "stdout",
     "output_type": "stream",
     "text": [
      "44/44 [==============================] - 0s 8ms/step - loss: 0.3407 - accuracy: 0.8633\n",
      "Testing Accuracy:  86.3345205783844\n",
      "\n",
      "Train dataset shape: (7027, 17779), \n",
      "Test dataset shape: (1405, 17779)\n",
      "\n",
      "Features Train dataset shape: (7027, 10000), \n",
      "FeaturesTest dataset shape: (1405, 10000)\n",
      "\n",
      "Epoch 00001: val_accuracy improved from -inf to 0.85552, saving model to models\\binary_classfiier\\dl\\merged_descr\\model_6.h5\n",
      "\n",
      "Epoch 00002: val_accuracy improved from 0.85552 to 0.87117, saving model to models\\binary_classfiier\\dl\\merged_descr\\model_6.h5\n",
      "\n",
      "Epoch 00003: val_accuracy improved from 0.87117 to 0.87829, saving model to models\\binary_classfiier\\dl\\merged_descr\\model_6.h5\n",
      "\n",
      "Epoch 00004: val_accuracy did not improve from 0.87829\n",
      "\n",
      "Epoch 00005: val_accuracy did not improve from 0.87829\n",
      "\n",
      "Epoch 00006: val_accuracy did not improve from 0.87829\n",
      "\n",
      "Epoch 00007: val_accuracy did not improve from 0.87829\n",
      "\n",
      "Epoch 00008: val_accuracy did not improve from 0.87829\n",
      "\n",
      "Epoch 00009: val_accuracy did not improve from 0.87829\n",
      "\n",
      "Epoch 00010: val_accuracy did not improve from 0.87829\n"
     ]
    },
    {
     "data": {
      "image/png": "[encoded data removed]",
      "text/plain": [
       "<Figure size 360x360 with 1 Axes>"
      ]
     },
     "metadata": {},
     "output_type": "display_data"
    },
    {
     "name": "stdout",
     "output_type": "stream",
     "text": [
      "44/44 [==============================] - 0s 7ms/step - loss: 0.3085 - accuracy: 0.8783\n",
      "Testing Accuracy:  87.82917857170105\n"
     ]
    }
   ],
   "source": [
    "from pathlib import Path\n",
    "from sklearn.model_selection import StratifiedKFold\n",
    "from sklearn.feature_selection import SelectKBest, f_classif\n",
    "from sklearn.feature_extraction.text import TfidfVectorizer\n",
    "\n",
    "\n",
    "def get_model_name(k):\n",
    "    return f'model_{k}.h5'\n",
    "\n",
    "NUM_SPLITS = 6\n",
    "EPOCHS = 20\n",
    "save_dir = Path('./models/binary_classfiier/dl/merged_descr')\n",
    "fold_var = 1\n",
    "NGRAM_RANGE = (1, 2)\n",
    "TOP_K = 10000\n",
    "TOKEN_MODE = 'word'\n",
    "MIN_DOC_FREQ = 2\n",
    "NUM_CLASSES = 2\n",
    "\n",
    "kwargs = {\n",
    "        'ngram_range' : NGRAM_RANGE,\n",
    "        'dtype' : 'int32',\n",
    "        'strip_accents' : 'unicode',\n",
    "        'decode_error' : 'replace',\n",
    "        'analyzer' : TOKEN_MODE,\n",
    "        'min_df' : MIN_DOC_FREQ\n",
    "    }\n",
    "\n",
    "val_accs = []\n",
    "skf = StratifiedKFold(n_splits=NUM_SPLITS, shuffle=True, random_state=0)\n",
    "\n",
    "for train_indices, test_indices in skf.split(X, y):\n",
    "    X_train_split, X_test_split = X[train_indices], X[test_indices]\n",
    "    y_train_split, y_test_split = y[train_indices], y[test_indices]\n",
    "    vectorizer = TfidfVectorizer(**kwargs)\n",
    "    X_train_vec = vectorizer.fit_transform(X_train_split)\n",
    "    X_test_vec = vectorizer.transform(X_test_split)\n",
    "    print(f\"\\nTrain dataset shape: {X_train_vec.shape}, \\nTest dataset shape: {X_test_vec.shape}\")\n",
    "\t\n",
    "    selector = SelectKBest(f_classif, k=min(TOP_K, X_train_vec.shape[1]))\n",
    "    selector.fit(X_train_vec, y_train_split)\n",
    "    X_train_vec = selector.transform(X_train_vec).astype('float32')\n",
    "    X_test_vec = selector.transform(X_test_vec).astype('float32')\n",
    "    X_train_vec = X_train_vec.toarray()\n",
    "    X_test_vec = X_test_vec.toarray()\n",
    "\n",
    "    print(f\"\\nFeatures Train dataset shape: {X_train_vec.shape}, \\nFeaturesTest dataset shape: {X_test_vec.shape}\")\n",
    "    model_ = None\n",
    "    model_ = Sequential([   \n",
    "        Dense(20, activation='relu', input_shape=X_train_vec.shape[1:]),\n",
    "        Dropout(0.5),\n",
    "        Dense(20, activation='relu'),\n",
    "        Dropout(0.5),\n",
    "        Dense(1, activation='sigmoid')\n",
    "    ])\n",
    "\n",
    "    model_.compile(\n",
    "        loss = 'binary_crossentropy',\n",
    "        optimizer = 'adam',\n",
    "        metrics = ['accuracy']\n",
    "    )\n",
    "    \n",
    "    checkpoint = tensorflow.keras.callbacks.ModelCheckpoint(save_dir / get_model_name(fold_var),\n",
    "                                                            monitor='val_accuracy',\n",
    "                                                            verbose=1,\n",
    "                                                            save_best_only=True,\n",
    "                                                            mode='max')\n",
    "\n",
    "    h_ = model_.fit(\n",
    "            X_train_vec, y_train_split,\n",
    "            validation_data = (X_test_vec, y_test_split),  # do not use the test data for validation to prevent data leakage, we only use to test at the model in the end\n",
    "            epochs = EPOCHS,\n",
    "            callbacks = [checkpoint, early_stop],\n",
    "            verbose = False)\n",
    "    \n",
    "    model_.load_weights(save_dir / get_model_name(fold_var))\n",
    "    plot_learning_curve(h_)\n",
    "    loss, acc = model_.evaluate(X_test_vec, y_test_split)\n",
    "    print(\"Testing Accuracy: \", acc*100)\n",
    "    val_accs.append(acc)\n",
    "    tensorflow.keras.backend.clear_session()\n",
    "    fold_var += 1"
   ]
  },
  {
   "cell_type": "code",
   "execution_count": 75,
   "metadata": {},
   "outputs": [
    {
     "name": "stdout",
     "output_type": "stream",
     "text": [
      "Testing Accuracy:  86.3970955212911\n"
     ]
    }
   ],
   "source": [
    "print(\"Testing Accuracy: \", np.mean(val_accs)*100)   # average k fold accuracy"
   ]
  },
  {
   "cell_type": "markdown",
   "metadata": {},
   "source": [
    "<h3><ul>\n",
    "    <li><strong><span style=\"font-family: 'Trebuchet MS', Helvetica, sans-serif;\">Metrics: </span></strong></li>\n",
    "</ul></h3>\n",
    "\n",
    "<table style=\"width:100%\">\n",
    "  <tr>\n",
    "    <th>Model</th>\n",
    "    <th>Test Accuracy</th>\n",
    "  </tr>\n",
    "  <tr>\n",
    "    <td>Simple Feed-Forward Net using Embedding Layer</td>\n",
    "    <td>86.25%</td>\n",
    "  </tr>\n",
    "<tr>\n",
    "    <td>Feed-Forward NN + Batch Norm</td>\n",
    "    <td>83.76%</td>\n",
    "  </tr>\n",
    "<tr>\n",
    "    <td>Feed-Forward NN + Dropout</td>\n",
    "    <td>85.83%</td>\n",
    "  </tr>\n",
    "    <tr>\n",
    "    <td>Feed-Forward NN + Pre-trained GloVe embeddings</td>\n",
    "    <td>82.75%</td>\n",
    "  </tr>\n",
    "  <tr>\n",
    "    <td>LSTM</td>\n",
    "    <td>65.44%</td>\n",
    "  </tr>\n",
    "    \n",
    "  <tr>\n",
    "    <td>Bi-Directional LSTM</td>\n",
    "    <td>85.24%</td>\n",
    "  </tr>\n",
    "<tr>\n",
    "    <td>Convolution Blocks (Dimensionality Reduction) + LSTM</td>\n",
    "    <td>84.47%</td>\n",
    "  </tr>\n",
    "    <tr>\n",
    "    <td>Convolution Blocks (Dimensionality Reduction) + Bi-LSTM</td>\n",
    "    <td>85.00%</td>\n",
    "  </tr>\n",
    "<tr>\n",
    "    <td>TfIdf Vectors + Feature Selection + Feed-forward Neural Net</td>\n",
    "    <td>85.77%</td>\n",
    "  </tr>\n",
    "<tr>\n",
    "    <td>Stratified KFold Validation + TfIdf Vectors + Feature Selection + +Feed-forward Neural Net</td>\n",
    "    <td>86.40%</td>\n",
    "  </tr>\n",
    "</table>"
   ]
  }
 ],
 "metadata": {
  "kernelspec": {
   "display_name": "Python 3",
   "language": "python",
   "name": "python3"
  },
  "language_info": {
   "codemirror_mode": {
    "name": "ipython",
    "version": 3
   },
   "file_extension": ".py",
   "mimetype": "text/x-python",
   "name": "python",
   "nbconvert_exporter": "python",
   "pygments_lexer": "ipython3",
   "version": "3.8.5"
  }
 },
 "nbformat": 4,
 "nbformat_minor": 4
}
