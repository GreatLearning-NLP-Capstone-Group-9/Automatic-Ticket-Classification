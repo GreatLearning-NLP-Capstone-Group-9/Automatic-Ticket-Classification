{
 "cells": [
  {
   "cell_type": "markdown",
   "metadata": {
    "id": "i03gAv7YL4Zc"
   },
   "source": [
    "## Data Augmentation with MarianMT using Back-Translation"
   ]
  },
  {
   "cell_type": "markdown",
   "metadata": {
    "id": "jfzqY83nNi9B"
   },
   "source": [
    "### Initialize the models for English <-> Foreign Languages\n"
   ]
  },
  {
   "cell_type": "code",
   "execution_count": 1,
   "metadata": {
    "id": "LOdiKZw8Mlmr"
   },
   "outputs": [
    {
     "name": "stderr",
     "output_type": "stream",
     "text": [
      "Some weights of MarianMTModel were not initialized from the model checkpoint at Helsinki-NLP/opus-mt-en-ROMANCE and are newly initialized: ['lm_head.weight']\n",
      "You should probably TRAIN this model on a down-stream task to be able to use it for predictions and inference.\n",
      "Some weights of MarianMTModel were not initialized from the model checkpoint at Helsinki-NLP/opus-mt-ROMANCE-en and are newly initialized: ['lm_head.weight']\n",
      "You should probably TRAIN this model on a down-stream task to be able to use it for predictions and inference.\n"
     ]
    }
   ],
   "source": [
    "import warnings\n",
    "warnings.filterwarnings('ignore')\n",
    "\n",
    "import pandas as pd\n",
    "from tqdm import trange\n",
    "from transformers import MarianMTModel, MarianTokenizer\n",
    "\n",
    "target_model_name = 'Helsinki-NLP/opus-mt-en-ROMANCE'\n",
    "target_tokenizer = MarianTokenizer.from_pretrained(target_model_name)\n",
    "target_model = MarianMTModel.from_pretrained(target_model_name)\n",
    "\n",
    "\n",
    "en_model_name = 'Helsinki-NLP/opus-mt-ROMANCE-en'\n",
    "en_tokenizer = MarianTokenizer.from_pretrained(en_model_name)\n",
    "en_model = MarianMTModel.from_pretrained(en_model_name)"
   ]
  },
  {
   "cell_type": "code",
   "execution_count": 2,
   "metadata": {
    "id": "Znzwr4ESMl8-"
   },
   "outputs": [],
   "source": [
    "def translate(texts, model, tokenizer, language=\"fr\"):\n",
    "    \"\"\"Prepare the text data into appropriate format for the model\"\"\"\n",
    "    template = lambda text: f\"{text}\" if language == \"en\" else f\">>{language}<< {text}\"\n",
    "    src_texts = [template(text) for text in texts]\n",
    "\n",
    "    # Tokenize the texts\n",
    "    encoded = tokenizer.prepare_seq2seq_batch(src_texts,\n",
    "                                              return_tensors='pt')\n",
    "    \n",
    "    # Generate translation using model\n",
    "    translated = model.generate(**encoded)\n",
    "\n",
    "    # Convert the generated tokens indices back into text\n",
    "    translated_texts = tokenizer.batch_decode(translated, skip_special_tokens=True)\n",
    "    \n",
    "    return translated_texts"
   ]
  },
  {
   "cell_type": "code",
   "execution_count": 3,
   "metadata": {
    "id": "x4qAFGoxMCIe"
   },
   "outputs": [],
   "source": [
    "def back_translate(texts, target_lang=\"fr\", source_lang=\"en\"):\n",
    "    \"\"\"translate to target language and back to source language\"\"\"\n",
    "    fr_texts = translate(texts, target_model, target_tokenizer, \n",
    "                         language=target_lang)\n",
    "\n",
    "    # Translate from target language back to source language\n",
    "    back_translated_texts = translate(fr_texts, en_model, en_tokenizer, \n",
    "                                      language=source_lang)\n",
    "    \n",
    "    back_translated_texts = [t for t in back_translated_texts if t not in texts]\n",
    "    return back_translated_texts"
   ]
  },
  {
   "cell_type": "markdown",
   "metadata": {
    "id": "ukCriTa_NBDD"
   },
   "source": [
    "### Perform Augmentation using English <-> Spanish\n"
   ]
  },
  {
   "cell_type": "code",
   "execution_count": 4,
   "metadata": {
    "id": "pf50Gr0uMqPU"
   },
   "outputs": [],
   "source": [
    "en_texts = ['Cannot access website', 'I hated the food', \"I can't login to my vpn\"]"
   ]
  },
  {
   "cell_type": "code",
   "execution_count": 5,
   "metadata": {
    "id": "S02z5qU3Mqft"
   },
   "outputs": [
    {
     "name": "stdout",
     "output_type": "stream",
     "text": [
      "['Cannot access the website', 'I hated food.', \"I can't access my vpn\"]\n"
     ]
    }
   ],
   "source": [
    "aug_texts = back_translate(en_texts, source_lang=\"en\", target_lang=\"es\")\n",
    "print(aug_texts)"
   ]
  },
  {
   "cell_type": "markdown",
   "metadata": {
    "id": "YmJr3LJnNCnC"
   },
   "source": [
    "### Perform Augmentation using English <-> French\n",
    "\n"
   ]
  },
  {
   "cell_type": "code",
   "execution_count": 6,
   "metadata": {
    "id": "iCoE4ZWsMrx_"
   },
   "outputs": [
    {
     "name": "stdout",
     "output_type": "stream",
     "text": [
      "['Unable to access website', 'I hated food.', \"I can't connect to my vpn\"]\n"
     ]
    }
   ],
   "source": [
    "aug_texts = back_translate(en_texts, source_lang=\"en\", target_lang=\"fr\")\n",
    "print(aug_texts)"
   ]
  },
  {
   "cell_type": "code",
   "execution_count": 7,
   "metadata": {
    "id": "9meRHgeiRH21"
   },
   "outputs": [],
   "source": [
    "dataset = pd.read_csv('./data/preprocessed_data_l123.csv')"
   ]
  },
  {
   "cell_type": "code",
   "execution_count": 8,
   "metadata": {
    "id": "0eEqB8mDZhVG"
   },
   "outputs": [],
   "source": [
    "minority_class_descr = dataset[dataset.label == 1].translated_description.tolist()"
   ]
  },
  {
   "cell_type": "code",
   "execution_count": 9,
   "metadata": {
    "id": "QtDZV_VxhoHx"
   },
   "outputs": [
    {
     "data": {
      "text/plain": [
       "2514"
      ]
     },
     "execution_count": 9,
     "metadata": {},
     "output_type": "execute_result"
    }
   ],
   "source": [
    "len(minority_class_descr)"
   ]
  },
  {
   "cell_type": "code",
   "execution_count": 10,
   "metadata": {
    "id": "6DQ2E3YehwKi"
   },
   "outputs": [
    {
     "name": "stderr",
     "output_type": "stream",
     "text": [
      "100%|███████████████████████████████████████████████████████████████████████████| 838/838 [3:23:39<00:00, 14.58s/it]\n"
     ]
    },
    {
     "data": {
      "text/plain": [
       "1676"
      ]
     },
     "execution_count": 10,
     "metadata": {},
     "output_type": "execute_result"
    }
   ],
   "source": [
    "size = 3\n",
    "augmented = list()\n",
    "for i in trange(len(minority_class_descr)//size):\n",
    "    subset = minority_class_descr[i*size:(i+1)*size]\n",
    "    augmented.append(back_translate(subset, source_lang=\"en\", target_lang=\"es\"))\n",
    "    augmented.append(back_translate(subset, source_lang=\"en\", target_lang=\"es\"))\n",
    "\n",
    "len(augmented)"
   ]
  },
  {
   "cell_type": "code",
   "execution_count": null,
   "metadata": {},
   "outputs": [],
   "source": []
  },
  {
   "cell_type": "code",
   "execution_count": 15,
   "metadata": {
    "id": "9gGQ5iW0XeSV"
   },
   "outputs": [
    {
     "data": {
      "text/plain": [
       "4834"
      ]
     },
     "execution_count": 15,
     "metadata": {},
     "output_type": "execute_result"
    }
   ],
   "source": [
    "augmented = [i for j in augmented for i in j]\n",
    "augmented = [i for i in augmented if i not in minority_class_descr]\n",
    "len(augmented)"
   ]
  },
  {
   "cell_type": "code",
   "execution_count": 20,
   "metadata": {},
   "outputs": [
    {
     "data": {
      "text/plain": [
       "0    5985\n",
       "1    2514\n",
       "Name: label, dtype: int64"
      ]
     },
     "execution_count": 20,
     "metadata": {},
     "output_type": "execute_result"
    }
   ],
   "source": [
    "dataset.label.value_counts()"
   ]
  },
  {
   "cell_type": "code",
   "execution_count": 30,
   "metadata": {
    "id": "Acmnh60xaQut"
   },
   "outputs": [
    {
     "data": {
      "text/plain": [
       "0       event critical hostname company with value mou...\n",
       "1       duplicate soft network two devices try sharing...\n",
       "2       problem solving printer work printer replaceme...\n",
       "3       event critical hostname company with value mou...\n",
       "4       duplicate soft network two devices try sharing...\n",
       "                              ...                        \n",
       "4829    no it's working you can not access macne finis...\n",
       "4830      multiple pcs cannot open prgramdntyme cnc range\n",
       "4831            come receive e-mail send zz e-mail advise\n",
       "4832    no it's working you can not access macne finis...\n",
       "4833      multiple pcs cannot open prgramdntyme cnc range\n",
       "Length: 4834, dtype: object"
      ]
     },
     "execution_count": 30,
     "metadata": {},
     "output_type": "execute_result"
    }
   ],
   "source": [
    "pd.Series(augmented)"
   ]
  },
  {
   "cell_type": "code",
   "execution_count": 41,
   "metadata": {},
   "outputs": [
    {
     "data": {
      "text/html": [
       "<div>\n",
       "<style scoped>\n",
       "    .dataframe tbody tr th:only-of-type {\n",
       "        vertical-align: middle;\n",
       "    }\n",
       "\n",
       "    .dataframe tbody tr th {\n",
       "        vertical-align: top;\n",
       "    }\n",
       "\n",
       "    .dataframe thead th {\n",
       "        text-align: right;\n",
       "    }\n",
       "</style>\n",
       "<table border=\"1\" class=\"dataframe\">\n",
       "  <thead>\n",
       "    <tr style=\"text-align: right;\">\n",
       "      <th></th>\n",
       "      <th>translated_description</th>\n",
       "      <th>keywords</th>\n",
       "      <th>short_description</th>\n",
       "      <th>description</th>\n",
       "      <th>group</th>\n",
       "      <th>cleaned_description</th>\n",
       "      <th>cleaned_short_description</th>\n",
       "      <th>merged_description</th>\n",
       "      <th>char_length</th>\n",
       "      <th>word_length</th>\n",
       "      <th>short_char_length</th>\n",
       "      <th>short_word_length</th>\n",
       "      <th>language</th>\n",
       "      <th>language_confidence</th>\n",
       "      <th>label</th>\n",
       "    </tr>\n",
       "  </thead>\n",
       "  <tbody>\n",
       "    <tr>\n",
       "      <th>0</th>\n",
       "      <td>event critical hostname company with value mou...</td>\n",
       "      <td>NaN</td>\n",
       "      <td>NaN</td>\n",
       "      <td>NaN</td>\n",
       "      <td>NaN</td>\n",
       "      <td>NaN</td>\n",
       "      <td>NaN</td>\n",
       "      <td>NaN</td>\n",
       "      <td>NaN</td>\n",
       "      <td>NaN</td>\n",
       "      <td>NaN</td>\n",
       "      <td>NaN</td>\n",
       "      <td>NaN</td>\n",
       "      <td>NaN</td>\n",
       "      <td>1</td>\n",
       "    </tr>\n",
       "    <tr>\n",
       "      <th>1</th>\n",
       "      <td>duplicate soft network two devices try sharing...</td>\n",
       "      <td>NaN</td>\n",
       "      <td>NaN</td>\n",
       "      <td>NaN</td>\n",
       "      <td>NaN</td>\n",
       "      <td>NaN</td>\n",
       "      <td>NaN</td>\n",
       "      <td>NaN</td>\n",
       "      <td>NaN</td>\n",
       "      <td>NaN</td>\n",
       "      <td>NaN</td>\n",
       "      <td>NaN</td>\n",
       "      <td>NaN</td>\n",
       "      <td>NaN</td>\n",
       "      <td>1</td>\n",
       "    </tr>\n",
       "    <tr>\n",
       "      <th>2</th>\n",
       "      <td>problem solving printer work printer replaceme...</td>\n",
       "      <td>NaN</td>\n",
       "      <td>NaN</td>\n",
       "      <td>NaN</td>\n",
       "      <td>NaN</td>\n",
       "      <td>NaN</td>\n",
       "      <td>NaN</td>\n",
       "      <td>NaN</td>\n",
       "      <td>NaN</td>\n",
       "      <td>NaN</td>\n",
       "      <td>NaN</td>\n",
       "      <td>NaN</td>\n",
       "      <td>NaN</td>\n",
       "      <td>NaN</td>\n",
       "      <td>1</td>\n",
       "    </tr>\n",
       "    <tr>\n",
       "      <th>3</th>\n",
       "      <td>event critical hostname company with value mou...</td>\n",
       "      <td>NaN</td>\n",
       "      <td>NaN</td>\n",
       "      <td>NaN</td>\n",
       "      <td>NaN</td>\n",
       "      <td>NaN</td>\n",
       "      <td>NaN</td>\n",
       "      <td>NaN</td>\n",
       "      <td>NaN</td>\n",
       "      <td>NaN</td>\n",
       "      <td>NaN</td>\n",
       "      <td>NaN</td>\n",
       "      <td>NaN</td>\n",
       "      <td>NaN</td>\n",
       "      <td>1</td>\n",
       "    </tr>\n",
       "    <tr>\n",
       "      <th>4</th>\n",
       "      <td>duplicate soft network two devices try sharing...</td>\n",
       "      <td>NaN</td>\n",
       "      <td>NaN</td>\n",
       "      <td>NaN</td>\n",
       "      <td>NaN</td>\n",
       "      <td>NaN</td>\n",
       "      <td>NaN</td>\n",
       "      <td>NaN</td>\n",
       "      <td>NaN</td>\n",
       "      <td>NaN</td>\n",
       "      <td>NaN</td>\n",
       "      <td>NaN</td>\n",
       "      <td>NaN</td>\n",
       "      <td>NaN</td>\n",
       "      <td>1</td>\n",
       "    </tr>\n",
       "    <tr>\n",
       "      <th>...</th>\n",
       "      <td>...</td>\n",
       "      <td>...</td>\n",
       "      <td>...</td>\n",
       "      <td>...</td>\n",
       "      <td>...</td>\n",
       "      <td>...</td>\n",
       "      <td>...</td>\n",
       "      <td>...</td>\n",
       "      <td>...</td>\n",
       "      <td>...</td>\n",
       "      <td>...</td>\n",
       "      <td>...</td>\n",
       "      <td>...</td>\n",
       "      <td>...</td>\n",
       "      <td>...</td>\n",
       "    </tr>\n",
       "    <tr>\n",
       "      <th>4829</th>\n",
       "      <td>no it's working you can not access macne finis...</td>\n",
       "      <td>NaN</td>\n",
       "      <td>NaN</td>\n",
       "      <td>NaN</td>\n",
       "      <td>NaN</td>\n",
       "      <td>NaN</td>\n",
       "      <td>NaN</td>\n",
       "      <td>NaN</td>\n",
       "      <td>NaN</td>\n",
       "      <td>NaN</td>\n",
       "      <td>NaN</td>\n",
       "      <td>NaN</td>\n",
       "      <td>NaN</td>\n",
       "      <td>NaN</td>\n",
       "      <td>1</td>\n",
       "    </tr>\n",
       "    <tr>\n",
       "      <th>4830</th>\n",
       "      <td>multiple pcs cannot open prgramdntyme cnc range</td>\n",
       "      <td>NaN</td>\n",
       "      <td>NaN</td>\n",
       "      <td>NaN</td>\n",
       "      <td>NaN</td>\n",
       "      <td>NaN</td>\n",
       "      <td>NaN</td>\n",
       "      <td>NaN</td>\n",
       "      <td>NaN</td>\n",
       "      <td>NaN</td>\n",
       "      <td>NaN</td>\n",
       "      <td>NaN</td>\n",
       "      <td>NaN</td>\n",
       "      <td>NaN</td>\n",
       "      <td>1</td>\n",
       "    </tr>\n",
       "    <tr>\n",
       "      <th>4831</th>\n",
       "      <td>come receive e-mail send zz e-mail advise</td>\n",
       "      <td>NaN</td>\n",
       "      <td>NaN</td>\n",
       "      <td>NaN</td>\n",
       "      <td>NaN</td>\n",
       "      <td>NaN</td>\n",
       "      <td>NaN</td>\n",
       "      <td>NaN</td>\n",
       "      <td>NaN</td>\n",
       "      <td>NaN</td>\n",
       "      <td>NaN</td>\n",
       "      <td>NaN</td>\n",
       "      <td>NaN</td>\n",
       "      <td>NaN</td>\n",
       "      <td>1</td>\n",
       "    </tr>\n",
       "    <tr>\n",
       "      <th>4832</th>\n",
       "      <td>no it's working you can not access macne finis...</td>\n",
       "      <td>NaN</td>\n",
       "      <td>NaN</td>\n",
       "      <td>NaN</td>\n",
       "      <td>NaN</td>\n",
       "      <td>NaN</td>\n",
       "      <td>NaN</td>\n",
       "      <td>NaN</td>\n",
       "      <td>NaN</td>\n",
       "      <td>NaN</td>\n",
       "      <td>NaN</td>\n",
       "      <td>NaN</td>\n",
       "      <td>NaN</td>\n",
       "      <td>NaN</td>\n",
       "      <td>1</td>\n",
       "    </tr>\n",
       "    <tr>\n",
       "      <th>4833</th>\n",
       "      <td>multiple pcs cannot open prgramdntyme cnc range</td>\n",
       "      <td>NaN</td>\n",
       "      <td>NaN</td>\n",
       "      <td>NaN</td>\n",
       "      <td>NaN</td>\n",
       "      <td>NaN</td>\n",
       "      <td>NaN</td>\n",
       "      <td>NaN</td>\n",
       "      <td>NaN</td>\n",
       "      <td>NaN</td>\n",
       "      <td>NaN</td>\n",
       "      <td>NaN</td>\n",
       "      <td>NaN</td>\n",
       "      <td>NaN</td>\n",
       "      <td>1</td>\n",
       "    </tr>\n",
       "  </tbody>\n",
       "</table>\n",
       "<p>4834 rows × 15 columns</p>\n",
       "</div>"
      ],
      "text/plain": [
       "                                 translated_description keywords  \\\n",
       "0     event critical hostname company with value mou...      NaN   \n",
       "1     duplicate soft network two devices try sharing...      NaN   \n",
       "2     problem solving printer work printer replaceme...      NaN   \n",
       "3     event critical hostname company with value mou...      NaN   \n",
       "4     duplicate soft network two devices try sharing...      NaN   \n",
       "...                                                 ...      ...   \n",
       "4829  no it's working you can not access macne finis...      NaN   \n",
       "4830    multiple pcs cannot open prgramdntyme cnc range      NaN   \n",
       "4831          come receive e-mail send zz e-mail advise      NaN   \n",
       "4832  no it's working you can not access macne finis...      NaN   \n",
       "4833    multiple pcs cannot open prgramdntyme cnc range      NaN   \n",
       "\n",
       "     short_description description group cleaned_description  \\\n",
       "0                  NaN         NaN   NaN                 NaN   \n",
       "1                  NaN         NaN   NaN                 NaN   \n",
       "2                  NaN         NaN   NaN                 NaN   \n",
       "3                  NaN         NaN   NaN                 NaN   \n",
       "4                  NaN         NaN   NaN                 NaN   \n",
       "...                ...         ...   ...                 ...   \n",
       "4829               NaN         NaN   NaN                 NaN   \n",
       "4830               NaN         NaN   NaN                 NaN   \n",
       "4831               NaN         NaN   NaN                 NaN   \n",
       "4832               NaN         NaN   NaN                 NaN   \n",
       "4833               NaN         NaN   NaN                 NaN   \n",
       "\n",
       "     cleaned_short_description merged_description char_length word_length  \\\n",
       "0                          NaN                NaN         NaN         NaN   \n",
       "1                          NaN                NaN         NaN         NaN   \n",
       "2                          NaN                NaN         NaN         NaN   \n",
       "3                          NaN                NaN         NaN         NaN   \n",
       "4                          NaN                NaN         NaN         NaN   \n",
       "...                        ...                ...         ...         ...   \n",
       "4829                       NaN                NaN         NaN         NaN   \n",
       "4830                       NaN                NaN         NaN         NaN   \n",
       "4831                       NaN                NaN         NaN         NaN   \n",
       "4832                       NaN                NaN         NaN         NaN   \n",
       "4833                       NaN                NaN         NaN         NaN   \n",
       "\n",
       "     short_char_length short_word_length language language_confidence  label  \n",
       "0                  NaN               NaN      NaN                 NaN      1  \n",
       "1                  NaN               NaN      NaN                 NaN      1  \n",
       "2                  NaN               NaN      NaN                 NaN      1  \n",
       "3                  NaN               NaN      NaN                 NaN      1  \n",
       "4                  NaN               NaN      NaN                 NaN      1  \n",
       "...                ...               ...      ...                 ...    ...  \n",
       "4829               NaN               NaN      NaN                 NaN      1  \n",
       "4830               NaN               NaN      NaN                 NaN      1  \n",
       "4831               NaN               NaN      NaN                 NaN      1  \n",
       "4832               NaN               NaN      NaN                 NaN      1  \n",
       "4833               NaN               NaN      NaN                 NaN      1  \n",
       "\n",
       "[4834 rows x 15 columns]"
      ]
     },
     "execution_count": 41,
     "metadata": {},
     "output_type": "execute_result"
    }
   ],
   "source": [
    "augmented_df = pd.DataFrame(columns=dataset.columns)\n",
    "augmented_df.translated_description = augmented\n",
    "augmented_df.label = 1\n",
    "augmented_df"
   ]
  },
  {
   "cell_type": "code",
   "execution_count": 42,
   "metadata": {},
   "outputs": [],
   "source": [
    "augmented_df = pd.concat([dataset, augmented_df])"
   ]
  },
  {
   "cell_type": "code",
   "execution_count": 43,
   "metadata": {},
   "outputs": [
    {
     "data": {
      "text/plain": [
       "(13333, 15)"
      ]
     },
     "execution_count": 43,
     "metadata": {},
     "output_type": "execute_result"
    }
   ],
   "source": [
    "augmented_df.shape"
   ]
  },
  {
   "cell_type": "code",
   "execution_count": 45,
   "metadata": {},
   "outputs": [
    {
     "data": {
      "text/plain": [
       "1    7348\n",
       "0    5985\n",
       "Name: label, dtype: int64"
      ]
     },
     "execution_count": 45,
     "metadata": {},
     "output_type": "execute_result"
    }
   ],
   "source": [
    "augmented_df.label.value_counts()"
   ]
  },
  {
   "cell_type": "code",
   "execution_count": 46,
   "metadata": {},
   "outputs": [],
   "source": [
    "augmented_df.to_csv('./data/augmented_data.csv')"
   ]
  }
 ],
 "metadata": {
  "colab": {
   "collapsed_sections": [],
   "name": "Data_augmentation",
   "provenance": []
  },
  "kernelspec": {
   "display_name": "Python 3",
   "language": "python",
   "name": "python3"
  },
  "language_info": {
   "codemirror_mode": {
    "name": "ipython",
    "version": 3
   },
   "file_extension": ".py",
   "mimetype": "text/x-python",
   "name": "python",
   "nbconvert_exporter": "python",
   "pygments_lexer": "ipython3",
   "version": "3.8.5"
  }
 },
 "nbformat": 4,
 "nbformat_minor": 4
}
